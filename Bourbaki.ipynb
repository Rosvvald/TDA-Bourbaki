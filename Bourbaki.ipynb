{
  "nbformat": 4,
  "nbformat_minor": 0,
  "metadata": {
    "colab": {
      "provenance": [],
      "authorship_tag": "ABX9TyMMXOhsuRWkSuEKjtKsmavD",
      "include_colab_link": true
    },
    "kernelspec": {
      "name": "python3",
      "display_name": "Python 3"
    },
    "language_info": {
      "name": "python"
    }
  },
  "cells": [
    {
      "cell_type": "markdown",
      "metadata": {
        "id": "view-in-github",
        "colab_type": "text"
      },
      "source": [
        "<a href=\"https://colab.research.google.com/github/Rosvvald/TDA-Bourbaki/blob/main/Bourbaki.ipynb\" target=\"_parent\"><img src=\"https://colab.research.google.com/assets/colab-badge.svg\" alt=\"Open In Colab\"/></a>"
      ]
    },
    {
      "cell_type": "markdown",
      "source": [
        "## **Homología persistente aplicada a MNIST usando Dionysus**"
      ],
      "metadata": {
        "id": "I69SEstOyjyA"
      }
    },
    {
      "cell_type": "markdown",
      "source": [
        "El día de hoy aplicaremos la teoría vista las sesiones anteriores a un problema de clasificación de imágenes (preprocesamiento en realidad). Usaremos la biblioteca especializada Dionysus, la cual tenemos que instalar primero"
      ],
      "metadata": {
        "id": "D_WAh3a9y1WY"
      }
    },
    {
      "cell_type": "code",
      "execution_count": null,
      "metadata": {
        "id": "G2PMjcDOL53H",
        "colab": {
          "base_uri": "https://localhost:8080/"
        },
        "outputId": "8addbebe-d446-4685-8c60-5285a1bdc46e"
      },
      "outputs": [
        {
          "output_type": "stream",
          "name": "stdout",
          "text": [
            "Using pip 23.1.2 from /usr/local/lib/python3.10/dist-packages/pip (python 3.10)\n",
            "Requirement already satisfied: dionysus in /usr/local/lib/python3.10/dist-packages (2.0.10)\n"
          ]
        }
      ],
      "source": [
        "pip install --verbose dionysus"
      ]
    },
    {
      "cell_type": "markdown",
      "source": [
        "También importamos algunas bibliotecas útiles para el problema\n"
      ],
      "metadata": {
        "id": "MrOZ1TJ3yiS3"
      }
    },
    {
      "cell_type": "code",
      "source": [
        "import dionysus as d\n",
        "import numpy as np\n",
        "import math\n",
        "import matplotlib.pyplot as plt\n",
        "import networkx as nx\n",
        "from skimage.morphology import skeletonize\n",
        "from sklearn import datasets"
      ],
      "metadata": {
        "id": "5haT7Ue9N31v"
      },
      "execution_count": null,
      "outputs": []
    },
    {
      "cell_type": "code",
      "source": [
        "mkdir \"data\"\n"
      ],
      "metadata": {
        "id": "NX1OCMTQeJVD"
      },
      "execution_count": null,
      "outputs": []
    },
    {
      "cell_type": "code",
      "source": [
        "cd \"data\""
      ],
      "metadata": {
        "id": "h02j4IJ7fKuy",
        "colab": {
          "base_uri": "https://localhost:8080/"
        },
        "outputId": "d476ac5f-b28e-4079-b888-e49b5a60bd75"
      },
      "execution_count": null,
      "outputs": [
        {
          "output_type": "stream",
          "name": "stdout",
          "text": [
            "/content/data/data\n"
          ]
        }
      ]
    },
    {
      "cell_type": "markdown",
      "source": [
        "Descarcaremos la base de datos MNIST del sitio *OpenML*, y la guardaremos en el directorio creado en las celdas anteriores."
      ],
      "metadata": {
        "id": "2XSVn-rQzQ_v"
      }
    },
    {
      "cell_type": "code",
      "source": [
        "#!/usr/bin/env python\n",
        "# -*- coding: utf-8 -*-\n",
        "''' prepare_data.py: Saves n_samples images of digits to numpy array.'''\n",
        "\n",
        "#from __future__ import print_function # if you are using Python 2\n",
        "import numpy as np\n",
        "from sklearn.datasets import fetch_openml\n",
        "import sys\n",
        "\n",
        "n_samples = 10000\n",
        "if len(sys.argv) == 2:\n",
        "    print('Setting n_samples to: %i' % (n_samples))\n",
        "    n_samples = int(sys.argv[1])\n",
        "\n",
        "# load data from https://www.openml.org/d/554\n",
        "print('Loading digits...')\n",
        "X, y = fetch_openml('mnist_784', version=1, return_X_y=True)\n",
        "\n",
        "np.save('../data/' + 'X_' + str(n_samples) + '.npy', X[:n_samples])\n",
        "np.save('../data/' + 'y_' + str(n_samples) + '.npy', y[:n_samples])"
      ],
      "metadata": {
        "id": "KUa8LTasbRue",
        "colab": {
          "base_uri": "https://localhost:8080/"
        },
        "outputId": "57c3825e-2a32-4248-c86e-f1dc2c4762bd"
      },
      "execution_count": null,
      "outputs": [
        {
          "output_type": "stream",
          "name": "stdout",
          "text": [
            "Loading digits...\n"
          ]
        },
        {
          "output_type": "stream",
          "name": "stderr",
          "text": [
            "/usr/local/lib/python3.10/dist-packages/sklearn/datasets/_openml.py:968: FutureWarning: The default value of `parser` will change from `'liac-arff'` to `'auto'` in 1.4. You can set `parser='auto'` to silence this warning. Therefore, an `ImportError` will be raised from 1.4 if the dataset is dense and pandas is not installed. Note that the pandas parser may return different data types. See the Notes Section in fetch_openml's API doc for details.\n",
            "  warn(\n"
          ]
        }
      ]
    },
    {
      "cell_type": "markdown",
      "source": [
        "Hacemos la partición"
      ],
      "metadata": {
        "id": "KHOPR5vzzf7h"
      }
    },
    {
      "cell_type": "code",
      "source": [
        "data_X = np.load('../data/X_' + str(n_samples) + '.npy', allow_pickle=True)\n",
        "data_y = np.load('../data/y_'  + str(n_samples) + '.npy', allow_pickle=True)\n"
      ],
      "metadata": {
        "id": "7lAQ4yMohA1N"
      },
      "execution_count": null,
      "outputs": []
    },
    {
      "cell_type": "markdown",
      "source": [
        "Pequeño análisis exploratorio"
      ],
      "metadata": {
        "id": "i2q9ZWcMzkid"
      }
    },
    {
      "cell_type": "code",
      "source": [
        "print(data_X.shape)\n",
        "print(data_y.shape)\n",
        "print(data_X[0].shape)"
      ],
      "metadata": {
        "id": "Hkpb1qnbA8zm",
        "colab": {
          "base_uri": "https://localhost:8080/"
        },
        "outputId": "d855e373-ae43-4d93-b657-0d2e3457ad5f"
      },
      "execution_count": null,
      "outputs": [
        {
          "output_type": "stream",
          "name": "stdout",
          "text": [
            "(10000, 784)\n",
            "(10000,)\n",
            "(784,)\n"
          ]
        }
      ]
    },
    {
      "cell_type": "markdown",
      "source": [
        "A continuación se presentan las funciones usadas para extraer los datos apropiados para los algoritmos de Dionysus"
      ],
      "metadata": {
        "id": "teMKH_s8z1Bo"
      }
    },
    {
      "cell_type": "code",
      "source": [
        "# Obtiene una imagen de la base de datos, indizada con el entero 'n'\n",
        "\n",
        "def get_image(n, plot = False):\n",
        "  img = data_X[n]\n",
        "  img = img.reshape((28,28))\n",
        "  if plot:\n",
        "    plt.imshow(img, cmap=plt.cm.gray_r)\n",
        "    plt.show()\n",
        "  return img"
      ],
      "metadata": {
        "id": "DQHu2O_1W8Qr"
      },
      "execution_count": null,
      "outputs": []
    },
    {
      "cell_type": "code",
      "source": [
        "# Obtiene la imagen en binario de la imagen original\n",
        "\n",
        "def get_binary(img, plot = False):\n",
        "  bi = img != 0\n",
        "  if plot:\n",
        "    plt.imshow(bi, cmap=plt.cm.gray_r)\n",
        "    plt.show()\n",
        "  return bi"
      ],
      "metadata": {
        "id": "65l07GjlNbg1"
      },
      "execution_count": null,
      "outputs": []
    },
    {
      "cell_type": "code",
      "source": [
        "# Se obtiene el esqueleto de la imagen binaria usando el algoritmo de Zhang - Suen\n",
        "\n",
        "def get_sk(bin_img, plot = False):\n",
        "  skeleton = skeletonize(bin_img)\n",
        "  if plot:\n",
        "    plt.imshow(skeleton, cmap=plt.cm.gray_r)\n",
        "    plt.show()\n",
        "  return skeleton\n"
      ],
      "metadata": {
        "id": "g8EZ1hpLN6jn"
      },
      "execution_count": null,
      "outputs": []
    },
    {
      "cell_type": "code",
      "source": [
        "# Función que regresa la matriz de adyacencia, dada un esqueleto\n",
        "\n",
        "def construct_graph(image):\n",
        "    graph = {}\n",
        "    vertices = []\n",
        "    rows, cols = len(image), len(image)\n",
        "    img = image.T\n",
        "\n",
        "    # Añadimos vértices a la gráfica\n",
        "    for i in range(rows):\n",
        "        for j in range(cols):\n",
        "            if img[i][j] == 1:\n",
        "                vertex = (i, j)\n",
        "                graph[vertex] = []\n",
        "                vertices.append(vertex)\n",
        "\n",
        "    # Añadimos aristas entre vértices adyacentes\n",
        "    for vertex in graph.keys():\n",
        "        i, j = vertex\n",
        "        neighbors = get_neighbors(i, j, rows, cols)\n",
        "        for neighbor in neighbors:\n",
        "            if neighbor in graph:\n",
        "                graph[vertex].append(neighbor)\n",
        "    #print(graph)\n",
        "\n",
        "    # Eliminamos los ciclos de dimensión 3 posiblemente creados\n",
        "    remove_cycles_of_length_3(graph)\n",
        "\n",
        "    # Construimos la matriz de adyacencia\n",
        "    adjacency_matrix = np.zeros((len(vertices), len(vertices)), dtype=int)\n",
        "    for i, vertex in enumerate(vertices):\n",
        "        neighbors = graph[vertex]\n",
        "        for neighbor in neighbors:\n",
        "            j = vertices.index(neighbor)\n",
        "            adjacency_matrix[i, j] = 1\n",
        "\n",
        "    G = nx.from_numpy_array(adjacency_matrix)\n",
        "    return G\n",
        "\n",
        "def get_neighbors(i, j, rows, cols):\n",
        "    neighbors = []\n",
        "    directions = [(1,0), (1, 1), (0, 1), (-1, 1), (-1,0), (-1,-1), (0,-1), (1,-1)]\n",
        "\n",
        "    for direction in directions:\n",
        "        ni, nj = i + direction[0], j + direction[1]\n",
        "        if 0 <= ni < rows and 0 <= nj < cols:\n",
        "            neighbors.append((ni, nj))\n",
        "\n",
        "    return neighbors\n",
        "\n",
        "def remove_cycles_of_length_3(graph):\n",
        "    for vertex in graph.keys():\n",
        "        if len(graph[vertex]) == 2:\n",
        "            neighbors = graph[vertex]\n",
        "            if neighbors[0] in graph[neighbors[1]]:\n",
        "                graph[neighbors[1]].remove(vertex)\n",
        "                graph[vertex].remove(neighbors[1])"
      ],
      "metadata": {
        "id": "6uuKam_rYe36"
      },
      "execution_count": null,
      "outputs": []
    },
    {
      "cell_type": "markdown",
      "source": [
        "# **Dionysus**"
      ],
      "metadata": {
        "id": "tvSSDtY-16QY"
      }
    },
    {
      "cell_type": "markdown",
      "source": [
        "Dionysus es una biblioteca que nos permite realizar cálculos de homología persistente básicos usando una sintaxis muy sencilla."
      ],
      "metadata": {
        "id": "3WL55KiN2B8-"
      }
    },
    {
      "cell_type": "markdown",
      "source": [
        "En primer lugar, podemos crear simplices con la función `Simplex`, e indicando el conjunto de vértices que lo conforman"
      ],
      "metadata": {
        "id": "pNE3SxCn2KcO"
      }
    },
    {
      "cell_type": "code",
      "source": [
        "s = d.Simplex([0,1,2])\n",
        "print(type(s))\n",
        "print(s)"
      ],
      "metadata": {
        "colab": {
          "base_uri": "https://localhost:8080/"
        },
        "id": "zGlmgsGo2Zt4",
        "outputId": "cf8e9240-0a34-4fc5-9303-f50b32b74c1c"
      },
      "execution_count": null,
      "outputs": [
        {
          "output_type": "stream",
          "name": "stdout",
          "text": [
            "<class 'dionysus._dionysus.Simplex'>\n",
            "<0,1,2> 0\n"
          ]
        }
      ]
    },
    {
      "cell_type": "markdown",
      "source": [
        "Podemos incluir información en cada simplejo, el valor por default es 0."
      ],
      "metadata": {
        "id": "Ks67pE492jxM"
      }
    },
    {
      "cell_type": "markdown",
      "source": [
        "Podemos crear filtraciones usando la función `Filtration`. Note que, en nuestro caso, podemos realizar la filtración incluyendo un simplejo a la vez"
      ],
      "metadata": {
        "id": "ilQC_pd12prW"
      }
    },
    {
      "cell_type": "code",
      "source": [
        "## Construcción de la filtración por simplejos a partir de la gráfica de la imagen\n",
        "\n",
        "def simp_fil(G):\n",
        "  import time\n",
        "  NV = G.nodes()\n",
        "  EV = G.edges()\n",
        "  simplices = []\n",
        "  number_of = {}\n",
        "\n",
        "  tic = time.time()\n",
        "  for node in NV:\n",
        "    clock = (time.time() - tic) * 1000\n",
        "    simplices.append(([node], clock))\n",
        "    number_of[node] = node\n",
        "\n",
        "  for edge in EV:\n",
        "    clock = (time.time() - tic) * 1000\n",
        "    simplices.append((edge, clock))\n",
        "\n",
        "  f = d.Filtration()\n",
        "  for simplex, time in simplices:\n",
        "    f.append(d.Simplex(simplex, time))\n",
        "\n",
        "  f.sort()\n",
        "\n",
        "  return f\n"
      ],
      "metadata": {
        "id": "OZW7VlRFKF8Y"
      },
      "execution_count": null,
      "outputs": []
    },
    {
      "cell_type": "markdown",
      "source": [
        "Podemos extraer la homología persistente de una filtración de un espacio X, al llamar a la función `homology_persistence()`, la cual acepta una filtración y regresa la homología. Sin embargo, podemos extraer los códigos de barra mediante la función `d.init_diagrams()`, que acepta un objeto de homología y su filtración"
      ],
      "metadata": {
        "id": "WcMmUujv3VUm"
      }
    },
    {
      "cell_type": "code",
      "source": [
        "def betti_barcodes(f):\n",
        "  p_hom = d.homology_persistence(f)\n",
        "  dgms = d.init_diagrams(p_hom, f)\n",
        "\n",
        "  barcodes = []\n",
        "  for i, dgm in enumerate(dgms):\n",
        "    for pt in dgm:\n",
        "      barcodes.append([i, (pt.birth, pt.death)])\n",
        "\n",
        "  return barcodes"
      ],
      "metadata": {
        "id": "tiSFkywCQYHG"
      },
      "execution_count": null,
      "outputs": []
    },
    {
      "cell_type": "code",
      "source": [
        "def extract_features(intervals):\n",
        "    ''' Extracts 4 features:\n",
        "        \tsum_i { x_i * (y_i - x_i) }\n",
        "        \tsum_i { (y_max - y_i) * (y_i - x_i) }\n",
        "        \tsum_i { x_i^2 * (y_i - x_i)^4 }\n",
        "        \tsum_i { (y_max - y_i)^2 * (y_i - x_i)^4 }\n",
        "    From the barcode intervals:\n",
        "        (x1, y1), (x2, y2), ..., (x_n, y_n);\n",
        "    Args:\n",
        "        intervals::list\n",
        "            Betti barcode intervals, for example: [[3.0, inf], [5.0, inf]]\n",
        "    Returns:\n",
        "        features::list\n",
        "            The 4 computed features.\n",
        "    '''\n",
        "    xs = []\n",
        "    ys = []\n",
        "    for interval in intervals:\n",
        "        x = interval[1][0]\n",
        "        y = interval[1][1]\n",
        "        if str(y) == 'inf': # replace the inf with image_size\n",
        "            y = img_size\n",
        "        xs.append(x)\n",
        "        ys.append(y)\n",
        "\n",
        "    f1, f2, f3, f4 = 0., 0., 0., 0.\n",
        "    for i in range(len(xs)):\n",
        "        f1 += xs[i] * (ys[i] - xs[i])\n",
        "        f2 += (max(ys) - ys[i]) * (ys[i] - xs[i])\n",
        "        f3 += math.pow(xs[i], 2) * math.pow(ys[i] - xs[i], 4)\n",
        "        f4 += math.pow(max(ys) - ys[i], 2) * math.pow(ys[i] - xs[i], 4)\n",
        "\n",
        "    return [f1, f2, f3, f4]\n"
      ],
      "metadata": {
        "id": "rIvcpD6AKtdz"
      },
      "execution_count": null,
      "outputs": []
    },
    {
      "cell_type": "code",
      "source": [
        "example = get_image(80, plot = True)\n",
        "imagen = get_binary(example, plot = True)\n",
        "imagen = get_sk(imagen, plot = True)\n",
        "G = construct_graph(imagen)\n",
        "f = simp_fil(G)\n",
        "betti = betti_barcodes(f)\n",
        "#print(extract_features(betti))\n",
        "\n",
        "for interval in betti:\n",
        "  print(\"Dimensión:\", str(interval[0]) + \",\", \"intervalo:\", interval[1])\n"
      ],
      "metadata": {
        "id": "QpJv29BZQ1pp",
        "colab": {
          "base_uri": "https://localhost:8080/",
          "height": 1000
        },
        "outputId": "4e33c277-809f-4123-c917-a442eba5097c"
      },
      "execution_count": null,
      "outputs": [
        {
          "output_type": "display_data",
          "data": {
            "text/plain": [
              "<Figure size 640x480 with 1 Axes>"
            ],
            "image/png": "[encoded data removed]"
          },
          "metadata": {}
        },
        {
          "output_type": "display_data",
          "data": {
            "text/plain": [
              "<Figure size 640x480 with 1 Axes>"
            ],
            "image/png": "[encoded data removed]"
          },
          "metadata": {}
        },
        {
          "output_type": "display_data",
          "data": {
            "text/plain": [
              "<Figure size 640x480 with 1 Axes>"
            ],
            "image/png": "[encoded data removed]"
          },
          "metadata": {}
        },
        {
          "output_type": "stream",
          "name": "stdout",
          "text": [
            "Dimensión: 0, intervalo: (0.00286102294921875, inf)\n",
            "Dimensión: 0, intervalo: (0.0050067901611328125, 0.04839897155761719)\n",
            "Dimensión: 0, intervalo: (0.006198883056640625, 0.05125999450683594)\n",
            "Dimensión: 0, intervalo: (0.00667572021484375, 0.05316734313964844)\n",
            "Dimensión: 0, intervalo: (0.007152557373046875, 0.05459785461425781)\n",
            "Dimensión: 0, intervalo: (0.007867813110351562, 0.05555152893066406)\n",
            "Dimensión: 0, intervalo: (0.009298324584960938, 0.061511993408203125)\n",
            "Dimensión: 0, intervalo: (0.009775161743164062, 0.058650970458984375)\n",
            "Dimensión: 0, intervalo: (0.01049041748046875, 0.049114227294921875)\n",
            "Dimensión: 0, intervalo: (0.011444091796875, 0.05698204040527344)\n",
            "Dimensión: 0, intervalo: (0.012159347534179688, 0.07104873657226562)\n",
            "Dimensión: 0, intervalo: (0.013113021850585938, 0.06532669067382812)\n",
            "Dimensión: 0, intervalo: (0.013828277587890625, 0.06842613220214844)\n",
            "Dimensión: 0, intervalo: (0.01430511474609375, 0.06985664367675781)\n",
            "Dimensión: 0, intervalo: (0.015020370483398438, 0.05936622619628906)\n",
            "Dimensión: 0, intervalo: (0.015735626220703125, 0.05984306335449219)\n",
            "Dimensión: 0, intervalo: (0.016450881958007812, 0.06413459777832031)\n",
            "Dimensión: 0, intervalo: (0.017404556274414062, 0.06604194641113281)\n",
            "Dimensión: 0, intervalo: (0.01811981201171875, 0.07319450378417969)\n",
            "Dimensión: 0, intervalo: (0.019073486328125, 0.07581710815429688)\n",
            "Dimensión: 0, intervalo: (0.019788742065429688, 0.07724761962890625)\n",
            "Dimensión: 0, intervalo: (0.020265579223632812, 0.07915496826171875)\n",
            "Dimensión: 0, intervalo: (0.021457672119140625, 0.08082389831542969)\n",
            "Dimensión: 0, intervalo: (0.022411346435546875, 0.08225440979003906)\n",
            "Dimensión: 0, intervalo: (0.02288818359375, 0.08344650268554688)\n",
            "Dimensión: 0, intervalo: (0.024318695068359375, 0.08702278137207031)\n",
            "Dimensión: 0, intervalo: (0.0247955322265625, 0.08821487426757812)\n",
            "Dimensión: 0, intervalo: (0.025510787963867188, 0.08940696716308594)\n",
            "Dimensión: 0, intervalo: (0.025987625122070312, 0.09083747863769531)\n",
            "Dimensión: 0, intervalo: (0.027179718017578125, 0.09202957153320312)\n",
            "Dimensión: 0, intervalo: (0.02765655517578125, 0.0934600830078125)\n",
            "Dimensión: 0, intervalo: (0.028133392333984375, 0.09489059448242188)\n",
            "Dimensión: 0, intervalo: (0.0286102294921875, 0.09632110595703125)\n",
            "Dimensión: 0, intervalo: (0.029802322387695312, 0.10013580322265625)\n",
            "Dimensión: 0, intervalo: (0.030517578125, 0.10156631469726562)\n",
            "Dimensión: 0, intervalo: (0.031232833862304688, 0.09751319885253906)\n",
            "Dimensión: 0, intervalo: (0.031948089599609375, 0.09870529174804688)\n",
            "Dimensión: 0, intervalo: (0.0324249267578125, 0.10275840759277344)\n",
            "Dimensión: 0, intervalo: (0.03314018249511719, 0.1285076141357422)\n",
            "Dimensión: 0, intervalo: (0.03409385681152344, 0.10418891906738281)\n",
            "Dimensión: 0, intervalo: (0.03504753112792969, 0.133514404296875)\n",
            "Dimensión: 0, intervalo: (0.03600120544433594, 0.1270771026611328)\n",
            "Dimensión: 0, intervalo: (0.03647804260253906, 0.1323223114013672)\n",
            "Dimensión: 0, intervalo: (0.03838539123535156, 0.1366138458251953)\n",
            "Dimensión: 0, intervalo: (0.03910064697265625, 0.1392364501953125)\n",
            "Dimensión: 0, intervalo: (0.0400543212890625, 0.14019012451171875)\n",
            "Dimensión: 0, intervalo: (0.04124641418457031, 0.14209747314453125)\n",
            "Dimensión: 0, intervalo: (0.04172325134277344, 0.14472007751464844)\n",
            "Dimensión: 0, intervalo: (0.04220008850097656, 0.13446807861328125)\n",
            "Dimensión: 0, intervalo: (0.04291534423828125, 0.14328956604003906)\n",
            "Dimensión: 1, intervalo: (0.06198883056640625, inf)\n",
            "Dimensión: 1, intervalo: (0.072479248046875, inf)\n",
            "Dimensión: 1, intervalo: (0.0743865966796875, inf)\n",
            "Dimensión: 1, intervalo: (0.1308917999267578, inf)\n",
            "Dimensión: 1, intervalo: (0.14519691467285156, inf)\n"
          ]
        }
      ]
    },
    {
      "cell_type": "code",
      "source": [],
      "metadata": {
        "id": "ugSvvi72YpQL"
      },
      "execution_count": null,
      "outputs": []
    },
    {
      "cell_type": "code",
      "source": [],
      "metadata": {
        "id": "jPjuarMQM6pi"
      },
      "execution_count": null,
      "outputs": []
    },
    {
      "cell_type": "code",
      "source": [
        "def extract_all_features(n):\n",
        "    ''' Extracts features of nth image, all together:\n",
        "            4 sweeps * (2 barcodes * 4 features) = 32 features\n",
        "        Args:\n",
        "            n::int\n",
        "                The number of the handwritten digit image, for example:\n",
        "                    n = 17 for image of number 8.\n",
        "        Returns:\n",
        "            all_features::list\n",
        "                The 32 computed features.\n",
        "    '''\n",
        "    image = get_image(n)\n",
        "    binary_image = get_binary(image)\n",
        "    skeleton = get_sk(binary_image)\n",
        "\n",
        "    all_features = []\n",
        "    G_d = construct_graph(skeleton)\n",
        "    f_d = simp_fil(G_d)\n",
        "    betti_d = betti_barcodes(f_d)\n",
        "    f0 = extract_features(betti_d)\n",
        "    G_u = construct_graph(skeleton.T)\n",
        "    f_u = simp_fil(G_u)\n",
        "    betti_u = betti_barcodes(f_u)\n",
        "    f1 = extract_features(betti_u)\n",
        "\n",
        "    #for sweep_direction in ['right', 'left', 'top', 'bottom']:\n",
        "    #    points = get_points(skeleton, sweep_direction)\n",
        "    #    point_list = PointList(points)\n",
        "    #    emb_graph = point_list.get_emb_graph()\n",
        "    #    simplices = get_simplices(emb_graph)\n",
        "    #    intervals = get_betti_barcodes(simplices)\n",
        "\n",
        "        f0 = extract_features(intervals[0])\n",
        "        f1 = extract_features(intervals[1])\n",
        "        features = f0 + f1\n",
        "        all_features += features\n",
        "\n",
        "    return all_features\n",
        "\n",
        "def save_features_matrix(n_samples=1000):\n",
        "    ''' Saves the feature matrix of shape (n_samples, n_features) to ../data\n",
        "    directory.\n",
        "    Args:\n",
        "        n_samples::int\n",
        "            Number of samples of handwritten digit images.\n",
        "    '''\n",
        "    df = np.zeros((n_samples, n_features))\n",
        "\n",
        "    # extract all features of each image and save it to an array\n",
        "    print('Extracting all features...')\n",
        "    for n in range(n_samples):\n",
        "        df[n] = extract_all_features(n)\n",
        "\n",
        "    #print('Features extracted.')\n",
        "    #np.save('../data/' + 'features_' + str(n_samples) + '.npy', df)"
      ],
      "metadata": {
        "id": "bfLWMCVgM6sB"
      },
      "execution_count": null,
      "outputs": []
    },
    {
      "cell_type": "code",
      "source": [],
      "metadata": {
        "id": "4aH29-tZM6uj"
      },
      "execution_count": null,
      "outputs": []
    },
    {
      "cell_type": "code",
      "source": [],
      "metadata": {
        "id": "idF8WFRjM6zp"
      },
      "execution_count": null,
      "outputs": []
    },
    {
      "cell_type": "code",
      "source": [],
      "metadata": {
        "id": "C7olIzXfM63Q"
      },
      "execution_count": null,
      "outputs": []
    }
  ]
}