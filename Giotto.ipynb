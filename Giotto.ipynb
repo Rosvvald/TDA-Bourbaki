{
  "nbformat": 4,
  "nbformat_minor": 0,
  "metadata": {
    "colab": {
      "provenance": []
    },
    "kernelspec": {
      "name": "python3",
      "display_name": "Python 3"
    },
    "language_info": {
      "name": "python"
    }
  },
  "cells": [
    {
      "cell_type": "markdown",
      "source": [
        "## **Código tomado de la documentación de giotto-tda**"
      ],
      "metadata": {
        "id": "nwO9YLRYfCo5"
      }
    },
    {
      "cell_type": "code",
      "source": [
        "import numpy as np\n",
        "from pathlib import Path\n",
        "\n",
        "\n",
        "def make_point_clouds(n_samples_per_shape: int, n_points: int, noise: float):\n",
        "    \"\"\"Make point clouds for circles, spheres, and tori with random noise.\n",
        "    \"\"\"\n",
        "    circle_point_clouds = [\n",
        "        np.asarray(\n",
        "            [\n",
        "                [np.sin(t) + noise * (np.random.rand(1)[0] - 0.5), np.cos(t) + noise * (np.random.rand(1)[0] - 0.5), 0]\n",
        "                for t in range((n_points ** 2))\n",
        "            ]\n",
        "        )\n",
        "        for kk in range(n_samples_per_shape)\n",
        "    ]\n",
        "    # label circles with 0\n",
        "    circle_labels = np.zeros(n_samples_per_shape)\n",
        "\n",
        "    sphere_point_clouds = [\n",
        "        np.asarray(\n",
        "            [\n",
        "                [\n",
        "                    np.cos(s) * np.cos(t) + noise * (np.random.rand(1)[0] - 0.5),\n",
        "                    np.cos(s) * np.sin(t) + noise * (np.random.rand(1)[0] - 0.5),\n",
        "                    np.sin(s) + noise * (np.random.rand(1)[0] - 0.5),\n",
        "                ]\n",
        "                for t in range(n_points)\n",
        "                for s in range(n_points)\n",
        "            ]\n",
        "        )\n",
        "        for kk in range(n_samples_per_shape)\n",
        "    ]\n",
        "    # label spheres with 1\n",
        "    sphere_labels = np.ones(n_samples_per_shape)\n",
        "\n",
        "    torus_point_clouds = [\n",
        "        np.asarray(\n",
        "            [\n",
        "                [\n",
        "                    (2 + np.cos(s)) * np.cos(t) + noise * (np.random.rand(1)[0] - 0.5),\n",
        "                    (2 + np.cos(s)) * np.sin(t) + noise * (np.random.rand(1)[0] - 0.5),\n",
        "                    np.sin(s) + noise * (np.random.rand(1)[0] - 0.5),\n",
        "                ]\n",
        "                for t in range(n_points)\n",
        "                for s in range(n_points)\n",
        "            ]\n",
        "        )\n",
        "        for kk in range(n_samples_per_shape)\n",
        "    ]\n",
        "    # label tori with 2\n",
        "    torus_labels = 2 * np.ones(n_samples_per_shape)\n",
        "\n",
        "    point_clouds = np.concatenate((circle_point_clouds, sphere_point_clouds, torus_point_clouds))\n",
        "    labels = np.concatenate((circle_labels, sphere_labels, torus_labels))\n",
        "\n",
        "    return point_clouds, labels\n",
        "\n",
        "\n",
        "def make_gravitational_waves(\n",
        "    path_to_data: Path,\n",
        "    n_signals: int = 30,\n",
        "    downsample_factor: int = 2,\n",
        "    r_min: float = 0.075,\n",
        "    r_max: float = 0.65,\n",
        "    n_snr_values: int = 10,\n",
        "        ):\n",
        "    def padrand(V, n, kr):\n",
        "        cut = np.random.randint(n)\n",
        "        rand1 = np.random.randn(cut)\n",
        "        rand2 = np.random.randn(n - cut)\n",
        "        out = np.concatenate((rand1 * kr, V, rand2 * kr))\n",
        "        return out\n",
        "\n",
        "    Rcoef = np.linspace(r_min, r_max, n_snr_values)\n",
        "    Npad = 500  # number of padding points on either side of the vector\n",
        "    gw = np.load(path_to_data / \"gravitational_wave_signals.npy\")\n",
        "    Norig = len(gw[\"data\"][0])\n",
        "    Ndat = len(gw[\"signal_present\"])\n",
        "    N = int(Norig / downsample_factor)\n",
        "\n",
        "    ncoeff = []\n",
        "    Rcoeflist = []\n",
        "\n",
        "    for j in range(n_signals):\n",
        "        ncoeff.append(10 ** (-19) * (1 / Rcoef[j % n_snr_values]))\n",
        "        Rcoeflist.append(Rcoef[j % n_snr_values])\n",
        "\n",
        "    noisy_signals = []\n",
        "    gw_signals = []\n",
        "    k = 0\n",
        "    labels = np.zeros(n_signals)\n",
        "\n",
        "    for j in range(n_signals):\n",
        "        signal = gw[\"data\"][j % Ndat][range(0, Norig, downsample_factor)]\n",
        "        sigp = int((np.random.randn() < 0))\n",
        "        noise = ncoeff[j] * np.random.randn(N)\n",
        "        labels[j] = sigp\n",
        "        if sigp == 1:\n",
        "            rawsig = padrand(signal + noise, Npad, ncoeff[j])\n",
        "            if k == 0:\n",
        "                k = 1\n",
        "        else:\n",
        "            rawsig = padrand(noise, Npad, ncoeff[j])\n",
        "        noisy_signals.append(rawsig.copy())\n",
        "        gw_signals.append(signal)\n",
        "\n",
        "    return noisy_signals, gw_signals, labels"
      ],
      "metadata": {
        "id": "7rLxUK-72pmq"
      },
      "execution_count": null,
      "outputs": []
    },
    {
      "cell_type": "code",
      "execution_count": null,
      "metadata": {
        "id": "PNzv2KxP2ELX",
        "colab": {
          "base_uri": "https://localhost:8080/"
        },
        "outputId": "096fcc7a-7625-4030-da61-b44737a36494"
      },
      "outputs": [
        {
          "output_type": "stream",
          "name": "stdout",
          "text": [
            "There are 30 point clouds in 3 dimensions, each with 100 points.\n"
          ]
        }
      ],
      "source": [
        "#from data.generate_datasets import make_point_clouds\n",
        "n_samples_per_class = 10\n",
        "point_clouds, labels = make_point_clouds(n_samples_per_class, 10, 0.1)\n",
        "point_clouds.shape\n",
        "print(f\"There are {point_clouds.shape[0]} point clouds in {point_clouds.shape[2]} dimensions, \"\n",
        "      f\"each with {point_clouds.shape[1]} points.\")"
      ]
    },
    {
      "cell_type": "code",
      "source": [
        "from gtda.homology import VietorisRipsPersistence\n",
        "\n",
        "VR = VietorisRipsPersistence(homology_dimensions=[0, 1, 2])\n",
        "diagrams = VR.fit_transform(point_clouds)\n",
        "diagrams.shape"
      ],
      "metadata": {
        "id": "Nf0Tp_Os2FU_",
        "colab": {
          "base_uri": "https://localhost:8080/"
        },
        "outputId": "e9e12123-c176-44df-be7f-afe229fdb649"
      },
      "execution_count": null,
      "outputs": [
        {
          "output_type": "execute_result",
          "data": {
            "text/plain": [
              "(30, 174, 3)"
            ]
          },
          "metadata": {},
          "execution_count": 4
        }
      ]
    },
    {
      "cell_type": "code",
      "source": [
        "pip install -U giotto-tda"
      ],
      "metadata": {
        "id": "ibAwAR5o5TLw",
        "colab": {
          "base_uri": "https://localhost:8080/"
        },
        "outputId": "bb3c8d08-aba0-48f6-a92b-8af8eb2b0abc"
      },
      "execution_count": null,
      "outputs": [
        {
          "output_type": "stream",
          "name": "stdout",
          "text": [
            "Looking in indexes: https://pypi.org/simple, https://us-python.pkg.dev/colab-wheels/public/simple/\n",
            "Collecting giotto-tda\n",
            "  Downloading giotto_tda-0.6.0-cp310-cp310-manylinux_2_17_x86_64.manylinux2014_x86_64.whl (1.3 MB)\n",
            "\u001b[2K     \u001b[90m━━━━━━━━━━━━━━━━━━━━━━━━━━━━━━━━━━━━━━━━\u001b[0m \u001b[32m1.3/1.3 MB\u001b[0m \u001b[31m19.6 MB/s\u001b[0m eta \u001b[36m0:00:00\u001b[0m\n",
            "\u001b[?25hRequirement already satisfied: numpy>=1.19.1 in /usr/local/lib/python3.10/dist-packages (from giotto-tda) (1.22.4)\n",
            "Requirement already satisfied: scipy>=1.5.0 in /usr/local/lib/python3.10/dist-packages (from giotto-tda) (1.10.1)\n",
            "Requirement already satisfied: joblib>=0.16.0 in /usr/local/lib/python3.10/dist-packages (from giotto-tda) (1.2.0)\n",
            "Requirement already satisfied: scikit-learn>=0.23.1 in /usr/local/lib/python3.10/dist-packages (from giotto-tda) (1.2.2)\n",
            "Collecting giotto-ph>=0.2.1 (from giotto-tda)\n",
            "  Downloading giotto_ph-0.2.2-cp310-cp310-manylinux_2_17_x86_64.manylinux2014_x86_64.whl (526 kB)\n",
            "\u001b[2K     \u001b[90m━━━━━━━━━━━━━━━━━━━━━━━━━━━━━━━━━━━━━━\u001b[0m \u001b[32m526.4/526.4 kB\u001b[0m \u001b[31m34.8 MB/s\u001b[0m eta \u001b[36m0:00:00\u001b[0m\n",
            "\u001b[?25hCollecting pyflagser>=0.4.3 (from giotto-tda)\n",
            "  Downloading pyflagser-0.4.5-cp310-cp310-manylinux_2_17_x86_64.manylinux2014_x86_64.whl (452 kB)\n",
            "\u001b[2K     \u001b[90m━━━━━━━━━━━━━━━━━━━━━━━━━━━━━━━━━━━━━━\u001b[0m \u001b[32m452.9/452.9 kB\u001b[0m \u001b[31m39.5 MB/s\u001b[0m eta \u001b[36m0:00:00\u001b[0m\n",
            "\u001b[?25hCollecting igraph>=0.9.8 (from giotto-tda)\n",
            "  Downloading igraph-0.10.4-cp39-abi3-manylinux_2_17_x86_64.manylinux2014_x86_64.whl (3.3 MB)\n",
            "\u001b[2K     \u001b[90m━━━━━━━━━━━━━━━━━━━━━━━━━━━━━━━━━━━━━━━━\u001b[0m \u001b[32m3.3/3.3 MB\u001b[0m \u001b[31m42.3 MB/s\u001b[0m eta \u001b[36m0:00:00\u001b[0m\n",
            "\u001b[?25hRequirement already satisfied: plotly>=4.8.2 in /usr/local/lib/python3.10/dist-packages (from giotto-tda) (5.13.1)\n",
            "Requirement already satisfied: ipywidgets>=7.5.1 in /usr/local/lib/python3.10/dist-packages (from giotto-tda) (7.7.1)\n",
            "Collecting texttable>=1.6.2 (from igraph>=0.9.8->giotto-tda)\n",
            "  Downloading texttable-1.6.7-py2.py3-none-any.whl (10 kB)\n",
            "Requirement already satisfied: ipykernel>=4.5.1 in /usr/local/lib/python3.10/dist-packages (from ipywidgets>=7.5.1->giotto-tda) (5.5.6)\n",
            "Requirement already satisfied: ipython-genutils~=0.2.0 in /usr/local/lib/python3.10/dist-packages (from ipywidgets>=7.5.1->giotto-tda) (0.2.0)\n",
            "Requirement already satisfied: traitlets>=4.3.1 in /usr/local/lib/python3.10/dist-packages (from ipywidgets>=7.5.1->giotto-tda) (5.7.1)\n",
            "Requirement already satisfied: widgetsnbextension~=3.6.0 in /usr/local/lib/python3.10/dist-packages (from ipywidgets>=7.5.1->giotto-tda) (3.6.4)\n",
            "Requirement already satisfied: ipython>=4.0.0 in /usr/local/lib/python3.10/dist-packages (from ipywidgets>=7.5.1->giotto-tda) (7.34.0)\n",
            "Requirement already satisfied: jupyterlab-widgets>=1.0.0 in /usr/local/lib/python3.10/dist-packages (from ipywidgets>=7.5.1->giotto-tda) (3.0.7)\n",
            "Requirement already satisfied: tenacity>=6.2.0 in /usr/local/lib/python3.10/dist-packages (from plotly>=4.8.2->giotto-tda) (8.2.2)\n",
            "Requirement already satisfied: threadpoolctl>=2.0.0 in /usr/local/lib/python3.10/dist-packages (from scikit-learn>=0.23.1->giotto-tda) (3.1.0)\n",
            "Requirement already satisfied: jupyter-client in /usr/local/lib/python3.10/dist-packages (from ipykernel>=4.5.1->ipywidgets>=7.5.1->giotto-tda) (6.1.12)\n",
            "Requirement already satisfied: tornado>=4.2 in /usr/local/lib/python3.10/dist-packages (from ipykernel>=4.5.1->ipywidgets>=7.5.1->giotto-tda) (6.3.1)\n",
            "Requirement already satisfied: setuptools>=18.5 in /usr/local/lib/python3.10/dist-packages (from ipython>=4.0.0->ipywidgets>=7.5.1->giotto-tda) (67.7.2)\n",
            "Collecting jedi>=0.16 (from ipython>=4.0.0->ipywidgets>=7.5.1->giotto-tda)\n",
            "  Downloading jedi-0.18.2-py2.py3-none-any.whl (1.6 MB)\n",
            "\u001b[2K     \u001b[90m━━━━━━━━━━━━━━━━━━━━━━━━━━━━━━━━━━━━━━━━\u001b[0m \u001b[32m1.6/1.6 MB\u001b[0m \u001b[31m76.0 MB/s\u001b[0m eta \u001b[36m0:00:00\u001b[0m\n",
            "\u001b[?25hRequirement already satisfied: decorator in /usr/local/lib/python3.10/dist-packages (from ipython>=4.0.0->ipywidgets>=7.5.1->giotto-tda) (4.4.2)\n",
            "Requirement already satisfied: pickleshare in /usr/local/lib/python3.10/dist-packages (from ipython>=4.0.0->ipywidgets>=7.5.1->giotto-tda) (0.7.5)\n",
            "Requirement already satisfied: prompt-toolkit!=3.0.0,!=3.0.1,<3.1.0,>=2.0.0 in /usr/local/lib/python3.10/dist-packages (from ipython>=4.0.0->ipywidgets>=7.5.1->giotto-tda) (3.0.38)\n",
            "Requirement already satisfied: pygments in /usr/local/lib/python3.10/dist-packages (from ipython>=4.0.0->ipywidgets>=7.5.1->giotto-tda) (2.14.0)\n",
            "Requirement already satisfied: backcall in /usr/local/lib/python3.10/dist-packages (from ipython>=4.0.0->ipywidgets>=7.5.1->giotto-tda) (0.2.0)\n",
            "Requirement already satisfied: matplotlib-inline in /usr/local/lib/python3.10/dist-packages (from ipython>=4.0.0->ipywidgets>=7.5.1->giotto-tda) (0.1.6)\n",
            "Requirement already satisfied: pexpect>4.3 in /usr/local/lib/python3.10/dist-packages (from ipython>=4.0.0->ipywidgets>=7.5.1->giotto-tda) (4.8.0)\n",
            "Requirement already satisfied: notebook>=4.4.1 in /usr/local/lib/python3.10/dist-packages (from widgetsnbextension~=3.6.0->ipywidgets>=7.5.1->giotto-tda) (6.4.8)\n",
            "Requirement already satisfied: parso<0.9.0,>=0.8.0 in /usr/local/lib/python3.10/dist-packages (from jedi>=0.16->ipython>=4.0.0->ipywidgets>=7.5.1->giotto-tda) (0.8.3)\n",
            "Requirement already satisfied: jinja2 in /usr/local/lib/python3.10/dist-packages (from notebook>=4.4.1->widgetsnbextension~=3.6.0->ipywidgets>=7.5.1->giotto-tda) (3.1.2)\n",
            "Requirement already satisfied: pyzmq>=17 in /usr/local/lib/python3.10/dist-packages (from notebook>=4.4.1->widgetsnbextension~=3.6.0->ipywidgets>=7.5.1->giotto-tda) (23.2.1)\n",
            "Requirement already satisfied: argon2-cffi in /usr/local/lib/python3.10/dist-packages (from notebook>=4.4.1->widgetsnbextension~=3.6.0->ipywidgets>=7.5.1->giotto-tda) (21.3.0)\n",
            "Requirement already satisfied: jupyter-core>=4.6.1 in /usr/local/lib/python3.10/dist-packages (from notebook>=4.4.1->widgetsnbextension~=3.6.0->ipywidgets>=7.5.1->giotto-tda) (5.3.0)\n",
            "Requirement already satisfied: nbformat in /usr/local/lib/python3.10/dist-packages (from notebook>=4.4.1->widgetsnbextension~=3.6.0->ipywidgets>=7.5.1->giotto-tda) (5.8.0)\n",
            "Requirement already satisfied: nbconvert in /usr/local/lib/python3.10/dist-packages (from notebook>=4.4.1->widgetsnbextension~=3.6.0->ipywidgets>=7.5.1->giotto-tda) (6.5.4)\n",
            "Requirement already satisfied: nest-asyncio>=1.5 in /usr/local/lib/python3.10/dist-packages (from notebook>=4.4.1->widgetsnbextension~=3.6.0->ipywidgets>=7.5.1->giotto-tda) (1.5.6)\n",
            "Requirement already satisfied: Send2Trash>=1.8.0 in /usr/local/lib/python3.10/dist-packages (from notebook>=4.4.1->widgetsnbextension~=3.6.0->ipywidgets>=7.5.1->giotto-tda) (1.8.0)\n",
            "Requirement already satisfied: terminado>=0.8.3 in /usr/local/lib/python3.10/dist-packages (from notebook>=4.4.1->widgetsnbextension~=3.6.0->ipywidgets>=7.5.1->giotto-tda) (0.17.1)\n",
            "Requirement already satisfied: prometheus-client in /usr/local/lib/python3.10/dist-packages (from notebook>=4.4.1->widgetsnbextension~=3.6.0->ipywidgets>=7.5.1->giotto-tda) (0.16.0)\n",
            "Requirement already satisfied: python-dateutil>=2.1 in /usr/local/lib/python3.10/dist-packages (from jupyter-client->ipykernel>=4.5.1->ipywidgets>=7.5.1->giotto-tda) (2.8.2)\n",
            "Requirement already satisfied: ptyprocess>=0.5 in /usr/local/lib/python3.10/dist-packages (from pexpect>4.3->ipython>=4.0.0->ipywidgets>=7.5.1->giotto-tda) (0.7.0)\n",
            "Requirement already satisfied: wcwidth in /usr/local/lib/python3.10/dist-packages (from prompt-toolkit!=3.0.0,!=3.0.1,<3.1.0,>=2.0.0->ipython>=4.0.0->ipywidgets>=7.5.1->giotto-tda) (0.2.6)\n",
            "Requirement already satisfied: platformdirs>=2.5 in /usr/local/lib/python3.10/dist-packages (from jupyter-core>=4.6.1->notebook>=4.4.1->widgetsnbextension~=3.6.0->ipywidgets>=7.5.1->giotto-tda) (3.3.0)\n",
            "Requirement already satisfied: six>=1.5 in /usr/local/lib/python3.10/dist-packages (from python-dateutil>=2.1->jupyter-client->ipykernel>=4.5.1->ipywidgets>=7.5.1->giotto-tda) (1.16.0)\n",
            "Requirement already satisfied: argon2-cffi-bindings in /usr/local/lib/python3.10/dist-packages (from argon2-cffi->notebook>=4.4.1->widgetsnbextension~=3.6.0->ipywidgets>=7.5.1->giotto-tda) (21.2.0)\n",
            "Requirement already satisfied: MarkupSafe>=2.0 in /usr/local/lib/python3.10/dist-packages (from jinja2->notebook>=4.4.1->widgetsnbextension~=3.6.0->ipywidgets>=7.5.1->giotto-tda) (2.1.2)\n",
            "Requirement already satisfied: lxml in /usr/local/lib/python3.10/dist-packages (from nbconvert->notebook>=4.4.1->widgetsnbextension~=3.6.0->ipywidgets>=7.5.1->giotto-tda) (4.9.2)\n",
            "Requirement already satisfied: beautifulsoup4 in /usr/local/lib/python3.10/dist-packages (from nbconvert->notebook>=4.4.1->widgetsnbextension~=3.6.0->ipywidgets>=7.5.1->giotto-tda) (4.11.2)\n",
            "Requirement already satisfied: bleach in /usr/local/lib/python3.10/dist-packages (from nbconvert->notebook>=4.4.1->widgetsnbextension~=3.6.0->ipywidgets>=7.5.1->giotto-tda) (6.0.0)\n",
            "Requirement already satisfied: defusedxml in /usr/local/lib/python3.10/dist-packages (from nbconvert->notebook>=4.4.1->widgetsnbextension~=3.6.0->ipywidgets>=7.5.1->giotto-tda) (0.7.1)\n",
            "Requirement already satisfied: entrypoints>=0.2.2 in /usr/local/lib/python3.10/dist-packages (from nbconvert->notebook>=4.4.1->widgetsnbextension~=3.6.0->ipywidgets>=7.5.1->giotto-tda) (0.4)\n",
            "Requirement already satisfied: jupyterlab-pygments in /usr/local/lib/python3.10/dist-packages (from nbconvert->notebook>=4.4.1->widgetsnbextension~=3.6.0->ipywidgets>=7.5.1->giotto-tda) (0.2.2)\n",
            "Requirement already satisfied: mistune<2,>=0.8.1 in /usr/local/lib/python3.10/dist-packages (from nbconvert->notebook>=4.4.1->widgetsnbextension~=3.6.0->ipywidgets>=7.5.1->giotto-tda) (0.8.4)\n",
            "Requirement already satisfied: nbclient>=0.5.0 in /usr/local/lib/python3.10/dist-packages (from nbconvert->notebook>=4.4.1->widgetsnbextension~=3.6.0->ipywidgets>=7.5.1->giotto-tda) (0.7.4)\n",
            "Requirement already satisfied: packaging in /usr/local/lib/python3.10/dist-packages (from nbconvert->notebook>=4.4.1->widgetsnbextension~=3.6.0->ipywidgets>=7.5.1->giotto-tda) (23.1)\n",
            "Requirement already satisfied: pandocfilters>=1.4.1 in /usr/local/lib/python3.10/dist-packages (from nbconvert->notebook>=4.4.1->widgetsnbextension~=3.6.0->ipywidgets>=7.5.1->giotto-tda) (1.5.0)\n",
            "Requirement already satisfied: tinycss2 in /usr/local/lib/python3.10/dist-packages (from nbconvert->notebook>=4.4.1->widgetsnbextension~=3.6.0->ipywidgets>=7.5.1->giotto-tda) (1.2.1)\n",
            "Requirement already satisfied: fastjsonschema in /usr/local/lib/python3.10/dist-packages (from nbformat->notebook>=4.4.1->widgetsnbextension~=3.6.0->ipywidgets>=7.5.1->giotto-tda) (2.16.3)\n",
            "Requirement already satisfied: jsonschema>=2.6 in /usr/local/lib/python3.10/dist-packages (from nbformat->notebook>=4.4.1->widgetsnbextension~=3.6.0->ipywidgets>=7.5.1->giotto-tda) (4.3.3)\n",
            "Requirement already satisfied: attrs>=17.4.0 in /usr/local/lib/python3.10/dist-packages (from jsonschema>=2.6->nbformat->notebook>=4.4.1->widgetsnbextension~=3.6.0->ipywidgets>=7.5.1->giotto-tda) (23.1.0)\n",
            "Requirement already satisfied: pyrsistent!=0.17.0,!=0.17.1,!=0.17.2,>=0.14.0 in /usr/local/lib/python3.10/dist-packages (from jsonschema>=2.6->nbformat->notebook>=4.4.1->widgetsnbextension~=3.6.0->ipywidgets>=7.5.1->giotto-tda) (0.19.3)\n",
            "Requirement already satisfied: cffi>=1.0.1 in /usr/local/lib/python3.10/dist-packages (from argon2-cffi-bindings->argon2-cffi->notebook>=4.4.1->widgetsnbextension~=3.6.0->ipywidgets>=7.5.1->giotto-tda) (1.15.1)\n",
            "Requirement already satisfied: soupsieve>1.2 in /usr/local/lib/python3.10/dist-packages (from beautifulsoup4->nbconvert->notebook>=4.4.1->widgetsnbextension~=3.6.0->ipywidgets>=7.5.1->giotto-tda) (2.4.1)\n",
            "Requirement already satisfied: webencodings in /usr/local/lib/python3.10/dist-packages (from bleach->nbconvert->notebook>=4.4.1->widgetsnbextension~=3.6.0->ipywidgets>=7.5.1->giotto-tda) (0.5.1)\n",
            "Requirement already satisfied: pycparser in /usr/local/lib/python3.10/dist-packages (from cffi>=1.0.1->argon2-cffi-bindings->argon2-cffi->notebook>=4.4.1->widgetsnbextension~=3.6.0->ipywidgets>=7.5.1->giotto-tda) (2.21)\n",
            "Installing collected packages: texttable, jedi, igraph, pyflagser, giotto-ph, giotto-tda\n",
            "Successfully installed giotto-ph-0.2.2 giotto-tda-0.6.0 igraph-0.10.4 jedi-0.18.2 pyflagser-0.4.5 texttable-1.6.7\n"
          ]
        }
      ]
    },
    {
      "cell_type": "code",
      "source": [
        "from gtda.plotting import plot_diagram\n",
        "\n",
        "plot_diagram(diagrams[0])"
      ],
      "metadata": {
        "id": "9OjhhhM543F3",
        "colab": {
          "base_uri": "https://localhost:8080/",
          "height": 517
        },
        "outputId": "f9c9c73c-79b5-4c2b-a55e-5e397f9a5cc2"
      },
      "execution_count": null,
      "outputs": [
        {
          "output_type": "display_data",
          "data": {
            "text/html": [
              "<html>\n",
              "<head><meta charset=\"utf-8\" /></head>\n",
              "<body>\n",
              "    <div>            <script src=\"https://cdnjs.cloudflare.com/ajax/libs/mathjax/2.7.5/MathJax.js?config=TeX-AMS-MML_SVG\"></script><script type=\"text/javascript\">if (window.MathJax && window.MathJax.Hub && window.MathJax.Hub.Config) {window.MathJax.Hub.Config({SVG: {font: \"STIX-Web\"}});}</script>                <script type=\"text/javascript\">window.PlotlyConfig = {MathJaxConfig: 'local'};</script>\n",
              "        <script src=\"https://cdn.plot.ly/plotly-2.18.2.min.js\"></script>                <div id=\"d97b3934-27bb-42ac-ab73-6a08ef5882e0\" class=\"plotly-graph-div\" style=\"height:500px; width:500px;\"></div>            <script type=\"text/javascript\">                                    window.PLOTLYENV=window.PLOTLYENV || {};                                    if (document.getElementById(\"d97b3934-27bb-42ac-ab73-6a08ef5882e0\")) {                    Plotly.newPlot(                        \"d97b3934-27bb-42ac-ab73-6a08ef5882e0\",                        [{\"hoverinfo\":\"none\",\"line\":{\"color\":\"black\",\"dash\":\"dash\",\"width\":1},\"mode\":\"lines\",\"showlegend\":false,\"x\":[-0.035507533550262455,1.810884211063385],\"y\":[-0.035507533550262455,1.810884211063385],\"type\":\"scatter\"},{\"hoverinfo\":\"text\",\"hovertext\":[\"(0.0, 0.006313812918961048)\",\"(0.0, 0.014709150418639183)\",\"(0.0, 0.01512330025434494)\",\"(0.0, 0.015233814716339111)\",\"(0.0, 0.01876150630414486)\",\"(0.0, 0.01905585266649723)\",\"(0.0, 0.022002747282385826)\",\"(0.0, 0.02203197032213211)\",\"(0.0, 0.022151971235871315)\",\"(0.0, 0.023505575954914093)\",\"(0.0, 0.02558688074350357)\",\"(0.0, 0.02822551503777504)\",\"(0.0, 0.02927134372293949)\",\"(0.0, 0.029670225456357002)\",\"(0.0, 0.031232602894306183)\",\"(0.0, 0.03224467486143112)\",\"(0.0, 0.032348714768886566)\",\"(0.0, 0.0330381765961647)\",\"(0.0, 0.033268995583057404)\",\"(0.0, 0.0335879847407341)\",\"(0.0, 0.03539479523897171)\",\"(0.0, 0.03591920807957649)\",\"(0.0, 0.03851599246263504)\",\"(0.0, 0.03862946853041649)\",\"(0.0, 0.03894612193107605)\",\"(0.0, 0.039610132575035095)\",\"(0.0, 0.04003787040710449)\",\"(0.0, 0.04033637419342995)\",\"(0.0, 0.042861420661211014)\",\"(0.0, 0.04308134317398071)\",\"(0.0, 0.04357663542032242)\",\"(0.0, 0.044490180909633636)\",\"(0.0, 0.045569658279418945)\",\"(0.0, 0.04687311127781868)\",\"(0.0, 0.04811285808682442)\",\"(0.0, 0.048701558262109756)\",\"(0.0, 0.04898909851908684)\",\"(0.0, 0.049131326377391815)\",\"(0.0, 0.05195580795407295)\",\"(0.0, 0.052909281104803085)\",\"(0.0, 0.054549720138311386)\",\"(0.0, 0.05471465364098549)\",\"(0.0, 0.05475953221321106)\",\"(0.0, 0.055935315787792206)\",\"(0.0, 0.05724658817052841)\",\"(0.0, 0.06190672144293785)\",\"(0.0, 0.06478443741798401)\",\"(0.0, 0.06506010890007019)\",\"(0.0, 0.06539063900709152)\",\"(0.0, 0.06566163897514343)\",\"(0.0, 0.0690719336271286)\",\"(0.0, 0.07233606278896332)\",\"(0.0, 0.07284405082464218)\",\"(0.0, 0.07373258471488953)\",\"(0.0, 0.07475341111421585)\",\"(0.0, 0.07806175947189331)\",\"(0.0, 0.07904638350009918)\",\"(0.0, 0.07939428836107254)\",\"(0.0, 0.07944168895483017)\",\"(0.0, 0.08096380531787872)\",\"(0.0, 0.08127859234809875)\",\"(0.0, 0.08201666176319122)\",\"(0.0, 0.08351560682058334)\",\"(0.0, 0.08381254971027374)\",\"(0.0, 0.08510155975818634)\",\"(0.0, 0.08650059998035431)\",\"(0.0, 0.08664604276418686)\",\"(0.0, 0.0906059518456459)\",\"(0.0, 0.09092830866575241)\",\"(0.0, 0.09116876125335693)\",\"(0.0, 0.09202755987644196)\",\"(0.0, 0.09214181452989578)\",\"(0.0, 0.09369932115077972)\",\"(0.0, 0.10362598299980164)\",\"(0.0, 0.10469028353691101)\",\"(0.0, 0.10556681454181671)\",\"(0.0, 0.10566191375255585)\",\"(0.0, 0.10695303231477737)\",\"(0.0, 0.10792743414640427)\",\"(0.0, 0.1118159145116806)\",\"(0.0, 0.1155390739440918)\",\"(0.0, 0.12030147761106491)\",\"(0.0, 0.12060780823230743)\",\"(0.0, 0.1222003921866417)\",\"(0.0, 0.12242379039525986)\",\"(0.0, 0.12592612206935883)\",\"(0.0, 0.1259646862745285)\",\"(0.0, 0.1324962079524994)\",\"(0.0, 0.13547231256961823)\",\"(0.0, 0.13644112646579742)\",\"(0.0, 0.1377106010913849)\",\"(0.0, 0.14009839296340942)\",\"(0.0, 0.14243635535240173)\",\"(0.0, 0.14383679628372192)\",\"(0.0, 0.14602836966514587)\",\"(0.0, 0.15177465975284576)\",\"(0.0, 0.1535620093345642)\",\"(0.0, 0.15667682886123657)\",\"(0.0, 0.15798380970954895)\"],\"mode\":\"markers\",\"name\":\"H0\",\"x\":[0.0,0.0,0.0,0.0,0.0,0.0,0.0,0.0,0.0,0.0,0.0,0.0,0.0,0.0,0.0,0.0,0.0,0.0,0.0,0.0,0.0,0.0,0.0,0.0,0.0,0.0,0.0,0.0,0.0,0.0,0.0,0.0,0.0,0.0,0.0,0.0,0.0,0.0,0.0,0.0,0.0,0.0,0.0,0.0,0.0,0.0,0.0,0.0,0.0,0.0,0.0,0.0,0.0,0.0,0.0,0.0,0.0,0.0,0.0,0.0,0.0,0.0,0.0,0.0,0.0,0.0,0.0,0.0,0.0,0.0,0.0,0.0,0.0,0.0,0.0,0.0,0.0,0.0,0.0,0.0,0.0,0.0,0.0,0.0,0.0,0.0,0.0,0.0,0.0,0.0,0.0,0.0,0.0,0.0,0.0,0.0,0.0,0.0,0.0],\"y\":[0.006313812918961048,0.014709150418639183,0.01512330025434494,0.015233814716339111,0.01876150630414486,0.01905585266649723,0.022002747282385826,0.02203197032213211,0.022151971235871315,0.023505575954914093,0.02558688074350357,0.02822551503777504,0.02927134372293949,0.029670225456357002,0.031232602894306183,0.03224467486143112,0.032348714768886566,0.0330381765961647,0.033268995583057404,0.0335879847407341,0.03539479523897171,0.03591920807957649,0.03851599246263504,0.03862946853041649,0.03894612193107605,0.039610132575035095,0.04003787040710449,0.04033637419342995,0.042861420661211014,0.04308134317398071,0.04357663542032242,0.044490180909633636,0.045569658279418945,0.04687311127781868,0.04811285808682442,0.048701558262109756,0.04898909851908684,0.049131326377391815,0.05195580795407295,0.052909281104803085,0.054549720138311386,0.05471465364098549,0.05475953221321106,0.055935315787792206,0.05724658817052841,0.06190672144293785,0.06478443741798401,0.06506010890007019,0.06539063900709152,0.06566163897514343,0.0690719336271286,0.07233606278896332,0.07284405082464218,0.07373258471488953,0.07475341111421585,0.07806175947189331,0.07904638350009918,0.07939428836107254,0.07944168895483017,0.08096380531787872,0.08127859234809875,0.08201666176319122,0.08351560682058334,0.08381254971027374,0.08510155975818634,0.08650059998035431,0.08664604276418686,0.0906059518456459,0.09092830866575241,0.09116876125335693,0.09202755987644196,0.09214181452989578,0.09369932115077972,0.10362598299980164,0.10469028353691101,0.10556681454181671,0.10566191375255585,0.10695303231477737,0.10792743414640427,0.1118159145116806,0.1155390739440918,0.12030147761106491,0.12060780823230743,0.1222003921866417,0.12242379039525986,0.12592612206935883,0.1259646862745285,0.1324962079524994,0.13547231256961823,0.13644112646579742,0.1377106010913849,0.14009839296340942,0.14243635535240173,0.14383679628372192,0.14602836966514587,0.15177465975284576,0.1535620093345642,0.15667682886123657,0.15798380970954895],\"type\":\"scatter\"},{\"hoverinfo\":\"text\",\"hovertext\":[\"(0.1842096596956253, 1.6787431240081787)\",\"(0.12049629539251328, 0.13446976244449615)\"],\"mode\":\"markers\",\"name\":\"H1\",\"x\":[0.1842096596956253,0.12049629539251328],\"y\":[1.6787431240081787,0.13446976244449615],\"type\":\"scatter\"},{\"hoverinfo\":\"text\",\"hovertext\":[\"(1.7382732629776, 1.759840726852417)\",\"(1.7378990650177002, 1.7753766775131226)\",\"(1.7272664308547974, 1.7577106952667236)\",\"(1.7104068994522095, 1.717239260673523)\",\"(1.709449052810669, 1.7380276918411255)\",\"(1.7064942121505737, 1.7406755685806274)\"],\"mode\":\"markers\",\"name\":\"H2\",\"x\":[1.7382732629776,1.7378990650177002,1.7272664308547974,1.7104068994522095,1.709449052810669,1.7064942121505737],\"y\":[1.759840726852417,1.7753766775131226,1.7577106952667236,1.717239260673523,1.7380276918411255,1.7406755685806274],\"type\":\"scatter\"}],                        {\"template\":{\"data\":{\"histogram2dcontour\":[{\"type\":\"histogram2dcontour\",\"colorbar\":{\"outlinewidth\":0,\"ticks\":\"\"},\"colorscale\":[[0.0,\"#0d0887\"],[0.1111111111111111,\"#46039f\"],[0.2222222222222222,\"#7201a8\"],[0.3333333333333333,\"#9c179e\"],[0.4444444444444444,\"#bd3786\"],[0.5555555555555556,\"#d8576b\"],[0.6666666666666666,\"#ed7953\"],[0.7777777777777778,\"#fb9f3a\"],[0.8888888888888888,\"#fdca26\"],[1.0,\"#f0f921\"]]}],\"choropleth\":[{\"type\":\"choropleth\",\"colorbar\":{\"outlinewidth\":0,\"ticks\":\"\"}}],\"histogram2d\":[{\"type\":\"histogram2d\",\"colorbar\":{\"outlinewidth\":0,\"ticks\":\"\"},\"colorscale\":[[0.0,\"#0d0887\"],[0.1111111111111111,\"#46039f\"],[0.2222222222222222,\"#7201a8\"],[0.3333333333333333,\"#9c179e\"],[0.4444444444444444,\"#bd3786\"],[0.5555555555555556,\"#d8576b\"],[0.6666666666666666,\"#ed7953\"],[0.7777777777777778,\"#fb9f3a\"],[0.8888888888888888,\"#fdca26\"],[1.0,\"#f0f921\"]]}],\"heatmap\":[{\"type\":\"heatmap\",\"colorbar\":{\"outlinewidth\":0,\"ticks\":\"\"},\"colorscale\":[[0.0,\"#0d0887\"],[0.1111111111111111,\"#46039f\"],[0.2222222222222222,\"#7201a8\"],[0.3333333333333333,\"#9c179e\"],[0.4444444444444444,\"#bd3786\"],[0.5555555555555556,\"#d8576b\"],[0.6666666666666666,\"#ed7953\"],[0.7777777777777778,\"#fb9f3a\"],[0.8888888888888888,\"#fdca26\"],[1.0,\"#f0f921\"]]}],\"heatmapgl\":[{\"type\":\"heatmapgl\",\"colorbar\":{\"outlinewidth\":0,\"ticks\":\"\"},\"colorscale\":[[0.0,\"#0d0887\"],[0.1111111111111111,\"#46039f\"],[0.2222222222222222,\"#7201a8\"],[0.3333333333333333,\"#9c179e\"],[0.4444444444444444,\"#bd3786\"],[0.5555555555555556,\"#d8576b\"],[0.6666666666666666,\"#ed7953\"],[0.7777777777777778,\"#fb9f3a\"],[0.8888888888888888,\"#fdca26\"],[1.0,\"#f0f921\"]]}],\"contourcarpet\":[{\"type\":\"contourcarpet\",\"colorbar\":{\"outlinewidth\":0,\"ticks\":\"\"}}],\"contour\":[{\"type\":\"contour\",\"colorbar\":{\"outlinewidth\":0,\"ticks\":\"\"},\"colorscale\":[[0.0,\"#0d0887\"],[0.1111111111111111,\"#46039f\"],[0.2222222222222222,\"#7201a8\"],[0.3333333333333333,\"#9c179e\"],[0.4444444444444444,\"#bd3786\"],[0.5555555555555556,\"#d8576b\"],[0.6666666666666666,\"#ed7953\"],[0.7777777777777778,\"#fb9f3a\"],[0.8888888888888888,\"#fdca26\"],[1.0,\"#f0f921\"]]}],\"surface\":[{\"type\":\"surface\",\"colorbar\":{\"outlinewidth\":0,\"ticks\":\"\"},\"colorscale\":[[0.0,\"#0d0887\"],[0.1111111111111111,\"#46039f\"],[0.2222222222222222,\"#7201a8\"],[0.3333333333333333,\"#9c179e\"],[0.4444444444444444,\"#bd3786\"],[0.5555555555555556,\"#d8576b\"],[0.6666666666666666,\"#ed7953\"],[0.7777777777777778,\"#fb9f3a\"],[0.8888888888888888,\"#fdca26\"],[1.0,\"#f0f921\"]]}],\"mesh3d\":[{\"type\":\"mesh3d\",\"colorbar\":{\"outlinewidth\":0,\"ticks\":\"\"}}],\"scatter\":[{\"fillpattern\":{\"fillmode\":\"overlay\",\"size\":10,\"solidity\":0.2},\"type\":\"scatter\"}],\"parcoords\":[{\"type\":\"parcoords\",\"line\":{\"colorbar\":{\"outlinewidth\":0,\"ticks\":\"\"}}}],\"scatterpolargl\":[{\"type\":\"scatterpolargl\",\"marker\":{\"colorbar\":{\"outlinewidth\":0,\"ticks\":\"\"}}}],\"bar\":[{\"error_x\":{\"color\":\"#2a3f5f\"},\"error_y\":{\"color\":\"#2a3f5f\"},\"marker\":{\"line\":{\"color\":\"#E5ECF6\",\"width\":0.5},\"pattern\":{\"fillmode\":\"overlay\",\"size\":10,\"solidity\":0.2}},\"type\":\"bar\"}],\"scattergeo\":[{\"type\":\"scattergeo\",\"marker\":{\"colorbar\":{\"outlinewidth\":0,\"ticks\":\"\"}}}],\"scatterpolar\":[{\"type\":\"scatterpolar\",\"marker\":{\"colorbar\":{\"outlinewidth\":0,\"ticks\":\"\"}}}],\"histogram\":[{\"marker\":{\"pattern\":{\"fillmode\":\"overlay\",\"size\":10,\"solidity\":0.2}},\"type\":\"histogram\"}],\"scattergl\":[{\"type\":\"scattergl\",\"marker\":{\"colorbar\":{\"outlinewidth\":0,\"ticks\":\"\"}}}],\"scatter3d\":[{\"type\":\"scatter3d\",\"line\":{\"colorbar\":{\"outlinewidth\":0,\"ticks\":\"\"}},\"marker\":{\"colorbar\":{\"outlinewidth\":0,\"ticks\":\"\"}}}],\"scattermapbox\":[{\"type\":\"scattermapbox\",\"marker\":{\"colorbar\":{\"outlinewidth\":0,\"ticks\":\"\"}}}],\"scatterternary\":[{\"type\":\"scatterternary\",\"marker\":{\"colorbar\":{\"outlinewidth\":0,\"ticks\":\"\"}}}],\"scattercarpet\":[{\"type\":\"scattercarpet\",\"marker\":{\"colorbar\":{\"outlinewidth\":0,\"ticks\":\"\"}}}],\"carpet\":[{\"aaxis\":{\"endlinecolor\":\"#2a3f5f\",\"gridcolor\":\"white\",\"linecolor\":\"white\",\"minorgridcolor\":\"white\",\"startlinecolor\":\"#2a3f5f\"},\"baxis\":{\"endlinecolor\":\"#2a3f5f\",\"gridcolor\":\"white\",\"linecolor\":\"white\",\"minorgridcolor\":\"white\",\"startlinecolor\":\"#2a3f5f\"},\"type\":\"carpet\"}],\"table\":[{\"cells\":{\"fill\":{\"color\":\"#EBF0F8\"},\"line\":{\"color\":\"white\"}},\"header\":{\"fill\":{\"color\":\"#C8D4E3\"},\"line\":{\"color\":\"white\"}},\"type\":\"table\"}],\"barpolar\":[{\"marker\":{\"line\":{\"color\":\"#E5ECF6\",\"width\":0.5},\"pattern\":{\"fillmode\":\"overlay\",\"size\":10,\"solidity\":0.2}},\"type\":\"barpolar\"}],\"pie\":[{\"automargin\":true,\"type\":\"pie\"}]},\"layout\":{\"autotypenumbers\":\"strict\",\"colorway\":[\"#636efa\",\"#EF553B\",\"#00cc96\",\"#ab63fa\",\"#FFA15A\",\"#19d3f3\",\"#FF6692\",\"#B6E880\",\"#FF97FF\",\"#FECB52\"],\"font\":{\"color\":\"#2a3f5f\"},\"hovermode\":\"closest\",\"hoverlabel\":{\"align\":\"left\"},\"paper_bgcolor\":\"white\",\"plot_bgcolor\":\"#E5ECF6\",\"polar\":{\"bgcolor\":\"#E5ECF6\",\"angularaxis\":{\"gridcolor\":\"white\",\"linecolor\":\"white\",\"ticks\":\"\"},\"radialaxis\":{\"gridcolor\":\"white\",\"linecolor\":\"white\",\"ticks\":\"\"}},\"ternary\":{\"bgcolor\":\"#E5ECF6\",\"aaxis\":{\"gridcolor\":\"white\",\"linecolor\":\"white\",\"ticks\":\"\"},\"baxis\":{\"gridcolor\":\"white\",\"linecolor\":\"white\",\"ticks\":\"\"},\"caxis\":{\"gridcolor\":\"white\",\"linecolor\":\"white\",\"ticks\":\"\"}},\"coloraxis\":{\"colorbar\":{\"outlinewidth\":0,\"ticks\":\"\"}},\"colorscale\":{\"sequential\":[[0.0,\"#0d0887\"],[0.1111111111111111,\"#46039f\"],[0.2222222222222222,\"#7201a8\"],[0.3333333333333333,\"#9c179e\"],[0.4444444444444444,\"#bd3786\"],[0.5555555555555556,\"#d8576b\"],[0.6666666666666666,\"#ed7953\"],[0.7777777777777778,\"#fb9f3a\"],[0.8888888888888888,\"#fdca26\"],[1.0,\"#f0f921\"]],\"sequentialminus\":[[0.0,\"#0d0887\"],[0.1111111111111111,\"#46039f\"],[0.2222222222222222,\"#7201a8\"],[0.3333333333333333,\"#9c179e\"],[0.4444444444444444,\"#bd3786\"],[0.5555555555555556,\"#d8576b\"],[0.6666666666666666,\"#ed7953\"],[0.7777777777777778,\"#fb9f3a\"],[0.8888888888888888,\"#fdca26\"],[1.0,\"#f0f921\"]],\"diverging\":[[0,\"#8e0152\"],[0.1,\"#c51b7d\"],[0.2,\"#de77ae\"],[0.3,\"#f1b6da\"],[0.4,\"#fde0ef\"],[0.5,\"#f7f7f7\"],[0.6,\"#e6f5d0\"],[0.7,\"#b8e186\"],[0.8,\"#7fbc41\"],[0.9,\"#4d9221\"],[1,\"#276419\"]]},\"xaxis\":{\"gridcolor\":\"white\",\"linecolor\":\"white\",\"ticks\":\"\",\"title\":{\"standoff\":15},\"zerolinecolor\":\"white\",\"automargin\":true,\"zerolinewidth\":2},\"yaxis\":{\"gridcolor\":\"white\",\"linecolor\":\"white\",\"ticks\":\"\",\"title\":{\"standoff\":15},\"zerolinecolor\":\"white\",\"automargin\":true,\"zerolinewidth\":2},\"scene\":{\"xaxis\":{\"backgroundcolor\":\"#E5ECF6\",\"gridcolor\":\"white\",\"linecolor\":\"white\",\"showbackground\":true,\"ticks\":\"\",\"zerolinecolor\":\"white\",\"gridwidth\":2},\"yaxis\":{\"backgroundcolor\":\"#E5ECF6\",\"gridcolor\":\"white\",\"linecolor\":\"white\",\"showbackground\":true,\"ticks\":\"\",\"zerolinecolor\":\"white\",\"gridwidth\":2},\"zaxis\":{\"backgroundcolor\":\"#E5ECF6\",\"gridcolor\":\"white\",\"linecolor\":\"white\",\"showbackground\":true,\"ticks\":\"\",\"zerolinecolor\":\"white\",\"gridwidth\":2}},\"shapedefaults\":{\"line\":{\"color\":\"#2a3f5f\"}},\"annotationdefaults\":{\"arrowcolor\":\"#2a3f5f\",\"arrowhead\":0,\"arrowwidth\":1},\"geo\":{\"bgcolor\":\"white\",\"landcolor\":\"#E5ECF6\",\"subunitcolor\":\"white\",\"showland\":true,\"showlakes\":true,\"lakecolor\":\"white\"},\"title\":{\"x\":0.05},\"mapbox\":{\"style\":\"light\"}}},\"xaxis\":{\"title\":{\"text\":\"Birth\"},\"side\":\"bottom\",\"type\":\"linear\",\"range\":[-0.035507533550262455,1.810884211063385],\"autorange\":false,\"ticks\":\"outside\",\"showline\":true,\"zeroline\":true,\"linewidth\":1,\"linecolor\":\"black\",\"mirror\":false,\"showexponent\":\"all\",\"exponentformat\":\"e\"},\"yaxis\":{\"title\":{\"text\":\"Death\"},\"side\":\"left\",\"type\":\"linear\",\"range\":[-0.035507533550262455,1.810884211063385],\"autorange\":false,\"scaleanchor\":\"x\",\"scaleratio\":1,\"ticks\":\"outside\",\"showline\":true,\"zeroline\":true,\"linewidth\":1,\"linecolor\":\"black\",\"mirror\":false,\"showexponent\":\"all\",\"exponentformat\":\"e\"},\"width\":500,\"height\":500,\"plot_bgcolor\":\"white\"},                        {\"responsive\": true}                    ).then(function(){\n",
              "                            \n",
              "var gd = document.getElementById('d97b3934-27bb-42ac-ab73-6a08ef5882e0');\n",
              "var x = new MutationObserver(function (mutations, observer) {{\n",
              "        var display = window.getComputedStyle(gd).display;\n",
              "        if (!display || display === 'none') {{\n",
              "            console.log([gd, 'removed!']);\n",
              "            Plotly.purge(gd);\n",
              "            observer.disconnect();\n",
              "        }}\n",
              "}});\n",
              "\n",
              "// Listen for the removal of the full notebook cells\n",
              "var notebookContainer = gd.closest('#notebook-container');\n",
              "if (notebookContainer) {{\n",
              "    x.observe(notebookContainer, {childList: true});\n",
              "}}\n",
              "\n",
              "// Listen for the clearing of the current output cell\n",
              "var outputEl = gd.closest('.output');\n",
              "if (outputEl) {{\n",
              "    x.observe(outputEl, {childList: true});\n",
              "}}\n",
              "\n",
              "                        })                };                            </script>        </div>\n",
              "</body>\n",
              "</html>"
            ]
          },
          "metadata": {}
        }
      ]
    },
    {
      "cell_type": "code",
      "source": [
        "plot_diagram(diagrams[1])"
      ],
      "metadata": {
        "id": "Vjo4NQI8PXLz",
        "colab": {
          "base_uri": "https://localhost:8080/",
          "height": 517
        },
        "outputId": "9b756be3-e3c0-491b-ee95-b1b8819bff4e"
      },
      "execution_count": null,
      "outputs": [
        {
          "output_type": "display_data",
          "data": {
            "text/html": [
              "<html>\n",
              "<head><meta charset=\"utf-8\" /></head>\n",
              "<body>\n",
              "    <div>            <script src=\"https://cdnjs.cloudflare.com/ajax/libs/mathjax/2.7.5/MathJax.js?config=TeX-AMS-MML_SVG\"></script><script type=\"text/javascript\">if (window.MathJax && window.MathJax.Hub && window.MathJax.Hub.Config) {window.MathJax.Hub.Config({SVG: {font: \"STIX-Web\"}});}</script>                <script type=\"text/javascript\">window.PlotlyConfig = {MathJaxConfig: 'local'};</script>\n",
              "        <script src=\"https://cdn.plot.ly/plotly-2.18.2.min.js\"></script>                <div id=\"de4daed9-6d3a-47db-99c0-d49951709c4e\" class=\"plotly-graph-div\" style=\"height:500px; width:500px;\"></div>            <script type=\"text/javascript\">                                    window.PLOTLYENV=window.PLOTLYENV || {};                                    if (document.getElementById(\"de4daed9-6d3a-47db-99c0-d49951709c4e\")) {                    Plotly.newPlot(                        \"de4daed9-6d3a-47db-99c0-d49951709c4e\",                        [{\"hoverinfo\":\"none\",\"line\":{\"color\":\"black\",\"dash\":\"dash\",\"width\":1},\"mode\":\"lines\",\"showlegend\":false,\"x\":[-0.03533551692962646,1.8021113634109498],\"y\":[-0.03533551692962646,1.8021113634109498],\"type\":\"scatter\"},{\"hoverinfo\":\"text\",\"hovertext\":[\"(0.0, 0.009936298243701458)\",\"(0.0, 0.010045132599771023)\",\"(0.0, 0.011305323801934719)\",\"(0.0, 0.01693105697631836)\",\"(0.0, 0.019279738888144493)\",\"(0.0, 0.020123431459069252)\",\"(0.0, 0.02028859592974186)\",\"(0.0, 0.02313888445496559)\",\"(0.0, 0.023599963635206223)\",\"(0.0, 0.024060284718871117)\",\"(0.0, 0.026484770700335503)\",\"(0.0, 0.028284713625907898)\",\"(0.0, 0.031219150871038437)\",\"(0.0, 0.03201106935739517)\",\"(0.0, 0.03227828070521355)\",\"(0.0, 0.03239434212446213)\",\"(0.0, 0.03260226920247078)\",\"(0.0, 0.03351511433720589)\",\"(0.0, 0.035873278975486755)\",\"(0.0, 0.03723869100213051)\",\"(0.0, 0.038366980850696564)\",\"(0.0, 0.03849591314792633)\",\"(0.0, 0.0392923504114151)\",\"(0.0, 0.04105778783559799)\",\"(0.0, 0.043050508946180344)\",\"(0.0, 0.043277475982904434)\",\"(0.0, 0.04448920860886574)\",\"(0.0, 0.04769916832447052)\",\"(0.0, 0.05156828463077545)\",\"(0.0, 0.05298220366239548)\",\"(0.0, 0.054304949939250946)\",\"(0.0, 0.05430701747536659)\",\"(0.0, 0.054876748472452164)\",\"(0.0, 0.05527779087424278)\",\"(0.0, 0.05580061674118042)\",\"(0.0, 0.056047145277261734)\",\"(0.0, 0.05670994892716408)\",\"(0.0, 0.05703015625476837)\",\"(0.0, 0.058082230389118195)\",\"(0.0, 0.05908655747771263)\",\"(0.0, 0.05919931083917618)\",\"(0.0, 0.0597536526620388)\",\"(0.0, 0.06280212849378586)\",\"(0.0, 0.06469859182834625)\",\"(0.0, 0.06745897233486176)\",\"(0.0, 0.06802752614021301)\",\"(0.0, 0.07077695429325104)\",\"(0.0, 0.07332064211368561)\",\"(0.0, 0.07554028928279877)\",\"(0.0, 0.07564330101013184)\",\"(0.0, 0.07569237798452377)\",\"(0.0, 0.07706936448812485)\",\"(0.0, 0.08012765645980835)\",\"(0.0, 0.08253097534179688)\",\"(0.0, 0.0828034058213234)\",\"(0.0, 0.08324975520372391)\",\"(0.0, 0.08392424881458282)\",\"(0.0, 0.08483067154884338)\",\"(0.0, 0.08534236252307892)\",\"(0.0, 0.08631915599107742)\",\"(0.0, 0.08650162070989609)\",\"(0.0, 0.08763681352138519)\",\"(0.0, 0.08880975097417831)\",\"(0.0, 0.08900202810764313)\",\"(0.0, 0.09214777499437332)\",\"(0.0, 0.09281154721975327)\",\"(0.0, 0.09281491488218307)\",\"(0.0, 0.09315482527017593)\",\"(0.0, 0.09446340054273605)\",\"(0.0, 0.09493861347436905)\",\"(0.0, 0.09544957429170609)\",\"(0.0, 0.0973515659570694)\",\"(0.0, 0.09846565127372742)\",\"(0.0, 0.10190599411725998)\",\"(0.0, 0.10370811074972153)\",\"(0.0, 0.10376880317926407)\",\"(0.0, 0.10677161067724228)\",\"(0.0, 0.10848873108625412)\",\"(0.0, 0.10992936789989471)\",\"(0.0, 0.11268099397420883)\",\"(0.0, 0.11328469216823578)\",\"(0.0, 0.11561544239521027)\",\"(0.0, 0.11584585160017014)\",\"(0.0, 0.11860714107751846)\",\"(0.0, 0.12398521602153778)\",\"(0.0, 0.1241246685385704)\",\"(0.0, 0.124295674264431)\",\"(0.0, 0.1253923773765564)\",\"(0.0, 0.12915703654289246)\",\"(0.0, 0.1310722976922989)\",\"(0.0, 0.13404858112335205)\",\"(0.0, 0.13923364877700806)\",\"(0.0, 0.14764320850372314)\",\"(0.0, 0.1499711275100708)\",\"(0.0, 0.154209166765213)\",\"(0.0, 0.154750257730484)\",\"(0.0, 0.1621871292591095)\",\"(0.0, 0.16349084675312042)\",\"(0.0, 0.16399164497852325)\"],\"mode\":\"markers\",\"name\":\"H0\",\"x\":[0.0,0.0,0.0,0.0,0.0,0.0,0.0,0.0,0.0,0.0,0.0,0.0,0.0,0.0,0.0,0.0,0.0,0.0,0.0,0.0,0.0,0.0,0.0,0.0,0.0,0.0,0.0,0.0,0.0,0.0,0.0,0.0,0.0,0.0,0.0,0.0,0.0,0.0,0.0,0.0,0.0,0.0,0.0,0.0,0.0,0.0,0.0,0.0,0.0,0.0,0.0,0.0,0.0,0.0,0.0,0.0,0.0,0.0,0.0,0.0,0.0,0.0,0.0,0.0,0.0,0.0,0.0,0.0,0.0,0.0,0.0,0.0,0.0,0.0,0.0,0.0,0.0,0.0,0.0,0.0,0.0,0.0,0.0,0.0,0.0,0.0,0.0,0.0,0.0,0.0,0.0,0.0,0.0,0.0,0.0,0.0,0.0,0.0,0.0],\"y\":[0.009936298243701458,0.010045132599771023,0.011305323801934719,0.01693105697631836,0.019279738888144493,0.020123431459069252,0.02028859592974186,0.02313888445496559,0.023599963635206223,0.024060284718871117,0.026484770700335503,0.028284713625907898,0.031219150871038437,0.03201106935739517,0.03227828070521355,0.03239434212446213,0.03260226920247078,0.03351511433720589,0.035873278975486755,0.03723869100213051,0.038366980850696564,0.03849591314792633,0.0392923504114151,0.04105778783559799,0.043050508946180344,0.043277475982904434,0.04448920860886574,0.04769916832447052,0.05156828463077545,0.05298220366239548,0.054304949939250946,0.05430701747536659,0.054876748472452164,0.05527779087424278,0.05580061674118042,0.056047145277261734,0.05670994892716408,0.05703015625476837,0.058082230389118195,0.05908655747771263,0.05919931083917618,0.0597536526620388,0.06280212849378586,0.06469859182834625,0.06745897233486176,0.06802752614021301,0.07077695429325104,0.07332064211368561,0.07554028928279877,0.07564330101013184,0.07569237798452377,0.07706936448812485,0.08012765645980835,0.08253097534179688,0.0828034058213234,0.08324975520372391,0.08392424881458282,0.08483067154884338,0.08534236252307892,0.08631915599107742,0.08650162070989609,0.08763681352138519,0.08880975097417831,0.08900202810764313,0.09214777499437332,0.09281154721975327,0.09281491488218307,0.09315482527017593,0.09446340054273605,0.09493861347436905,0.09544957429170609,0.0973515659570694,0.09846565127372742,0.10190599411725998,0.10370811074972153,0.10376880317926407,0.10677161067724228,0.10848873108625412,0.10992936789989471,0.11268099397420883,0.11328469216823578,0.11561544239521027,0.11584585160017014,0.11860714107751846,0.12398521602153778,0.1241246685385704,0.124295674264431,0.1253923773765564,0.12915703654289246,0.1310722976922989,0.13404858112335205,0.13923364877700806,0.14764320850372314,0.1499711275100708,0.154209166765213,0.154750257730484,0.1621871292591095,0.16349084675312042,0.16399164497852325],\"type\":\"scatter\"},{\"hoverinfo\":\"text\",\"hovertext\":[\"(0.2037922590970993, 1.675987958908081)\",\"(0.12699712812900543, 0.1294834166765213)\"],\"mode\":\"markers\",\"name\":\"H1\",\"x\":[0.2037922590970993,0.12699712812900543],\"y\":[1.675987958908081,0.1294834166765213],\"type\":\"scatter\"},{\"hoverinfo\":\"text\",\"hovertext\":[\"(1.7243256568908691, 1.7667758464813232)\",\"(1.7181087732315063, 1.7359730005264282)\",\"(1.717090129852295, 1.7413145303726196)\",\"(1.6980838775634766, 1.7183188199996948)\",\"(1.6847679615020752, 1.76373291015625)\",\"(1.6763765811920166, 1.6948519945144653)\"],\"mode\":\"markers\",\"name\":\"H2\",\"x\":[1.7243256568908691,1.7181087732315063,1.717090129852295,1.6980838775634766,1.6847679615020752,1.6763765811920166],\"y\":[1.7667758464813232,1.7359730005264282,1.7413145303726196,1.7183188199996948,1.76373291015625,1.6948519945144653],\"type\":\"scatter\"}],                        {\"template\":{\"data\":{\"histogram2dcontour\":[{\"type\":\"histogram2dcontour\",\"colorbar\":{\"outlinewidth\":0,\"ticks\":\"\"},\"colorscale\":[[0.0,\"#0d0887\"],[0.1111111111111111,\"#46039f\"],[0.2222222222222222,\"#7201a8\"],[0.3333333333333333,\"#9c179e\"],[0.4444444444444444,\"#bd3786\"],[0.5555555555555556,\"#d8576b\"],[0.6666666666666666,\"#ed7953\"],[0.7777777777777778,\"#fb9f3a\"],[0.8888888888888888,\"#fdca26\"],[1.0,\"#f0f921\"]]}],\"choropleth\":[{\"type\":\"choropleth\",\"colorbar\":{\"outlinewidth\":0,\"ticks\":\"\"}}],\"histogram2d\":[{\"type\":\"histogram2d\",\"colorbar\":{\"outlinewidth\":0,\"ticks\":\"\"},\"colorscale\":[[0.0,\"#0d0887\"],[0.1111111111111111,\"#46039f\"],[0.2222222222222222,\"#7201a8\"],[0.3333333333333333,\"#9c179e\"],[0.4444444444444444,\"#bd3786\"],[0.5555555555555556,\"#d8576b\"],[0.6666666666666666,\"#ed7953\"],[0.7777777777777778,\"#fb9f3a\"],[0.8888888888888888,\"#fdca26\"],[1.0,\"#f0f921\"]]}],\"heatmap\":[{\"type\":\"heatmap\",\"colorbar\":{\"outlinewidth\":0,\"ticks\":\"\"},\"colorscale\":[[0.0,\"#0d0887\"],[0.1111111111111111,\"#46039f\"],[0.2222222222222222,\"#7201a8\"],[0.3333333333333333,\"#9c179e\"],[0.4444444444444444,\"#bd3786\"],[0.5555555555555556,\"#d8576b\"],[0.6666666666666666,\"#ed7953\"],[0.7777777777777778,\"#fb9f3a\"],[0.8888888888888888,\"#fdca26\"],[1.0,\"#f0f921\"]]}],\"heatmapgl\":[{\"type\":\"heatmapgl\",\"colorbar\":{\"outlinewidth\":0,\"ticks\":\"\"},\"colorscale\":[[0.0,\"#0d0887\"],[0.1111111111111111,\"#46039f\"],[0.2222222222222222,\"#7201a8\"],[0.3333333333333333,\"#9c179e\"],[0.4444444444444444,\"#bd3786\"],[0.5555555555555556,\"#d8576b\"],[0.6666666666666666,\"#ed7953\"],[0.7777777777777778,\"#fb9f3a\"],[0.8888888888888888,\"#fdca26\"],[1.0,\"#f0f921\"]]}],\"contourcarpet\":[{\"type\":\"contourcarpet\",\"colorbar\":{\"outlinewidth\":0,\"ticks\":\"\"}}],\"contour\":[{\"type\":\"contour\",\"colorbar\":{\"outlinewidth\":0,\"ticks\":\"\"},\"colorscale\":[[0.0,\"#0d0887\"],[0.1111111111111111,\"#46039f\"],[0.2222222222222222,\"#7201a8\"],[0.3333333333333333,\"#9c179e\"],[0.4444444444444444,\"#bd3786\"],[0.5555555555555556,\"#d8576b\"],[0.6666666666666666,\"#ed7953\"],[0.7777777777777778,\"#fb9f3a\"],[0.8888888888888888,\"#fdca26\"],[1.0,\"#f0f921\"]]}],\"surface\":[{\"type\":\"surface\",\"colorbar\":{\"outlinewidth\":0,\"ticks\":\"\"},\"colorscale\":[[0.0,\"#0d0887\"],[0.1111111111111111,\"#46039f\"],[0.2222222222222222,\"#7201a8\"],[0.3333333333333333,\"#9c179e\"],[0.4444444444444444,\"#bd3786\"],[0.5555555555555556,\"#d8576b\"],[0.6666666666666666,\"#ed7953\"],[0.7777777777777778,\"#fb9f3a\"],[0.8888888888888888,\"#fdca26\"],[1.0,\"#f0f921\"]]}],\"mesh3d\":[{\"type\":\"mesh3d\",\"colorbar\":{\"outlinewidth\":0,\"ticks\":\"\"}}],\"scatter\":[{\"fillpattern\":{\"fillmode\":\"overlay\",\"size\":10,\"solidity\":0.2},\"type\":\"scatter\"}],\"parcoords\":[{\"type\":\"parcoords\",\"line\":{\"colorbar\":{\"outlinewidth\":0,\"ticks\":\"\"}}}],\"scatterpolargl\":[{\"type\":\"scatterpolargl\",\"marker\":{\"colorbar\":{\"outlinewidth\":0,\"ticks\":\"\"}}}],\"bar\":[{\"error_x\":{\"color\":\"#2a3f5f\"},\"error_y\":{\"color\":\"#2a3f5f\"},\"marker\":{\"line\":{\"color\":\"#E5ECF6\",\"width\":0.5},\"pattern\":{\"fillmode\":\"overlay\",\"size\":10,\"solidity\":0.2}},\"type\":\"bar\"}],\"scattergeo\":[{\"type\":\"scattergeo\",\"marker\":{\"colorbar\":{\"outlinewidth\":0,\"ticks\":\"\"}}}],\"scatterpolar\":[{\"type\":\"scatterpolar\",\"marker\":{\"colorbar\":{\"outlinewidth\":0,\"ticks\":\"\"}}}],\"histogram\":[{\"marker\":{\"pattern\":{\"fillmode\":\"overlay\",\"size\":10,\"solidity\":0.2}},\"type\":\"histogram\"}],\"scattergl\":[{\"type\":\"scattergl\",\"marker\":{\"colorbar\":{\"outlinewidth\":0,\"ticks\":\"\"}}}],\"scatter3d\":[{\"type\":\"scatter3d\",\"line\":{\"colorbar\":{\"outlinewidth\":0,\"ticks\":\"\"}},\"marker\":{\"colorbar\":{\"outlinewidth\":0,\"ticks\":\"\"}}}],\"scattermapbox\":[{\"type\":\"scattermapbox\",\"marker\":{\"colorbar\":{\"outlinewidth\":0,\"ticks\":\"\"}}}],\"scatterternary\":[{\"type\":\"scatterternary\",\"marker\":{\"colorbar\":{\"outlinewidth\":0,\"ticks\":\"\"}}}],\"scattercarpet\":[{\"type\":\"scattercarpet\",\"marker\":{\"colorbar\":{\"outlinewidth\":0,\"ticks\":\"\"}}}],\"carpet\":[{\"aaxis\":{\"endlinecolor\":\"#2a3f5f\",\"gridcolor\":\"white\",\"linecolor\":\"white\",\"minorgridcolor\":\"white\",\"startlinecolor\":\"#2a3f5f\"},\"baxis\":{\"endlinecolor\":\"#2a3f5f\",\"gridcolor\":\"white\",\"linecolor\":\"white\",\"minorgridcolor\":\"white\",\"startlinecolor\":\"#2a3f5f\"},\"type\":\"carpet\"}],\"table\":[{\"cells\":{\"fill\":{\"color\":\"#EBF0F8\"},\"line\":{\"color\":\"white\"}},\"header\":{\"fill\":{\"color\":\"#C8D4E3\"},\"line\":{\"color\":\"white\"}},\"type\":\"table\"}],\"barpolar\":[{\"marker\":{\"line\":{\"color\":\"#E5ECF6\",\"width\":0.5},\"pattern\":{\"fillmode\":\"overlay\",\"size\":10,\"solidity\":0.2}},\"type\":\"barpolar\"}],\"pie\":[{\"automargin\":true,\"type\":\"pie\"}]},\"layout\":{\"autotypenumbers\":\"strict\",\"colorway\":[\"#636efa\",\"#EF553B\",\"#00cc96\",\"#ab63fa\",\"#FFA15A\",\"#19d3f3\",\"#FF6692\",\"#B6E880\",\"#FF97FF\",\"#FECB52\"],\"font\":{\"color\":\"#2a3f5f\"},\"hovermode\":\"closest\",\"hoverlabel\":{\"align\":\"left\"},\"paper_bgcolor\":\"white\",\"plot_bgcolor\":\"#E5ECF6\",\"polar\":{\"bgcolor\":\"#E5ECF6\",\"angularaxis\":{\"gridcolor\":\"white\",\"linecolor\":\"white\",\"ticks\":\"\"},\"radialaxis\":{\"gridcolor\":\"white\",\"linecolor\":\"white\",\"ticks\":\"\"}},\"ternary\":{\"bgcolor\":\"#E5ECF6\",\"aaxis\":{\"gridcolor\":\"white\",\"linecolor\":\"white\",\"ticks\":\"\"},\"baxis\":{\"gridcolor\":\"white\",\"linecolor\":\"white\",\"ticks\":\"\"},\"caxis\":{\"gridcolor\":\"white\",\"linecolor\":\"white\",\"ticks\":\"\"}},\"coloraxis\":{\"colorbar\":{\"outlinewidth\":0,\"ticks\":\"\"}},\"colorscale\":{\"sequential\":[[0.0,\"#0d0887\"],[0.1111111111111111,\"#46039f\"],[0.2222222222222222,\"#7201a8\"],[0.3333333333333333,\"#9c179e\"],[0.4444444444444444,\"#bd3786\"],[0.5555555555555556,\"#d8576b\"],[0.6666666666666666,\"#ed7953\"],[0.7777777777777778,\"#fb9f3a\"],[0.8888888888888888,\"#fdca26\"],[1.0,\"#f0f921\"]],\"sequentialminus\":[[0.0,\"#0d0887\"],[0.1111111111111111,\"#46039f\"],[0.2222222222222222,\"#7201a8\"],[0.3333333333333333,\"#9c179e\"],[0.4444444444444444,\"#bd3786\"],[0.5555555555555556,\"#d8576b\"],[0.6666666666666666,\"#ed7953\"],[0.7777777777777778,\"#fb9f3a\"],[0.8888888888888888,\"#fdca26\"],[1.0,\"#f0f921\"]],\"diverging\":[[0,\"#8e0152\"],[0.1,\"#c51b7d\"],[0.2,\"#de77ae\"],[0.3,\"#f1b6da\"],[0.4,\"#fde0ef\"],[0.5,\"#f7f7f7\"],[0.6,\"#e6f5d0\"],[0.7,\"#b8e186\"],[0.8,\"#7fbc41\"],[0.9,\"#4d9221\"],[1,\"#276419\"]]},\"xaxis\":{\"gridcolor\":\"white\",\"linecolor\":\"white\",\"ticks\":\"\",\"title\":{\"standoff\":15},\"zerolinecolor\":\"white\",\"automargin\":true,\"zerolinewidth\":2},\"yaxis\":{\"gridcolor\":\"white\",\"linecolor\":\"white\",\"ticks\":\"\",\"title\":{\"standoff\":15},\"zerolinecolor\":\"white\",\"automargin\":true,\"zerolinewidth\":2},\"scene\":{\"xaxis\":{\"backgroundcolor\":\"#E5ECF6\",\"gridcolor\":\"white\",\"linecolor\":\"white\",\"showbackground\":true,\"ticks\":\"\",\"zerolinecolor\":\"white\",\"gridwidth\":2},\"yaxis\":{\"backgroundcolor\":\"#E5ECF6\",\"gridcolor\":\"white\",\"linecolor\":\"white\",\"showbackground\":true,\"ticks\":\"\",\"zerolinecolor\":\"white\",\"gridwidth\":2},\"zaxis\":{\"backgroundcolor\":\"#E5ECF6\",\"gridcolor\":\"white\",\"linecolor\":\"white\",\"showbackground\":true,\"ticks\":\"\",\"zerolinecolor\":\"white\",\"gridwidth\":2}},\"shapedefaults\":{\"line\":{\"color\":\"#2a3f5f\"}},\"annotationdefaults\":{\"arrowcolor\":\"#2a3f5f\",\"arrowhead\":0,\"arrowwidth\":1},\"geo\":{\"bgcolor\":\"white\",\"landcolor\":\"#E5ECF6\",\"subunitcolor\":\"white\",\"showland\":true,\"showlakes\":true,\"lakecolor\":\"white\"},\"title\":{\"x\":0.05},\"mapbox\":{\"style\":\"light\"}}},\"xaxis\":{\"title\":{\"text\":\"Birth\"},\"side\":\"bottom\",\"type\":\"linear\",\"range\":[-0.03533551692962646,1.8021113634109498],\"autorange\":false,\"ticks\":\"outside\",\"showline\":true,\"zeroline\":true,\"linewidth\":1,\"linecolor\":\"black\",\"mirror\":false,\"showexponent\":\"all\",\"exponentformat\":\"e\"},\"yaxis\":{\"title\":{\"text\":\"Death\"},\"side\":\"left\",\"type\":\"linear\",\"range\":[-0.03533551692962646,1.8021113634109498],\"autorange\":false,\"scaleanchor\":\"x\",\"scaleratio\":1,\"ticks\":\"outside\",\"showline\":true,\"zeroline\":true,\"linewidth\":1,\"linecolor\":\"black\",\"mirror\":false,\"showexponent\":\"all\",\"exponentformat\":\"e\"},\"width\":500,\"height\":500,\"plot_bgcolor\":\"white\"},                        {\"responsive\": true}                    ).then(function(){\n",
              "                            \n",
              "var gd = document.getElementById('de4daed9-6d3a-47db-99c0-d49951709c4e');\n",
              "var x = new MutationObserver(function (mutations, observer) {{\n",
              "        var display = window.getComputedStyle(gd).display;\n",
              "        if (!display || display === 'none') {{\n",
              "            console.log([gd, 'removed!']);\n",
              "            Plotly.purge(gd);\n",
              "            observer.disconnect();\n",
              "        }}\n",
              "}});\n",
              "\n",
              "// Listen for the removal of the full notebook cells\n",
              "var notebookContainer = gd.closest('#notebook-container');\n",
              "if (notebookContainer) {{\n",
              "    x.observe(notebookContainer, {childList: true});\n",
              "}}\n",
              "\n",
              "// Listen for the clearing of the current output cell\n",
              "var outputEl = gd.closest('.output');\n",
              "if (outputEl) {{\n",
              "    x.observe(outputEl, {childList: true});\n",
              "}}\n",
              "\n",
              "                        })                };                            </script>        </div>\n",
              "</body>\n",
              "</html>"
            ]
          },
          "metadata": {}
        }
      ]
    },
    {
      "cell_type": "code",
      "source": [
        "plot_diagram(diagrams[5])"
      ],
      "metadata": {
        "id": "rKiQgP6zP4IG",
        "colab": {
          "base_uri": "https://localhost:8080/",
          "height": 517
        },
        "outputId": "608aec9c-c394-4798-c168-6812b6df6052"
      },
      "execution_count": null,
      "outputs": [
        {
          "output_type": "display_data",
          "data": {
            "text/html": [
              "<html>\n",
              "<head><meta charset=\"utf-8\" /></head>\n",
              "<body>\n",
              "    <div>            <script src=\"https://cdnjs.cloudflare.com/ajax/libs/mathjax/2.7.5/MathJax.js?config=TeX-AMS-MML_SVG\"></script><script type=\"text/javascript\">if (window.MathJax && window.MathJax.Hub && window.MathJax.Hub.Config) {window.MathJax.Hub.Config({SVG: {font: \"STIX-Web\"}});}</script>                <script type=\"text/javascript\">window.PlotlyConfig = {MathJaxConfig: 'local'};</script>\n",
              "        <script src=\"https://cdn.plot.ly/plotly-2.18.2.min.js\"></script>                <div id=\"3c57157d-f07e-42ee-957b-0b058c9121e8\" class=\"plotly-graph-div\" style=\"height:500px; width:500px;\"></div>            <script type=\"text/javascript\">                                    window.PLOTLYENV=window.PLOTLYENV || {};                                    if (document.getElementById(\"3c57157d-f07e-42ee-957b-0b058c9121e8\")) {                    Plotly.newPlot(                        \"3c57157d-f07e-42ee-957b-0b058c9121e8\",                        [{\"hoverinfo\":\"none\",\"line\":{\"color\":\"black\",\"dash\":\"dash\",\"width\":1},\"mode\":\"lines\",\"showlegend\":false,\"x\":[-0.035324630737304685,1.8015561676025391],\"y\":[-0.035324630737304685,1.8015561676025391],\"type\":\"scatter\"},{\"hoverinfo\":\"text\",\"hovertext\":[\"(0.0, 0.004424733109772205)\",\"(0.0, 0.010289027355611324)\",\"(0.0, 0.012187924236059189)\",\"(0.0, 0.013544616289436817)\",\"(0.0, 0.015022361651062965)\",\"(0.0, 0.01687716878950596)\",\"(0.0, 0.017477164044976234)\",\"(0.0, 0.020684093236923218)\",\"(0.0, 0.020853297784924507)\",\"(0.0, 0.023045914247632027)\",\"(0.0, 0.02539665251970291)\",\"(0.0, 0.02841687947511673)\",\"(0.0, 0.029446840286254883)\",\"(0.0, 0.030475683510303497)\",\"(0.0, 0.03076534904539585)\",\"(0.0, 0.03520815446972847)\",\"(0.0, 0.03554605320096016)\",\"(0.0, 0.03562571480870247)\",\"(0.0, 0.03694836050271988)\",\"(0.0, 0.037206824868917465)\",\"(0.0, 0.038542211055755615)\",\"(0.0, 0.03903864324092865)\",\"(0.0, 0.0393860824406147)\",\"(0.0, 0.03990479186177254)\",\"(0.0, 0.041147224605083466)\",\"(0.0, 0.04121451452374458)\",\"(0.0, 0.04169007018208504)\",\"(0.0, 0.04199177399277687)\",\"(0.0, 0.04285303130745888)\",\"(0.0, 0.0455084964632988)\",\"(0.0, 0.04554877057671547)\",\"(0.0, 0.04772060737013817)\",\"(0.0, 0.0481845922768116)\",\"(0.0, 0.05260223522782326)\",\"(0.0, 0.0528348870575428)\",\"(0.0, 0.0529969185590744)\",\"(0.0, 0.0537150613963604)\",\"(0.0, 0.05398821830749512)\",\"(0.0, 0.05610888451337814)\",\"(0.0, 0.059049636125564575)\",\"(0.0, 0.05951674282550812)\",\"(0.0, 0.06154297664761543)\",\"(0.0, 0.0647619217634201)\",\"(0.0, 0.0655050203204155)\",\"(0.0, 0.06734218448400497)\",\"(0.0, 0.06815171241760254)\",\"(0.0, 0.06952302902936935)\",\"(0.0, 0.07106155902147293)\",\"(0.0, 0.07239484041929245)\",\"(0.0, 0.07426635175943375)\",\"(0.0, 0.0749884843826294)\",\"(0.0, 0.07570213079452515)\",\"(0.0, 0.07766064256429672)\",\"(0.0, 0.07815570384263992)\",\"(0.0, 0.07851194590330124)\",\"(0.0, 0.08213236927986145)\",\"(0.0, 0.08236400783061981)\",\"(0.0, 0.08281544595956802)\",\"(0.0, 0.08523940294981003)\",\"(0.0, 0.08671817183494568)\",\"(0.0, 0.08675859123468399)\",\"(0.0, 0.08686687052249908)\",\"(0.0, 0.0889672115445137)\",\"(0.0, 0.09083762764930725)\",\"(0.0, 0.09650950878858566)\",\"(0.0, 0.10257957130670547)\",\"(0.0, 0.10290747135877609)\",\"(0.0, 0.10378431528806686)\",\"(0.0, 0.10450789332389832)\",\"(0.0, 0.10690650343894958)\",\"(0.0, 0.10692628473043442)\",\"(0.0, 0.10751733183860779)\",\"(0.0, 0.10793502628803253)\",\"(0.0, 0.11062609404325485)\",\"(0.0, 0.11091874539852142)\",\"(0.0, 0.11167227476835251)\",\"(0.0, 0.11192958801984787)\",\"(0.0, 0.11818279325962067)\",\"(0.0, 0.11990691721439362)\",\"(0.0, 0.12067802250385284)\",\"(0.0, 0.1210477203130722)\",\"(0.0, 0.12192129343748093)\",\"(0.0, 0.12272108346223831)\",\"(0.0, 0.12617039680480957)\",\"(0.0, 0.13191740214824677)\",\"(0.0, 0.131968691945076)\",\"(0.0, 0.13316144049167633)\",\"(0.0, 0.13644175231456757)\",\"(0.0, 0.13663096725940704)\",\"(0.0, 0.13861440122127533)\",\"(0.0, 0.1395782083272934)\",\"(0.0, 0.1416865736246109)\",\"(0.0, 0.14272665977478027)\",\"(0.0, 0.1442389041185379)\",\"(0.0, 0.14462676644325256)\",\"(0.0, 0.14861132204532623)\",\"(0.0, 0.15589666366577148)\",\"(0.0, 0.1605294942855835)\",\"(0.0, 0.16181959211826324)\"],\"mode\":\"markers\",\"name\":\"H0\",\"x\":[0.0,0.0,0.0,0.0,0.0,0.0,0.0,0.0,0.0,0.0,0.0,0.0,0.0,0.0,0.0,0.0,0.0,0.0,0.0,0.0,0.0,0.0,0.0,0.0,0.0,0.0,0.0,0.0,0.0,0.0,0.0,0.0,0.0,0.0,0.0,0.0,0.0,0.0,0.0,0.0,0.0,0.0,0.0,0.0,0.0,0.0,0.0,0.0,0.0,0.0,0.0,0.0,0.0,0.0,0.0,0.0,0.0,0.0,0.0,0.0,0.0,0.0,0.0,0.0,0.0,0.0,0.0,0.0,0.0,0.0,0.0,0.0,0.0,0.0,0.0,0.0,0.0,0.0,0.0,0.0,0.0,0.0,0.0,0.0,0.0,0.0,0.0,0.0,0.0,0.0,0.0,0.0,0.0,0.0,0.0,0.0,0.0,0.0,0.0],\"y\":[0.004424733109772205,0.010289027355611324,0.012187924236059189,0.013544616289436817,0.015022361651062965,0.01687716878950596,0.017477164044976234,0.020684093236923218,0.020853297784924507,0.023045914247632027,0.02539665251970291,0.02841687947511673,0.029446840286254883,0.030475683510303497,0.03076534904539585,0.03520815446972847,0.03554605320096016,0.03562571480870247,0.03694836050271988,0.037206824868917465,0.038542211055755615,0.03903864324092865,0.0393860824406147,0.03990479186177254,0.041147224605083466,0.04121451452374458,0.04169007018208504,0.04199177399277687,0.04285303130745888,0.0455084964632988,0.04554877057671547,0.04772060737013817,0.0481845922768116,0.05260223522782326,0.0528348870575428,0.0529969185590744,0.0537150613963604,0.05398821830749512,0.05610888451337814,0.059049636125564575,0.05951674282550812,0.06154297664761543,0.0647619217634201,0.0655050203204155,0.06734218448400497,0.06815171241760254,0.06952302902936935,0.07106155902147293,0.07239484041929245,0.07426635175943375,0.0749884843826294,0.07570213079452515,0.07766064256429672,0.07815570384263992,0.07851194590330124,0.08213236927986145,0.08236400783061981,0.08281544595956802,0.08523940294981003,0.08671817183494568,0.08675859123468399,0.08686687052249908,0.0889672115445137,0.09083762764930725,0.09650950878858566,0.10257957130670547,0.10290747135877609,0.10378431528806686,0.10450789332389832,0.10690650343894958,0.10692628473043442,0.10751733183860779,0.10793502628803253,0.11062609404325485,0.11091874539852142,0.11167227476835251,0.11192958801984787,0.11818279325962067,0.11990691721439362,0.12067802250385284,0.1210477203130722,0.12192129343748093,0.12272108346223831,0.12617039680480957,0.13191740214824677,0.131968691945076,0.13316144049167633,0.13644175231456757,0.13663096725940704,0.13861440122127533,0.1395782083272934,0.1416865736246109,0.14272665977478027,0.1442389041185379,0.14462676644325256,0.14861132204532623,0.15589666366577148,0.1605294942855835,0.16181959211826324],\"type\":\"scatter\"},{\"hoverinfo\":\"text\",\"hovertext\":[\"(0.17006860673427582, 1.677370309829712)\",\"(0.14071913063526154, 0.14235945045948029)\",\"(0.12330996245145798, 0.12995311617851257)\"],\"mode\":\"markers\",\"name\":\"H1\",\"x\":[0.17006860673427582,0.14071913063526154,0.12330996245145798],\"y\":[1.677370309829712,0.14235945045948029,0.12995311617851257],\"type\":\"scatter\"},{\"hoverinfo\":\"text\",\"hovertext\":[\"(1.7521167993545532, 1.7522722482681274)\",\"(1.7397830486297607, 1.7494608163833618)\",\"(1.719642162322998, 1.7333734035491943)\",\"(1.7053076028823853, 1.7154755592346191)\",\"(1.7033584117889404, 1.7662315368652344)\",\"(1.699181318283081, 1.7638951539993286)\",\"(1.6895819902420044, 1.6925172805786133)\"],\"mode\":\"markers\",\"name\":\"H2\",\"x\":[1.7521167993545532,1.7397830486297607,1.719642162322998,1.7053076028823853,1.7033584117889404,1.699181318283081,1.6895819902420044],\"y\":[1.7522722482681274,1.7494608163833618,1.7333734035491943,1.7154755592346191,1.7662315368652344,1.7638951539993286,1.6925172805786133],\"type\":\"scatter\"}],                        {\"template\":{\"data\":{\"histogram2dcontour\":[{\"type\":\"histogram2dcontour\",\"colorbar\":{\"outlinewidth\":0,\"ticks\":\"\"},\"colorscale\":[[0.0,\"#0d0887\"],[0.1111111111111111,\"#46039f\"],[0.2222222222222222,\"#7201a8\"],[0.3333333333333333,\"#9c179e\"],[0.4444444444444444,\"#bd3786\"],[0.5555555555555556,\"#d8576b\"],[0.6666666666666666,\"#ed7953\"],[0.7777777777777778,\"#fb9f3a\"],[0.8888888888888888,\"#fdca26\"],[1.0,\"#f0f921\"]]}],\"choropleth\":[{\"type\":\"choropleth\",\"colorbar\":{\"outlinewidth\":0,\"ticks\":\"\"}}],\"histogram2d\":[{\"type\":\"histogram2d\",\"colorbar\":{\"outlinewidth\":0,\"ticks\":\"\"},\"colorscale\":[[0.0,\"#0d0887\"],[0.1111111111111111,\"#46039f\"],[0.2222222222222222,\"#7201a8\"],[0.3333333333333333,\"#9c179e\"],[0.4444444444444444,\"#bd3786\"],[0.5555555555555556,\"#d8576b\"],[0.6666666666666666,\"#ed7953\"],[0.7777777777777778,\"#fb9f3a\"],[0.8888888888888888,\"#fdca26\"],[1.0,\"#f0f921\"]]}],\"heatmap\":[{\"type\":\"heatmap\",\"colorbar\":{\"outlinewidth\":0,\"ticks\":\"\"},\"colorscale\":[[0.0,\"#0d0887\"],[0.1111111111111111,\"#46039f\"],[0.2222222222222222,\"#7201a8\"],[0.3333333333333333,\"#9c179e\"],[0.4444444444444444,\"#bd3786\"],[0.5555555555555556,\"#d8576b\"],[0.6666666666666666,\"#ed7953\"],[0.7777777777777778,\"#fb9f3a\"],[0.8888888888888888,\"#fdca26\"],[1.0,\"#f0f921\"]]}],\"heatmapgl\":[{\"type\":\"heatmapgl\",\"colorbar\":{\"outlinewidth\":0,\"ticks\":\"\"},\"colorscale\":[[0.0,\"#0d0887\"],[0.1111111111111111,\"#46039f\"],[0.2222222222222222,\"#7201a8\"],[0.3333333333333333,\"#9c179e\"],[0.4444444444444444,\"#bd3786\"],[0.5555555555555556,\"#d8576b\"],[0.6666666666666666,\"#ed7953\"],[0.7777777777777778,\"#fb9f3a\"],[0.8888888888888888,\"#fdca26\"],[1.0,\"#f0f921\"]]}],\"contourcarpet\":[{\"type\":\"contourcarpet\",\"colorbar\":{\"outlinewidth\":0,\"ticks\":\"\"}}],\"contour\":[{\"type\":\"contour\",\"colorbar\":{\"outlinewidth\":0,\"ticks\":\"\"},\"colorscale\":[[0.0,\"#0d0887\"],[0.1111111111111111,\"#46039f\"],[0.2222222222222222,\"#7201a8\"],[0.3333333333333333,\"#9c179e\"],[0.4444444444444444,\"#bd3786\"],[0.5555555555555556,\"#d8576b\"],[0.6666666666666666,\"#ed7953\"],[0.7777777777777778,\"#fb9f3a\"],[0.8888888888888888,\"#fdca26\"],[1.0,\"#f0f921\"]]}],\"surface\":[{\"type\":\"surface\",\"colorbar\":{\"outlinewidth\":0,\"ticks\":\"\"},\"colorscale\":[[0.0,\"#0d0887\"],[0.1111111111111111,\"#46039f\"],[0.2222222222222222,\"#7201a8\"],[0.3333333333333333,\"#9c179e\"],[0.4444444444444444,\"#bd3786\"],[0.5555555555555556,\"#d8576b\"],[0.6666666666666666,\"#ed7953\"],[0.7777777777777778,\"#fb9f3a\"],[0.8888888888888888,\"#fdca26\"],[1.0,\"#f0f921\"]]}],\"mesh3d\":[{\"type\":\"mesh3d\",\"colorbar\":{\"outlinewidth\":0,\"ticks\":\"\"}}],\"scatter\":[{\"fillpattern\":{\"fillmode\":\"overlay\",\"size\":10,\"solidity\":0.2},\"type\":\"scatter\"}],\"parcoords\":[{\"type\":\"parcoords\",\"line\":{\"colorbar\":{\"outlinewidth\":0,\"ticks\":\"\"}}}],\"scatterpolargl\":[{\"type\":\"scatterpolargl\",\"marker\":{\"colorbar\":{\"outlinewidth\":0,\"ticks\":\"\"}}}],\"bar\":[{\"error_x\":{\"color\":\"#2a3f5f\"},\"error_y\":{\"color\":\"#2a3f5f\"},\"marker\":{\"line\":{\"color\":\"#E5ECF6\",\"width\":0.5},\"pattern\":{\"fillmode\":\"overlay\",\"size\":10,\"solidity\":0.2}},\"type\":\"bar\"}],\"scattergeo\":[{\"type\":\"scattergeo\",\"marker\":{\"colorbar\":{\"outlinewidth\":0,\"ticks\":\"\"}}}],\"scatterpolar\":[{\"type\":\"scatterpolar\",\"marker\":{\"colorbar\":{\"outlinewidth\":0,\"ticks\":\"\"}}}],\"histogram\":[{\"marker\":{\"pattern\":{\"fillmode\":\"overlay\",\"size\":10,\"solidity\":0.2}},\"type\":\"histogram\"}],\"scattergl\":[{\"type\":\"scattergl\",\"marker\":{\"colorbar\":{\"outlinewidth\":0,\"ticks\":\"\"}}}],\"scatter3d\":[{\"type\":\"scatter3d\",\"line\":{\"colorbar\":{\"outlinewidth\":0,\"ticks\":\"\"}},\"marker\":{\"colorbar\":{\"outlinewidth\":0,\"ticks\":\"\"}}}],\"scattermapbox\":[{\"type\":\"scattermapbox\",\"marker\":{\"colorbar\":{\"outlinewidth\":0,\"ticks\":\"\"}}}],\"scatterternary\":[{\"type\":\"scatterternary\",\"marker\":{\"colorbar\":{\"outlinewidth\":0,\"ticks\":\"\"}}}],\"scattercarpet\":[{\"type\":\"scattercarpet\",\"marker\":{\"colorbar\":{\"outlinewidth\":0,\"ticks\":\"\"}}}],\"carpet\":[{\"aaxis\":{\"endlinecolor\":\"#2a3f5f\",\"gridcolor\":\"white\",\"linecolor\":\"white\",\"minorgridcolor\":\"white\",\"startlinecolor\":\"#2a3f5f\"},\"baxis\":{\"endlinecolor\":\"#2a3f5f\",\"gridcolor\":\"white\",\"linecolor\":\"white\",\"minorgridcolor\":\"white\",\"startlinecolor\":\"#2a3f5f\"},\"type\":\"carpet\"}],\"table\":[{\"cells\":{\"fill\":{\"color\":\"#EBF0F8\"},\"line\":{\"color\":\"white\"}},\"header\":{\"fill\":{\"color\":\"#C8D4E3\"},\"line\":{\"color\":\"white\"}},\"type\":\"table\"}],\"barpolar\":[{\"marker\":{\"line\":{\"color\":\"#E5ECF6\",\"width\":0.5},\"pattern\":{\"fillmode\":\"overlay\",\"size\":10,\"solidity\":0.2}},\"type\":\"barpolar\"}],\"pie\":[{\"automargin\":true,\"type\":\"pie\"}]},\"layout\":{\"autotypenumbers\":\"strict\",\"colorway\":[\"#636efa\",\"#EF553B\",\"#00cc96\",\"#ab63fa\",\"#FFA15A\",\"#19d3f3\",\"#FF6692\",\"#B6E880\",\"#FF97FF\",\"#FECB52\"],\"font\":{\"color\":\"#2a3f5f\"},\"hovermode\":\"closest\",\"hoverlabel\":{\"align\":\"left\"},\"paper_bgcolor\":\"white\",\"plot_bgcolor\":\"#E5ECF6\",\"polar\":{\"bgcolor\":\"#E5ECF6\",\"angularaxis\":{\"gridcolor\":\"white\",\"linecolor\":\"white\",\"ticks\":\"\"},\"radialaxis\":{\"gridcolor\":\"white\",\"linecolor\":\"white\",\"ticks\":\"\"}},\"ternary\":{\"bgcolor\":\"#E5ECF6\",\"aaxis\":{\"gridcolor\":\"white\",\"linecolor\":\"white\",\"ticks\":\"\"},\"baxis\":{\"gridcolor\":\"white\",\"linecolor\":\"white\",\"ticks\":\"\"},\"caxis\":{\"gridcolor\":\"white\",\"linecolor\":\"white\",\"ticks\":\"\"}},\"coloraxis\":{\"colorbar\":{\"outlinewidth\":0,\"ticks\":\"\"}},\"colorscale\":{\"sequential\":[[0.0,\"#0d0887\"],[0.1111111111111111,\"#46039f\"],[0.2222222222222222,\"#7201a8\"],[0.3333333333333333,\"#9c179e\"],[0.4444444444444444,\"#bd3786\"],[0.5555555555555556,\"#d8576b\"],[0.6666666666666666,\"#ed7953\"],[0.7777777777777778,\"#fb9f3a\"],[0.8888888888888888,\"#fdca26\"],[1.0,\"#f0f921\"]],\"sequentialminus\":[[0.0,\"#0d0887\"],[0.1111111111111111,\"#46039f\"],[0.2222222222222222,\"#7201a8\"],[0.3333333333333333,\"#9c179e\"],[0.4444444444444444,\"#bd3786\"],[0.5555555555555556,\"#d8576b\"],[0.6666666666666666,\"#ed7953\"],[0.7777777777777778,\"#fb9f3a\"],[0.8888888888888888,\"#fdca26\"],[1.0,\"#f0f921\"]],\"diverging\":[[0,\"#8e0152\"],[0.1,\"#c51b7d\"],[0.2,\"#de77ae\"],[0.3,\"#f1b6da\"],[0.4,\"#fde0ef\"],[0.5,\"#f7f7f7\"],[0.6,\"#e6f5d0\"],[0.7,\"#b8e186\"],[0.8,\"#7fbc41\"],[0.9,\"#4d9221\"],[1,\"#276419\"]]},\"xaxis\":{\"gridcolor\":\"white\",\"linecolor\":\"white\",\"ticks\":\"\",\"title\":{\"standoff\":15},\"zerolinecolor\":\"white\",\"automargin\":true,\"zerolinewidth\":2},\"yaxis\":{\"gridcolor\":\"white\",\"linecolor\":\"white\",\"ticks\":\"\",\"title\":{\"standoff\":15},\"zerolinecolor\":\"white\",\"automargin\":true,\"zerolinewidth\":2},\"scene\":{\"xaxis\":{\"backgroundcolor\":\"#E5ECF6\",\"gridcolor\":\"white\",\"linecolor\":\"white\",\"showbackground\":true,\"ticks\":\"\",\"zerolinecolor\":\"white\",\"gridwidth\":2},\"yaxis\":{\"backgroundcolor\":\"#E5ECF6\",\"gridcolor\":\"white\",\"linecolor\":\"white\",\"showbackground\":true,\"ticks\":\"\",\"zerolinecolor\":\"white\",\"gridwidth\":2},\"zaxis\":{\"backgroundcolor\":\"#E5ECF6\",\"gridcolor\":\"white\",\"linecolor\":\"white\",\"showbackground\":true,\"ticks\":\"\",\"zerolinecolor\":\"white\",\"gridwidth\":2}},\"shapedefaults\":{\"line\":{\"color\":\"#2a3f5f\"}},\"annotationdefaults\":{\"arrowcolor\":\"#2a3f5f\",\"arrowhead\":0,\"arrowwidth\":1},\"geo\":{\"bgcolor\":\"white\",\"landcolor\":\"#E5ECF6\",\"subunitcolor\":\"white\",\"showland\":true,\"showlakes\":true,\"lakecolor\":\"white\"},\"title\":{\"x\":0.05},\"mapbox\":{\"style\":\"light\"}}},\"xaxis\":{\"title\":{\"text\":\"Birth\"},\"side\":\"bottom\",\"type\":\"linear\",\"range\":[-0.035324630737304685,1.8015561676025391],\"autorange\":false,\"ticks\":\"outside\",\"showline\":true,\"zeroline\":true,\"linewidth\":1,\"linecolor\":\"black\",\"mirror\":false,\"showexponent\":\"all\",\"exponentformat\":\"e\"},\"yaxis\":{\"title\":{\"text\":\"Death\"},\"side\":\"left\",\"type\":\"linear\",\"range\":[-0.035324630737304685,1.8015561676025391],\"autorange\":false,\"scaleanchor\":\"x\",\"scaleratio\":1,\"ticks\":\"outside\",\"showline\":true,\"zeroline\":true,\"linewidth\":1,\"linecolor\":\"black\",\"mirror\":false,\"showexponent\":\"all\",\"exponentformat\":\"e\"},\"width\":500,\"height\":500,\"plot_bgcolor\":\"white\"},                        {\"responsive\": true}                    ).then(function(){\n",
              "                            \n",
              "var gd = document.getElementById('3c57157d-f07e-42ee-957b-0b058c9121e8');\n",
              "var x = new MutationObserver(function (mutations, observer) {{\n",
              "        var display = window.getComputedStyle(gd).display;\n",
              "        if (!display || display === 'none') {{\n",
              "            console.log([gd, 'removed!']);\n",
              "            Plotly.purge(gd);\n",
              "            observer.disconnect();\n",
              "        }}\n",
              "}});\n",
              "\n",
              "// Listen for the removal of the full notebook cells\n",
              "var notebookContainer = gd.closest('#notebook-container');\n",
              "if (notebookContainer) {{\n",
              "    x.observe(notebookContainer, {childList: true});\n",
              "}}\n",
              "\n",
              "// Listen for the clearing of the current output cell\n",
              "var outputEl = gd.closest('.output');\n",
              "if (outputEl) {{\n",
              "    x.observe(outputEl, {childList: true});\n",
              "}}\n",
              "\n",
              "                        })                };                            </script>        </div>\n",
              "</body>\n",
              "</html>"
            ]
          },
          "metadata": {}
        }
      ]
    },
    {
      "cell_type": "code",
      "source": [],
      "metadata": {
        "id": "ADfIXwv9PkUo"
      },
      "execution_count": null,
      "outputs": []
    },
    {
      "cell_type": "code",
      "source": [
        "plot_diagram(diagrams[15])"
      ],
      "metadata": {
        "id": "wJ453vgcP52B",
        "colab": {
          "base_uri": "https://localhost:8080/",
          "height": 517
        },
        "outputId": "27b3a58c-917a-4619-d7a9-afd3fd1ae517"
      },
      "execution_count": null,
      "outputs": [
        {
          "output_type": "display_data",
          "data": {
            "text/html": [
              "<html>\n",
              "<head><meta charset=\"utf-8\" /></head>\n",
              "<body>\n",
              "    <div>            <script src=\"https://cdnjs.cloudflare.com/ajax/libs/mathjax/2.7.5/MathJax.js?config=TeX-AMS-MML_SVG\"></script><script type=\"text/javascript\">if (window.MathJax && window.MathJax.Hub && window.MathJax.Hub.Config) {window.MathJax.Hub.Config({SVG: {font: \"STIX-Web\"}});}</script>                <script type=\"text/javascript\">window.PlotlyConfig = {MathJaxConfig: 'local'};</script>\n",
              "        <script src=\"https://cdn.plot.ly/plotly-2.18.2.min.js\"></script>                <div id=\"c83ef853-0447-46fb-93d6-b1c0d5d5ece3\" class=\"plotly-graph-div\" style=\"height:500px; width:500px;\"></div>            <script type=\"text/javascript\">                                    window.PLOTLYENV=window.PLOTLYENV || {};                                    if (document.getElementById(\"c83ef853-0447-46fb-93d6-b1c0d5d5ece3\")) {                    Plotly.newPlot(                        \"c83ef853-0447-46fb-93d6-b1c0d5d5ece3\",                        [{\"hoverinfo\":\"none\",\"line\":{\"color\":\"black\",\"dash\":\"dash\",\"width\":1},\"mode\":\"lines\",\"showlegend\":false,\"x\":[-0.03285801649093628,1.6757588410377502],\"y\":[-0.03285801649093628,1.6757588410377502],\"type\":\"scatter\"},{\"hoverinfo\":\"text\",\"hovertext\":[\"(0.0, 0.04322267696261406)\",\"(0.0, 0.05596048757433891)\",\"(0.0, 0.06839687377214432)\",\"(0.0, 0.06868449598550797)\",\"(0.0, 0.07380002737045288)\",\"(0.0, 0.07397167384624481)\",\"(0.0, 0.07399734109640121)\",\"(0.0, 0.07807409018278122)\",\"(0.0, 0.0816284716129303)\",\"(0.0, 0.08243083208799362)\",\"(0.0, 0.0902092233300209)\",\"(0.0, 0.09096163511276245)\",\"(0.0, 0.0958394855260849)\",\"(0.0, 0.1032557561993599)\",\"(0.0, 0.10795026272535324)\",\"(0.0, 0.10862331092357635)\",\"(0.0, 0.1134144514799118)\",\"(0.0, 0.11515643447637558)\",\"(0.0, 0.12372829765081406)\",\"(0.0, 0.13227330148220062)\",\"(0.0, 0.14035657048225403)\",\"(0.0, 0.14924630522727966)\",\"(0.0, 0.157290518283844)\",\"(0.0, 0.16221164166927338)\",\"(0.0, 0.16933664679527283)\",\"(0.0, 0.16961146891117096)\",\"(0.0, 0.17631660401821136)\",\"(0.0, 0.1790716052055359)\",\"(0.0, 0.1799992322921753)\",\"(0.0, 0.18093165755271912)\",\"(0.0, 0.18341948091983795)\",\"(0.0, 0.18357670307159424)\",\"(0.0, 0.19548635184764862)\",\"(0.0, 0.20384515821933746)\",\"(0.0, 0.20575201511383057)\",\"(0.0, 0.20607559382915497)\",\"(0.0, 0.21057270467281342)\",\"(0.0, 0.21112191677093506)\",\"(0.0, 0.21283051371574402)\",\"(0.0, 0.2147468626499176)\",\"(0.0, 0.21872958540916443)\",\"(0.0, 0.22073188424110413)\",\"(0.0, 0.22077922523021698)\",\"(0.0, 0.22318188846111298)\",\"(0.0, 0.22339215874671936)\",\"(0.0, 0.22695359587669373)\",\"(0.0, 0.22867363691329956)\",\"(0.0, 0.2328297644853592)\",\"(0.0, 0.2352152168750763)\",\"(0.0, 0.23613479733467102)\",\"(0.0, 0.23661810159683228)\",\"(0.0, 0.23704615235328674)\",\"(0.0, 0.2381364405155182)\",\"(0.0, 0.24110470712184906)\",\"(0.0, 0.2412777543067932)\",\"(0.0, 0.24192681908607483)\",\"(0.0, 0.24429236352443695)\",\"(0.0, 0.2483411431312561)\",\"(0.0, 0.2499885857105255)\",\"(0.0, 0.2500210702419281)\",\"(0.0, 0.25219130516052246)\",\"(0.0, 0.2524597644805908)\",\"(0.0, 0.2544010281562805)\",\"(0.0, 0.2554629445075989)\",\"(0.0, 0.25681036710739136)\",\"(0.0, 0.25972968339920044)\",\"(0.0, 0.2625734806060791)\",\"(0.0, 0.26468154788017273)\",\"(0.0, 0.26573291420936584)\",\"(0.0, 0.26669514179229736)\",\"(0.0, 0.2676027715206146)\",\"(0.0, 0.27018430829048157)\",\"(0.0, 0.27129319310188293)\",\"(0.0, 0.2724131941795349)\",\"(0.0, 0.27872535586357117)\",\"(0.0, 0.2796618342399597)\",\"(0.0, 0.28075385093688965)\",\"(0.0, 0.2814505398273468)\",\"(0.0, 0.2858678102493286)\",\"(0.0, 0.28748175501823425)\",\"(0.0, 0.28753021359443665)\",\"(0.0, 0.29093989729881287)\",\"(0.0, 0.2920815348625183)\",\"(0.0, 0.29209619760513306)\",\"(0.0, 0.29305651783943176)\",\"(0.0, 0.3027745485305786)\",\"(0.0, 0.3088974952697754)\",\"(0.0, 0.31920698285102844)\",\"(0.0, 0.32096487283706665)\",\"(0.0, 0.3295521140098572)\",\"(0.0, 0.33297106623649597)\",\"(0.0, 0.3661864995956421)\",\"(0.0, 0.38083159923553467)\",\"(0.0, 0.386691689491272)\",\"(0.0, 0.3932557702064514)\",\"(0.0, 0.39782166481018066)\",\"(0.0, 0.4097306430339813)\",\"(0.0, 0.42014122009277344)\",\"(0.0, 0.4975487291812897)\"],\"mode\":\"markers\",\"name\":\"H0\",\"x\":[0.0,0.0,0.0,0.0,0.0,0.0,0.0,0.0,0.0,0.0,0.0,0.0,0.0,0.0,0.0,0.0,0.0,0.0,0.0,0.0,0.0,0.0,0.0,0.0,0.0,0.0,0.0,0.0,0.0,0.0,0.0,0.0,0.0,0.0,0.0,0.0,0.0,0.0,0.0,0.0,0.0,0.0,0.0,0.0,0.0,0.0,0.0,0.0,0.0,0.0,0.0,0.0,0.0,0.0,0.0,0.0,0.0,0.0,0.0,0.0,0.0,0.0,0.0,0.0,0.0,0.0,0.0,0.0,0.0,0.0,0.0,0.0,0.0,0.0,0.0,0.0,0.0,0.0,0.0,0.0,0.0,0.0,0.0,0.0,0.0,0.0,0.0,0.0,0.0,0.0,0.0,0.0,0.0,0.0,0.0,0.0,0.0,0.0,0.0],\"y\":[0.04322267696261406,0.05596048757433891,0.06839687377214432,0.06868449598550797,0.07380002737045288,0.07397167384624481,0.07399734109640121,0.07807409018278122,0.0816284716129303,0.08243083208799362,0.0902092233300209,0.09096163511276245,0.0958394855260849,0.1032557561993599,0.10795026272535324,0.10862331092357635,0.1134144514799118,0.11515643447637558,0.12372829765081406,0.13227330148220062,0.14035657048225403,0.14924630522727966,0.157290518283844,0.16221164166927338,0.16933664679527283,0.16961146891117096,0.17631660401821136,0.1790716052055359,0.1799992322921753,0.18093165755271912,0.18341948091983795,0.18357670307159424,0.19548635184764862,0.20384515821933746,0.20575201511383057,0.20607559382915497,0.21057270467281342,0.21112191677093506,0.21283051371574402,0.2147468626499176,0.21872958540916443,0.22073188424110413,0.22077922523021698,0.22318188846111298,0.22339215874671936,0.22695359587669373,0.22867363691329956,0.2328297644853592,0.2352152168750763,0.23613479733467102,0.23661810159683228,0.23704615235328674,0.2381364405155182,0.24110470712184906,0.2412777543067932,0.24192681908607483,0.24429236352443695,0.2483411431312561,0.2499885857105255,0.2500210702419281,0.25219130516052246,0.2524597644805908,0.2544010281562805,0.2554629445075989,0.25681036710739136,0.25972968339920044,0.2625734806060791,0.26468154788017273,0.26573291420936584,0.26669514179229736,0.2676027715206146,0.27018430829048157,0.27129319310188293,0.2724131941795349,0.27872535586357117,0.2796618342399597,0.28075385093688965,0.2814505398273468,0.2858678102493286,0.28748175501823425,0.28753021359443665,0.29093989729881287,0.2920815348625183,0.29209619760513306,0.29305651783943176,0.3027745485305786,0.3088974952697754,0.31920698285102844,0.32096487283706665,0.3295521140098572,0.33297106623649597,0.3661864995956421,0.38083159923553467,0.386691689491272,0.3932557702064514,0.39782166481018066,0.4097306430339813,0.42014122009277344,0.4975487291812897],\"type\":\"scatter\"},{\"hoverinfo\":\"text\",\"hovertext\":[\"(0.7228862047195435, 0.73566073179245)\",\"(0.6898586750030518, 0.8732903599739075)\",\"(0.6862419247627258, 0.7465752959251404)\",\"(0.6837146282196045, 0.8172086477279663)\",\"(0.6559417843818665, 0.6712960004806519)\",\"(0.6556970477104187, 0.6689277291297913)\",\"(0.6548499464988708, 0.8518198132514954)\",\"(0.6166417002677917, 0.735831618309021)\",\"(0.6072058081626892, 0.8850558996200562)\",\"(0.5750090479850769, 0.9095442891120911)\",\"(0.5745531320571899, 0.9024138450622559)\",\"(0.5705838203430176, 0.9086355566978455)\",\"(0.5439772009849548, 0.9125049114227295)\",\"(0.49248355627059937, 0.4976651966571808)\",\"(0.4829248785972595, 0.5030035972595215)\",\"(0.4702441990375519, 0.49858415126800537)\",\"(0.4531993567943573, 0.5340219140052795)\",\"(0.4313202500343323, 0.5280441641807556)\",\"(0.34102746844291687, 0.4242568910121918)\",\"(0.3269909918308258, 0.4147394895553589)\",\"(0.3201225697994232, 0.3973667621612549)\",\"(0.31235724687576294, 0.3248197138309479)\",\"(0.3096916973590851, 0.31571266055107117)\",\"(0.30272793769836426, 0.3372234106063843)\",\"(0.30079877376556396, 0.3200708329677582)\",\"(0.2956649959087372, 0.45672687888145447)\",\"(0.29109176993370056, 0.33462485671043396)\",\"(0.2877485752105713, 0.3508019745349884)\",\"(0.2660638689994812, 0.3575935959815979)\",\"(0.1867024302482605, 0.2180136740207672)\"],\"mode\":\"markers\",\"name\":\"H1\",\"x\":[0.7228862047195435,0.6898586750030518,0.6862419247627258,0.6837146282196045,0.6559417843818665,0.6556970477104187,0.6548499464988708,0.6166417002677917,0.6072058081626892,0.5750090479850769,0.5745531320571899,0.5705838203430176,0.5439772009849548,0.49248355627059937,0.4829248785972595,0.4702441990375519,0.4531993567943573,0.4313202500343323,0.34102746844291687,0.3269909918308258,0.3201225697994232,0.31235724687576294,0.3096916973590851,0.30272793769836426,0.30079877376556396,0.2956649959087372,0.29109176993370056,0.2877485752105713,0.2660638689994812,0.1867024302482605],\"y\":[0.73566073179245,0.8732903599739075,0.7465752959251404,0.8172086477279663,0.6712960004806519,0.6689277291297913,0.8518198132514954,0.735831618309021,0.8850558996200562,0.9095442891120911,0.9024138450622559,0.9086355566978455,0.9125049114227295,0.4976651966571808,0.5030035972595215,0.49858415126800537,0.5340219140052795,0.5280441641807556,0.4242568910121918,0.4147394895553589,0.3973667621612549,0.3248197138309479,0.31571266055107117,0.3372234106063843,0.3200708329677582,0.45672687888145447,0.33462485671043396,0.3508019745349884,0.3575935959815979,0.2180136740207672],\"type\":\"scatter\"},{\"hoverinfo\":\"text\",\"hovertext\":[\"(0.9501896500587463, 1.642900824546814)\",\"(0.9397222399711609, 0.9420503973960876)\",\"(0.9200630784034729, 0.9218259453773499)\",\"(0.9029670357704163, 0.9253448843955994)\",\"(0.7488474249839783, 0.7589932084083557)\"],\"mode\":\"markers\",\"name\":\"H2\",\"x\":[0.9501896500587463,0.9397222399711609,0.9200630784034729,0.9029670357704163,0.7488474249839783],\"y\":[1.642900824546814,0.9420503973960876,0.9218259453773499,0.9253448843955994,0.7589932084083557],\"type\":\"scatter\"}],                        {\"template\":{\"data\":{\"histogram2dcontour\":[{\"type\":\"histogram2dcontour\",\"colorbar\":{\"outlinewidth\":0,\"ticks\":\"\"},\"colorscale\":[[0.0,\"#0d0887\"],[0.1111111111111111,\"#46039f\"],[0.2222222222222222,\"#7201a8\"],[0.3333333333333333,\"#9c179e\"],[0.4444444444444444,\"#bd3786\"],[0.5555555555555556,\"#d8576b\"],[0.6666666666666666,\"#ed7953\"],[0.7777777777777778,\"#fb9f3a\"],[0.8888888888888888,\"#fdca26\"],[1.0,\"#f0f921\"]]}],\"choropleth\":[{\"type\":\"choropleth\",\"colorbar\":{\"outlinewidth\":0,\"ticks\":\"\"}}],\"histogram2d\":[{\"type\":\"histogram2d\",\"colorbar\":{\"outlinewidth\":0,\"ticks\":\"\"},\"colorscale\":[[0.0,\"#0d0887\"],[0.1111111111111111,\"#46039f\"],[0.2222222222222222,\"#7201a8\"],[0.3333333333333333,\"#9c179e\"],[0.4444444444444444,\"#bd3786\"],[0.5555555555555556,\"#d8576b\"],[0.6666666666666666,\"#ed7953\"],[0.7777777777777778,\"#fb9f3a\"],[0.8888888888888888,\"#fdca26\"],[1.0,\"#f0f921\"]]}],\"heatmap\":[{\"type\":\"heatmap\",\"colorbar\":{\"outlinewidth\":0,\"ticks\":\"\"},\"colorscale\":[[0.0,\"#0d0887\"],[0.1111111111111111,\"#46039f\"],[0.2222222222222222,\"#7201a8\"],[0.3333333333333333,\"#9c179e\"],[0.4444444444444444,\"#bd3786\"],[0.5555555555555556,\"#d8576b\"],[0.6666666666666666,\"#ed7953\"],[0.7777777777777778,\"#fb9f3a\"],[0.8888888888888888,\"#fdca26\"],[1.0,\"#f0f921\"]]}],\"heatmapgl\":[{\"type\":\"heatmapgl\",\"colorbar\":{\"outlinewidth\":0,\"ticks\":\"\"},\"colorscale\":[[0.0,\"#0d0887\"],[0.1111111111111111,\"#46039f\"],[0.2222222222222222,\"#7201a8\"],[0.3333333333333333,\"#9c179e\"],[0.4444444444444444,\"#bd3786\"],[0.5555555555555556,\"#d8576b\"],[0.6666666666666666,\"#ed7953\"],[0.7777777777777778,\"#fb9f3a\"],[0.8888888888888888,\"#fdca26\"],[1.0,\"#f0f921\"]]}],\"contourcarpet\":[{\"type\":\"contourcarpet\",\"colorbar\":{\"outlinewidth\":0,\"ticks\":\"\"}}],\"contour\":[{\"type\":\"contour\",\"colorbar\":{\"outlinewidth\":0,\"ticks\":\"\"},\"colorscale\":[[0.0,\"#0d0887\"],[0.1111111111111111,\"#46039f\"],[0.2222222222222222,\"#7201a8\"],[0.3333333333333333,\"#9c179e\"],[0.4444444444444444,\"#bd3786\"],[0.5555555555555556,\"#d8576b\"],[0.6666666666666666,\"#ed7953\"],[0.7777777777777778,\"#fb9f3a\"],[0.8888888888888888,\"#fdca26\"],[1.0,\"#f0f921\"]]}],\"surface\":[{\"type\":\"surface\",\"colorbar\":{\"outlinewidth\":0,\"ticks\":\"\"},\"colorscale\":[[0.0,\"#0d0887\"],[0.1111111111111111,\"#46039f\"],[0.2222222222222222,\"#7201a8\"],[0.3333333333333333,\"#9c179e\"],[0.4444444444444444,\"#bd3786\"],[0.5555555555555556,\"#d8576b\"],[0.6666666666666666,\"#ed7953\"],[0.7777777777777778,\"#fb9f3a\"],[0.8888888888888888,\"#fdca26\"],[1.0,\"#f0f921\"]]}],\"mesh3d\":[{\"type\":\"mesh3d\",\"colorbar\":{\"outlinewidth\":0,\"ticks\":\"\"}}],\"scatter\":[{\"fillpattern\":{\"fillmode\":\"overlay\",\"size\":10,\"solidity\":0.2},\"type\":\"scatter\"}],\"parcoords\":[{\"type\":\"parcoords\",\"line\":{\"colorbar\":{\"outlinewidth\":0,\"ticks\":\"\"}}}],\"scatterpolargl\":[{\"type\":\"scatterpolargl\",\"marker\":{\"colorbar\":{\"outlinewidth\":0,\"ticks\":\"\"}}}],\"bar\":[{\"error_x\":{\"color\":\"#2a3f5f\"},\"error_y\":{\"color\":\"#2a3f5f\"},\"marker\":{\"line\":{\"color\":\"#E5ECF6\",\"width\":0.5},\"pattern\":{\"fillmode\":\"overlay\",\"size\":10,\"solidity\":0.2}},\"type\":\"bar\"}],\"scattergeo\":[{\"type\":\"scattergeo\",\"marker\":{\"colorbar\":{\"outlinewidth\":0,\"ticks\":\"\"}}}],\"scatterpolar\":[{\"type\":\"scatterpolar\",\"marker\":{\"colorbar\":{\"outlinewidth\":0,\"ticks\":\"\"}}}],\"histogram\":[{\"marker\":{\"pattern\":{\"fillmode\":\"overlay\",\"size\":10,\"solidity\":0.2}},\"type\":\"histogram\"}],\"scattergl\":[{\"type\":\"scattergl\",\"marker\":{\"colorbar\":{\"outlinewidth\":0,\"ticks\":\"\"}}}],\"scatter3d\":[{\"type\":\"scatter3d\",\"line\":{\"colorbar\":{\"outlinewidth\":0,\"ticks\":\"\"}},\"marker\":{\"colorbar\":{\"outlinewidth\":0,\"ticks\":\"\"}}}],\"scattermapbox\":[{\"type\":\"scattermapbox\",\"marker\":{\"colorbar\":{\"outlinewidth\":0,\"ticks\":\"\"}}}],\"scatterternary\":[{\"type\":\"scatterternary\",\"marker\":{\"colorbar\":{\"outlinewidth\":0,\"ticks\":\"\"}}}],\"scattercarpet\":[{\"type\":\"scattercarpet\",\"marker\":{\"colorbar\":{\"outlinewidth\":0,\"ticks\":\"\"}}}],\"carpet\":[{\"aaxis\":{\"endlinecolor\":\"#2a3f5f\",\"gridcolor\":\"white\",\"linecolor\":\"white\",\"minorgridcolor\":\"white\",\"startlinecolor\":\"#2a3f5f\"},\"baxis\":{\"endlinecolor\":\"#2a3f5f\",\"gridcolor\":\"white\",\"linecolor\":\"white\",\"minorgridcolor\":\"white\",\"startlinecolor\":\"#2a3f5f\"},\"type\":\"carpet\"}],\"table\":[{\"cells\":{\"fill\":{\"color\":\"#EBF0F8\"},\"line\":{\"color\":\"white\"}},\"header\":{\"fill\":{\"color\":\"#C8D4E3\"},\"line\":{\"color\":\"white\"}},\"type\":\"table\"}],\"barpolar\":[{\"marker\":{\"line\":{\"color\":\"#E5ECF6\",\"width\":0.5},\"pattern\":{\"fillmode\":\"overlay\",\"size\":10,\"solidity\":0.2}},\"type\":\"barpolar\"}],\"pie\":[{\"automargin\":true,\"type\":\"pie\"}]},\"layout\":{\"autotypenumbers\":\"strict\",\"colorway\":[\"#636efa\",\"#EF553B\",\"#00cc96\",\"#ab63fa\",\"#FFA15A\",\"#19d3f3\",\"#FF6692\",\"#B6E880\",\"#FF97FF\",\"#FECB52\"],\"font\":{\"color\":\"#2a3f5f\"},\"hovermode\":\"closest\",\"hoverlabel\":{\"align\":\"left\"},\"paper_bgcolor\":\"white\",\"plot_bgcolor\":\"#E5ECF6\",\"polar\":{\"bgcolor\":\"#E5ECF6\",\"angularaxis\":{\"gridcolor\":\"white\",\"linecolor\":\"white\",\"ticks\":\"\"},\"radialaxis\":{\"gridcolor\":\"white\",\"linecolor\":\"white\",\"ticks\":\"\"}},\"ternary\":{\"bgcolor\":\"#E5ECF6\",\"aaxis\":{\"gridcolor\":\"white\",\"linecolor\":\"white\",\"ticks\":\"\"},\"baxis\":{\"gridcolor\":\"white\",\"linecolor\":\"white\",\"ticks\":\"\"},\"caxis\":{\"gridcolor\":\"white\",\"linecolor\":\"white\",\"ticks\":\"\"}},\"coloraxis\":{\"colorbar\":{\"outlinewidth\":0,\"ticks\":\"\"}},\"colorscale\":{\"sequential\":[[0.0,\"#0d0887\"],[0.1111111111111111,\"#46039f\"],[0.2222222222222222,\"#7201a8\"],[0.3333333333333333,\"#9c179e\"],[0.4444444444444444,\"#bd3786\"],[0.5555555555555556,\"#d8576b\"],[0.6666666666666666,\"#ed7953\"],[0.7777777777777778,\"#fb9f3a\"],[0.8888888888888888,\"#fdca26\"],[1.0,\"#f0f921\"]],\"sequentialminus\":[[0.0,\"#0d0887\"],[0.1111111111111111,\"#46039f\"],[0.2222222222222222,\"#7201a8\"],[0.3333333333333333,\"#9c179e\"],[0.4444444444444444,\"#bd3786\"],[0.5555555555555556,\"#d8576b\"],[0.6666666666666666,\"#ed7953\"],[0.7777777777777778,\"#fb9f3a\"],[0.8888888888888888,\"#fdca26\"],[1.0,\"#f0f921\"]],\"diverging\":[[0,\"#8e0152\"],[0.1,\"#c51b7d\"],[0.2,\"#de77ae\"],[0.3,\"#f1b6da\"],[0.4,\"#fde0ef\"],[0.5,\"#f7f7f7\"],[0.6,\"#e6f5d0\"],[0.7,\"#b8e186\"],[0.8,\"#7fbc41\"],[0.9,\"#4d9221\"],[1,\"#276419\"]]},\"xaxis\":{\"gridcolor\":\"white\",\"linecolor\":\"white\",\"ticks\":\"\",\"title\":{\"standoff\":15},\"zerolinecolor\":\"white\",\"automargin\":true,\"zerolinewidth\":2},\"yaxis\":{\"gridcolor\":\"white\",\"linecolor\":\"white\",\"ticks\":\"\",\"title\":{\"standoff\":15},\"zerolinecolor\":\"white\",\"automargin\":true,\"zerolinewidth\":2},\"scene\":{\"xaxis\":{\"backgroundcolor\":\"#E5ECF6\",\"gridcolor\":\"white\",\"linecolor\":\"white\",\"showbackground\":true,\"ticks\":\"\",\"zerolinecolor\":\"white\",\"gridwidth\":2},\"yaxis\":{\"backgroundcolor\":\"#E5ECF6\",\"gridcolor\":\"white\",\"linecolor\":\"white\",\"showbackground\":true,\"ticks\":\"\",\"zerolinecolor\":\"white\",\"gridwidth\":2},\"zaxis\":{\"backgroundcolor\":\"#E5ECF6\",\"gridcolor\":\"white\",\"linecolor\":\"white\",\"showbackground\":true,\"ticks\":\"\",\"zerolinecolor\":\"white\",\"gridwidth\":2}},\"shapedefaults\":{\"line\":{\"color\":\"#2a3f5f\"}},\"annotationdefaults\":{\"arrowcolor\":\"#2a3f5f\",\"arrowhead\":0,\"arrowwidth\":1},\"geo\":{\"bgcolor\":\"white\",\"landcolor\":\"#E5ECF6\",\"subunitcolor\":\"white\",\"showland\":true,\"showlakes\":true,\"lakecolor\":\"white\"},\"title\":{\"x\":0.05},\"mapbox\":{\"style\":\"light\"}}},\"xaxis\":{\"title\":{\"text\":\"Birth\"},\"side\":\"bottom\",\"type\":\"linear\",\"range\":[-0.03285801649093628,1.6757588410377502],\"autorange\":false,\"ticks\":\"outside\",\"showline\":true,\"zeroline\":true,\"linewidth\":1,\"linecolor\":\"black\",\"mirror\":false,\"showexponent\":\"all\",\"exponentformat\":\"e\"},\"yaxis\":{\"title\":{\"text\":\"Death\"},\"side\":\"left\",\"type\":\"linear\",\"range\":[-0.03285801649093628,1.6757588410377502],\"autorange\":false,\"scaleanchor\":\"x\",\"scaleratio\":1,\"ticks\":\"outside\",\"showline\":true,\"zeroline\":true,\"linewidth\":1,\"linecolor\":\"black\",\"mirror\":false,\"showexponent\":\"all\",\"exponentformat\":\"e\"},\"width\":500,\"height\":500,\"plot_bgcolor\":\"white\"},                        {\"responsive\": true}                    ).then(function(){\n",
              "                            \n",
              "var gd = document.getElementById('c83ef853-0447-46fb-93d6-b1c0d5d5ece3');\n",
              "var x = new MutationObserver(function (mutations, observer) {{\n",
              "        var display = window.getComputedStyle(gd).display;\n",
              "        if (!display || display === 'none') {{\n",
              "            console.log([gd, 'removed!']);\n",
              "            Plotly.purge(gd);\n",
              "            observer.disconnect();\n",
              "        }}\n",
              "}});\n",
              "\n",
              "// Listen for the removal of the full notebook cells\n",
              "var notebookContainer = gd.closest('#notebook-container');\n",
              "if (notebookContainer) {{\n",
              "    x.observe(notebookContainer, {childList: true});\n",
              "}}\n",
              "\n",
              "// Listen for the clearing of the current output cell\n",
              "var outputEl = gd.closest('.output');\n",
              "if (outputEl) {{\n",
              "    x.observe(outputEl, {childList: true});\n",
              "}}\n",
              "\n",
              "                        })                };                            </script>        </div>\n",
              "</body>\n",
              "</html>"
            ]
          },
          "metadata": {}
        }
      ]
    },
    {
      "cell_type": "code",
      "source": [
        "plot_diagram(diagrams[17])"
      ],
      "metadata": {
        "id": "etBtm2IDP7PZ",
        "colab": {
          "base_uri": "https://localhost:8080/",
          "height": 517
        },
        "outputId": "f5710e3d-5993-493f-b9b9-43826e1f5373"
      },
      "execution_count": null,
      "outputs": [
        {
          "output_type": "display_data",
          "data": {
            "text/html": [
              "<html>\n",
              "<head><meta charset=\"utf-8\" /></head>\n",
              "<body>\n",
              "    <div>            <script src=\"https://cdnjs.cloudflare.com/ajax/libs/mathjax/2.7.5/MathJax.js?config=TeX-AMS-MML_SVG\"></script><script type=\"text/javascript\">if (window.MathJax && window.MathJax.Hub && window.MathJax.Hub.Config) {window.MathJax.Hub.Config({SVG: {font: \"STIX-Web\"}});}</script>                <script type=\"text/javascript\">window.PlotlyConfig = {MathJaxConfig: 'local'};</script>\n",
              "        <script src=\"https://cdn.plot.ly/plotly-2.18.2.min.js\"></script>                <div id=\"612ee031-4b84-4922-be54-58d53cf7716c\" class=\"plotly-graph-div\" style=\"height:500px; width:500px;\"></div>            <script type=\"text/javascript\">                                    window.PLOTLYENV=window.PLOTLYENV || {};                                    if (document.getElementById(\"612ee031-4b84-4922-be54-58d53cf7716c\")) {                    Plotly.newPlot(                        \"612ee031-4b84-4922-be54-58d53cf7716c\",                        [{\"hoverinfo\":\"none\",\"line\":{\"color\":\"black\",\"dash\":\"dash\",\"width\":1},\"mode\":\"lines\",\"showlegend\":false,\"x\":[-0.03261086702346802,1.6631542181968688],\"y\":[-0.03261086702346802,1.6631542181968688],\"type\":\"scatter\"},{\"hoverinfo\":\"text\",\"hovertext\":[\"(0.0, 0.05879910662770271)\",\"(0.0, 0.061552904546260834)\",\"(0.0, 0.06399579346179962)\",\"(0.0, 0.07191068679094315)\",\"(0.0, 0.08110187202692032)\",\"(0.0, 0.08253822475671768)\",\"(0.0, 0.0905318483710289)\",\"(0.0, 0.09082234650850296)\",\"(0.0, 0.09334751218557358)\",\"(0.0, 0.09605837613344193)\",\"(0.0, 0.09732529520988464)\",\"(0.0, 0.10553830116987228)\",\"(0.0, 0.10717155039310455)\",\"(0.0, 0.11013118922710419)\",\"(0.0, 0.11463078111410141)\",\"(0.0, 0.1171034500002861)\",\"(0.0, 0.11874239146709442)\",\"(0.0, 0.12428921461105347)\",\"(0.0, 0.125509575009346)\",\"(0.0, 0.13202407956123352)\",\"(0.0, 0.13619118928909302)\",\"(0.0, 0.14112192392349243)\",\"(0.0, 0.14434216916561127)\",\"(0.0, 0.15032295882701874)\",\"(0.0, 0.15108440816402435)\",\"(0.0, 0.15369455516338348)\",\"(0.0, 0.15863700211048126)\",\"(0.0, 0.1644432246685028)\",\"(0.0, 0.17137829959392548)\",\"(0.0, 0.1724008321762085)\",\"(0.0, 0.17383471131324768)\",\"(0.0, 0.1749359667301178)\",\"(0.0, 0.18077297508716583)\",\"(0.0, 0.18120849132537842)\",\"(0.0, 0.18446722626686096)\",\"(0.0, 0.19063399732112885)\",\"(0.0, 0.19219428300857544)\",\"(0.0, 0.19259412586688995)\",\"(0.0, 0.1964319944381714)\",\"(0.0, 0.20108485221862793)\",\"(0.0, 0.20159777998924255)\",\"(0.0, 0.21094264090061188)\",\"(0.0, 0.2144685536623001)\",\"(0.0, 0.2206965833902359)\",\"(0.0, 0.22246131300926208)\",\"(0.0, 0.2225043773651123)\",\"(0.0, 0.22388847172260284)\",\"(0.0, 0.22482845187187195)\",\"(0.0, 0.22633452713489532)\",\"(0.0, 0.22923825681209564)\",\"(0.0, 0.22971223294734955)\",\"(0.0, 0.2329896241426468)\",\"(0.0, 0.23406319320201874)\",\"(0.0, 0.23783642053604126)\",\"(0.0, 0.23874884843826294)\",\"(0.0, 0.2412014901638031)\",\"(0.0, 0.2431963086128235)\",\"(0.0, 0.244032084941864)\",\"(0.0, 0.24711665511131287)\",\"(0.0, 0.2504163384437561)\",\"(0.0, 0.25066354870796204)\",\"(0.0, 0.2506978213787079)\",\"(0.0, 0.2534908950328827)\",\"(0.0, 0.255391389131546)\",\"(0.0, 0.2579285800457001)\",\"(0.0, 0.2580752372741699)\",\"(0.0, 0.25852230191230774)\",\"(0.0, 0.26218950748443604)\",\"(0.0, 0.263871967792511)\",\"(0.0, 0.2656795382499695)\",\"(0.0, 0.2741296887397766)\",\"(0.0, 0.27910593152046204)\",\"(0.0, 0.279215931892395)\",\"(0.0, 0.28450554609298706)\",\"(0.0, 0.28737908601760864)\",\"(0.0, 0.2898685932159424)\",\"(0.0, 0.28992119431495667)\",\"(0.0, 0.29222536087036133)\",\"(0.0, 0.29370445013046265)\",\"(0.0, 0.298014372587204)\",\"(0.0, 0.29959842562675476)\",\"(0.0, 0.3015999495983124)\",\"(0.0, 0.3038366436958313)\",\"(0.0, 0.30482062697410583)\",\"(0.0, 0.3103916347026825)\",\"(0.0, 0.31213459372520447)\",\"(0.0, 0.31507667899131775)\",\"(0.0, 0.3259546458721161)\",\"(0.0, 0.3284823000431061)\",\"(0.0, 0.3334069550037384)\",\"(0.0, 0.33558565378189087)\",\"(0.0, 0.3480752110481262)\",\"(0.0, 0.37327706813812256)\",\"(0.0, 0.3810565173625946)\",\"(0.0, 0.39340052008628845)\",\"(0.0, 0.4173433780670166)\",\"(0.0, 0.4358174204826355)\",\"(0.0, 0.4608577489852905)\",\"(0.0, 0.47632652521133423)\"],\"mode\":\"markers\",\"name\":\"H0\",\"x\":[0.0,0.0,0.0,0.0,0.0,0.0,0.0,0.0,0.0,0.0,0.0,0.0,0.0,0.0,0.0,0.0,0.0,0.0,0.0,0.0,0.0,0.0,0.0,0.0,0.0,0.0,0.0,0.0,0.0,0.0,0.0,0.0,0.0,0.0,0.0,0.0,0.0,0.0,0.0,0.0,0.0,0.0,0.0,0.0,0.0,0.0,0.0,0.0,0.0,0.0,0.0,0.0,0.0,0.0,0.0,0.0,0.0,0.0,0.0,0.0,0.0,0.0,0.0,0.0,0.0,0.0,0.0,0.0,0.0,0.0,0.0,0.0,0.0,0.0,0.0,0.0,0.0,0.0,0.0,0.0,0.0,0.0,0.0,0.0,0.0,0.0,0.0,0.0,0.0,0.0,0.0,0.0,0.0,0.0,0.0,0.0,0.0,0.0,0.0],\"y\":[0.05879910662770271,0.061552904546260834,0.06399579346179962,0.07191068679094315,0.08110187202692032,0.08253822475671768,0.0905318483710289,0.09082234650850296,0.09334751218557358,0.09605837613344193,0.09732529520988464,0.10553830116987228,0.10717155039310455,0.11013118922710419,0.11463078111410141,0.1171034500002861,0.11874239146709442,0.12428921461105347,0.125509575009346,0.13202407956123352,0.13619118928909302,0.14112192392349243,0.14434216916561127,0.15032295882701874,0.15108440816402435,0.15369455516338348,0.15863700211048126,0.1644432246685028,0.17137829959392548,0.1724008321762085,0.17383471131324768,0.1749359667301178,0.18077297508716583,0.18120849132537842,0.18446722626686096,0.19063399732112885,0.19219428300857544,0.19259412586688995,0.1964319944381714,0.20108485221862793,0.20159777998924255,0.21094264090061188,0.2144685536623001,0.2206965833902359,0.22246131300926208,0.2225043773651123,0.22388847172260284,0.22482845187187195,0.22633452713489532,0.22923825681209564,0.22971223294734955,0.2329896241426468,0.23406319320201874,0.23783642053604126,0.23874884843826294,0.2412014901638031,0.2431963086128235,0.244032084941864,0.24711665511131287,0.2504163384437561,0.25066354870796204,0.2506978213787079,0.2534908950328827,0.255391389131546,0.2579285800457001,0.2580752372741699,0.25852230191230774,0.26218950748443604,0.263871967792511,0.2656795382499695,0.2741296887397766,0.27910593152046204,0.279215931892395,0.28450554609298706,0.28737908601760864,0.2898685932159424,0.28992119431495667,0.29222536087036133,0.29370445013046265,0.298014372587204,0.29959842562675476,0.3015999495983124,0.3038366436958313,0.30482062697410583,0.3103916347026825,0.31213459372520447,0.31507667899131775,0.3259546458721161,0.3284823000431061,0.3334069550037384,0.33558565378189087,0.3480752110481262,0.37327706813812256,0.3810565173625946,0.39340052008628845,0.4173433780670166,0.4358174204826355,0.4608577489852905,0.47632652521133423],\"type\":\"scatter\"},{\"hoverinfo\":\"text\",\"hovertext\":[\"(0.7601622343063354, 0.7620283365249634)\",\"(0.7224074006080627, 0.8524258136749268)\",\"(0.648204505443573, 0.7299801707267761)\",\"(0.6423878073692322, 0.7373262047767639)\",\"(0.6223659515380859, 0.7148315906524658)\",\"(0.6164232492446899, 0.8048819303512573)\",\"(0.5962687134742737, 0.8983307480812073)\",\"(0.5898528695106506, 0.8100330233573914)\",\"(0.5797991156578064, 0.9162115454673767)\",\"(0.5716544389724731, 0.8885413408279419)\",\"(0.5639966726303101, 0.9125131368637085)\",\"(0.5614728331565857, 0.5742233395576477)\",\"(0.5558770298957825, 0.9191889762878418)\",\"(0.527563214302063, 0.5989363193511963)\",\"(0.46951043605804443, 0.5363203287124634)\",\"(0.4420187473297119, 0.44660383462905884)\",\"(0.41013866662979126, 0.4848235845565796)\",\"(0.3493419885635376, 0.3558419644832611)\",\"(0.34914109110832214, 0.4167742133140564)\",\"(0.3485126495361328, 0.3960348069667816)\",\"(0.3426600694656372, 0.4252776503562927)\",\"(0.3340870141983032, 0.39008811116218567)\",\"(0.3254736065864563, 0.37490352988243103)\",\"(0.3227089047431946, 0.3369685709476471)\",\"(0.30409038066864014, 0.3610994219779968)\",\"(0.3027573227882385, 0.4162027835845947)\",\"(0.2865753769874573, 0.4722903072834015)\",\"(0.27454873919487, 0.34229329228401184)\",\"(0.274429053068161, 0.32419198751449585)\",\"(0.14963513612747192, 0.24437451362609863)\"],\"mode\":\"markers\",\"name\":\"H1\",\"x\":[0.7601622343063354,0.7224074006080627,0.648204505443573,0.6423878073692322,0.6223659515380859,0.6164232492446899,0.5962687134742737,0.5898528695106506,0.5797991156578064,0.5716544389724731,0.5639966726303101,0.5614728331565857,0.5558770298957825,0.527563214302063,0.46951043605804443,0.4420187473297119,0.41013866662979126,0.3493419885635376,0.34914109110832214,0.3485126495361328,0.3426600694656372,0.3340870141983032,0.3254736065864563,0.3227089047431946,0.30409038066864014,0.3027573227882385,0.2865753769874573,0.27454873919487,0.274429053068161,0.14963513612747192],\"y\":[0.7620283365249634,0.8524258136749268,0.7299801707267761,0.7373262047767639,0.7148315906524658,0.8048819303512573,0.8983307480812073,0.8100330233573914,0.9162115454673767,0.8885413408279419,0.9125131368637085,0.5742233395576477,0.9191889762878418,0.5989363193511963,0.5363203287124634,0.44660383462905884,0.4848235845565796,0.3558419644832611,0.4167742133140564,0.3960348069667816,0.4252776503562927,0.39008811116218567,0.37490352988243103,0.3369685709476471,0.3610994219779968,0.4162027835845947,0.4722903072834015,0.34229329228401184,0.32419198751449585,0.24437451362609863],\"type\":\"scatter\"},{\"hoverinfo\":\"text\",\"hovertext\":[\"(0.9298423528671265, 1.6305433511734009)\",\"(0.9021336436271667, 0.9363585114479065)\",\"(0.5147620439529419, 0.5277619361877441)\",\"(0.4167279601097107, 0.4178125262260437)\"],\"mode\":\"markers\",\"name\":\"H2\",\"x\":[0.9298423528671265,0.9021336436271667,0.5147620439529419,0.4167279601097107],\"y\":[1.6305433511734009,0.9363585114479065,0.5277619361877441,0.4178125262260437],\"type\":\"scatter\"}],                        {\"template\":{\"data\":{\"histogram2dcontour\":[{\"type\":\"histogram2dcontour\",\"colorbar\":{\"outlinewidth\":0,\"ticks\":\"\"},\"colorscale\":[[0.0,\"#0d0887\"],[0.1111111111111111,\"#46039f\"],[0.2222222222222222,\"#7201a8\"],[0.3333333333333333,\"#9c179e\"],[0.4444444444444444,\"#bd3786\"],[0.5555555555555556,\"#d8576b\"],[0.6666666666666666,\"#ed7953\"],[0.7777777777777778,\"#fb9f3a\"],[0.8888888888888888,\"#fdca26\"],[1.0,\"#f0f921\"]]}],\"choropleth\":[{\"type\":\"choropleth\",\"colorbar\":{\"outlinewidth\":0,\"ticks\":\"\"}}],\"histogram2d\":[{\"type\":\"histogram2d\",\"colorbar\":{\"outlinewidth\":0,\"ticks\":\"\"},\"colorscale\":[[0.0,\"#0d0887\"],[0.1111111111111111,\"#46039f\"],[0.2222222222222222,\"#7201a8\"],[0.3333333333333333,\"#9c179e\"],[0.4444444444444444,\"#bd3786\"],[0.5555555555555556,\"#d8576b\"],[0.6666666666666666,\"#ed7953\"],[0.7777777777777778,\"#fb9f3a\"],[0.8888888888888888,\"#fdca26\"],[1.0,\"#f0f921\"]]}],\"heatmap\":[{\"type\":\"heatmap\",\"colorbar\":{\"outlinewidth\":0,\"ticks\":\"\"},\"colorscale\":[[0.0,\"#0d0887\"],[0.1111111111111111,\"#46039f\"],[0.2222222222222222,\"#7201a8\"],[0.3333333333333333,\"#9c179e\"],[0.4444444444444444,\"#bd3786\"],[0.5555555555555556,\"#d8576b\"],[0.6666666666666666,\"#ed7953\"],[0.7777777777777778,\"#fb9f3a\"],[0.8888888888888888,\"#fdca26\"],[1.0,\"#f0f921\"]]}],\"heatmapgl\":[{\"type\":\"heatmapgl\",\"colorbar\":{\"outlinewidth\":0,\"ticks\":\"\"},\"colorscale\":[[0.0,\"#0d0887\"],[0.1111111111111111,\"#46039f\"],[0.2222222222222222,\"#7201a8\"],[0.3333333333333333,\"#9c179e\"],[0.4444444444444444,\"#bd3786\"],[0.5555555555555556,\"#d8576b\"],[0.6666666666666666,\"#ed7953\"],[0.7777777777777778,\"#fb9f3a\"],[0.8888888888888888,\"#fdca26\"],[1.0,\"#f0f921\"]]}],\"contourcarpet\":[{\"type\":\"contourcarpet\",\"colorbar\":{\"outlinewidth\":0,\"ticks\":\"\"}}],\"contour\":[{\"type\":\"contour\",\"colorbar\":{\"outlinewidth\":0,\"ticks\":\"\"},\"colorscale\":[[0.0,\"#0d0887\"],[0.1111111111111111,\"#46039f\"],[0.2222222222222222,\"#7201a8\"],[0.3333333333333333,\"#9c179e\"],[0.4444444444444444,\"#bd3786\"],[0.5555555555555556,\"#d8576b\"],[0.6666666666666666,\"#ed7953\"],[0.7777777777777778,\"#fb9f3a\"],[0.8888888888888888,\"#fdca26\"],[1.0,\"#f0f921\"]]}],\"surface\":[{\"type\":\"surface\",\"colorbar\":{\"outlinewidth\":0,\"ticks\":\"\"},\"colorscale\":[[0.0,\"#0d0887\"],[0.1111111111111111,\"#46039f\"],[0.2222222222222222,\"#7201a8\"],[0.3333333333333333,\"#9c179e\"],[0.4444444444444444,\"#bd3786\"],[0.5555555555555556,\"#d8576b\"],[0.6666666666666666,\"#ed7953\"],[0.7777777777777778,\"#fb9f3a\"],[0.8888888888888888,\"#fdca26\"],[1.0,\"#f0f921\"]]}],\"mesh3d\":[{\"type\":\"mesh3d\",\"colorbar\":{\"outlinewidth\":0,\"ticks\":\"\"}}],\"scatter\":[{\"fillpattern\":{\"fillmode\":\"overlay\",\"size\":10,\"solidity\":0.2},\"type\":\"scatter\"}],\"parcoords\":[{\"type\":\"parcoords\",\"line\":{\"colorbar\":{\"outlinewidth\":0,\"ticks\":\"\"}}}],\"scatterpolargl\":[{\"type\":\"scatterpolargl\",\"marker\":{\"colorbar\":{\"outlinewidth\":0,\"ticks\":\"\"}}}],\"bar\":[{\"error_x\":{\"color\":\"#2a3f5f\"},\"error_y\":{\"color\":\"#2a3f5f\"},\"marker\":{\"line\":{\"color\":\"#E5ECF6\",\"width\":0.5},\"pattern\":{\"fillmode\":\"overlay\",\"size\":10,\"solidity\":0.2}},\"type\":\"bar\"}],\"scattergeo\":[{\"type\":\"scattergeo\",\"marker\":{\"colorbar\":{\"outlinewidth\":0,\"ticks\":\"\"}}}],\"scatterpolar\":[{\"type\":\"scatterpolar\",\"marker\":{\"colorbar\":{\"outlinewidth\":0,\"ticks\":\"\"}}}],\"histogram\":[{\"marker\":{\"pattern\":{\"fillmode\":\"overlay\",\"size\":10,\"solidity\":0.2}},\"type\":\"histogram\"}],\"scattergl\":[{\"type\":\"scattergl\",\"marker\":{\"colorbar\":{\"outlinewidth\":0,\"ticks\":\"\"}}}],\"scatter3d\":[{\"type\":\"scatter3d\",\"line\":{\"colorbar\":{\"outlinewidth\":0,\"ticks\":\"\"}},\"marker\":{\"colorbar\":{\"outlinewidth\":0,\"ticks\":\"\"}}}],\"scattermapbox\":[{\"type\":\"scattermapbox\",\"marker\":{\"colorbar\":{\"outlinewidth\":0,\"ticks\":\"\"}}}],\"scatterternary\":[{\"type\":\"scatterternary\",\"marker\":{\"colorbar\":{\"outlinewidth\":0,\"ticks\":\"\"}}}],\"scattercarpet\":[{\"type\":\"scattercarpet\",\"marker\":{\"colorbar\":{\"outlinewidth\":0,\"ticks\":\"\"}}}],\"carpet\":[{\"aaxis\":{\"endlinecolor\":\"#2a3f5f\",\"gridcolor\":\"white\",\"linecolor\":\"white\",\"minorgridcolor\":\"white\",\"startlinecolor\":\"#2a3f5f\"},\"baxis\":{\"endlinecolor\":\"#2a3f5f\",\"gridcolor\":\"white\",\"linecolor\":\"white\",\"minorgridcolor\":\"white\",\"startlinecolor\":\"#2a3f5f\"},\"type\":\"carpet\"}],\"table\":[{\"cells\":{\"fill\":{\"color\":\"#EBF0F8\"},\"line\":{\"color\":\"white\"}},\"header\":{\"fill\":{\"color\":\"#C8D4E3\"},\"line\":{\"color\":\"white\"}},\"type\":\"table\"}],\"barpolar\":[{\"marker\":{\"line\":{\"color\":\"#E5ECF6\",\"width\":0.5},\"pattern\":{\"fillmode\":\"overlay\",\"size\":10,\"solidity\":0.2}},\"type\":\"barpolar\"}],\"pie\":[{\"automargin\":true,\"type\":\"pie\"}]},\"layout\":{\"autotypenumbers\":\"strict\",\"colorway\":[\"#636efa\",\"#EF553B\",\"#00cc96\",\"#ab63fa\",\"#FFA15A\",\"#19d3f3\",\"#FF6692\",\"#B6E880\",\"#FF97FF\",\"#FECB52\"],\"font\":{\"color\":\"#2a3f5f\"},\"hovermode\":\"closest\",\"hoverlabel\":{\"align\":\"left\"},\"paper_bgcolor\":\"white\",\"plot_bgcolor\":\"#E5ECF6\",\"polar\":{\"bgcolor\":\"#E5ECF6\",\"angularaxis\":{\"gridcolor\":\"white\",\"linecolor\":\"white\",\"ticks\":\"\"},\"radialaxis\":{\"gridcolor\":\"white\",\"linecolor\":\"white\",\"ticks\":\"\"}},\"ternary\":{\"bgcolor\":\"#E5ECF6\",\"aaxis\":{\"gridcolor\":\"white\",\"linecolor\":\"white\",\"ticks\":\"\"},\"baxis\":{\"gridcolor\":\"white\",\"linecolor\":\"white\",\"ticks\":\"\"},\"caxis\":{\"gridcolor\":\"white\",\"linecolor\":\"white\",\"ticks\":\"\"}},\"coloraxis\":{\"colorbar\":{\"outlinewidth\":0,\"ticks\":\"\"}},\"colorscale\":{\"sequential\":[[0.0,\"#0d0887\"],[0.1111111111111111,\"#46039f\"],[0.2222222222222222,\"#7201a8\"],[0.3333333333333333,\"#9c179e\"],[0.4444444444444444,\"#bd3786\"],[0.5555555555555556,\"#d8576b\"],[0.6666666666666666,\"#ed7953\"],[0.7777777777777778,\"#fb9f3a\"],[0.8888888888888888,\"#fdca26\"],[1.0,\"#f0f921\"]],\"sequentialminus\":[[0.0,\"#0d0887\"],[0.1111111111111111,\"#46039f\"],[0.2222222222222222,\"#7201a8\"],[0.3333333333333333,\"#9c179e\"],[0.4444444444444444,\"#bd3786\"],[0.5555555555555556,\"#d8576b\"],[0.6666666666666666,\"#ed7953\"],[0.7777777777777778,\"#fb9f3a\"],[0.8888888888888888,\"#fdca26\"],[1.0,\"#f0f921\"]],\"diverging\":[[0,\"#8e0152\"],[0.1,\"#c51b7d\"],[0.2,\"#de77ae\"],[0.3,\"#f1b6da\"],[0.4,\"#fde0ef\"],[0.5,\"#f7f7f7\"],[0.6,\"#e6f5d0\"],[0.7,\"#b8e186\"],[0.8,\"#7fbc41\"],[0.9,\"#4d9221\"],[1,\"#276419\"]]},\"xaxis\":{\"gridcolor\":\"white\",\"linecolor\":\"white\",\"ticks\":\"\",\"title\":{\"standoff\":15},\"zerolinecolor\":\"white\",\"automargin\":true,\"zerolinewidth\":2},\"yaxis\":{\"gridcolor\":\"white\",\"linecolor\":\"white\",\"ticks\":\"\",\"title\":{\"standoff\":15},\"zerolinecolor\":\"white\",\"automargin\":true,\"zerolinewidth\":2},\"scene\":{\"xaxis\":{\"backgroundcolor\":\"#E5ECF6\",\"gridcolor\":\"white\",\"linecolor\":\"white\",\"showbackground\":true,\"ticks\":\"\",\"zerolinecolor\":\"white\",\"gridwidth\":2},\"yaxis\":{\"backgroundcolor\":\"#E5ECF6\",\"gridcolor\":\"white\",\"linecolor\":\"white\",\"showbackground\":true,\"ticks\":\"\",\"zerolinecolor\":\"white\",\"gridwidth\":2},\"zaxis\":{\"backgroundcolor\":\"#E5ECF6\",\"gridcolor\":\"white\",\"linecolor\":\"white\",\"showbackground\":true,\"ticks\":\"\",\"zerolinecolor\":\"white\",\"gridwidth\":2}},\"shapedefaults\":{\"line\":{\"color\":\"#2a3f5f\"}},\"annotationdefaults\":{\"arrowcolor\":\"#2a3f5f\",\"arrowhead\":0,\"arrowwidth\":1},\"geo\":{\"bgcolor\":\"white\",\"landcolor\":\"#E5ECF6\",\"subunitcolor\":\"white\",\"showland\":true,\"showlakes\":true,\"lakecolor\":\"white\"},\"title\":{\"x\":0.05},\"mapbox\":{\"style\":\"light\"}}},\"xaxis\":{\"title\":{\"text\":\"Birth\"},\"side\":\"bottom\",\"type\":\"linear\",\"range\":[-0.03261086702346802,1.6631542181968688],\"autorange\":false,\"ticks\":\"outside\",\"showline\":true,\"zeroline\":true,\"linewidth\":1,\"linecolor\":\"black\",\"mirror\":false,\"showexponent\":\"all\",\"exponentformat\":\"e\"},\"yaxis\":{\"title\":{\"text\":\"Death\"},\"side\":\"left\",\"type\":\"linear\",\"range\":[-0.03261086702346802,1.6631542181968688],\"autorange\":false,\"scaleanchor\":\"x\",\"scaleratio\":1,\"ticks\":\"outside\",\"showline\":true,\"zeroline\":true,\"linewidth\":1,\"linecolor\":\"black\",\"mirror\":false,\"showexponent\":\"all\",\"exponentformat\":\"e\"},\"width\":500,\"height\":500,\"plot_bgcolor\":\"white\"},                        {\"responsive\": true}                    ).then(function(){\n",
              "                            \n",
              "var gd = document.getElementById('612ee031-4b84-4922-be54-58d53cf7716c');\n",
              "var x = new MutationObserver(function (mutations, observer) {{\n",
              "        var display = window.getComputedStyle(gd).display;\n",
              "        if (!display || display === 'none') {{\n",
              "            console.log([gd, 'removed!']);\n",
              "            Plotly.purge(gd);\n",
              "            observer.disconnect();\n",
              "        }}\n",
              "}});\n",
              "\n",
              "// Listen for the removal of the full notebook cells\n",
              "var notebookContainer = gd.closest('#notebook-container');\n",
              "if (notebookContainer) {{\n",
              "    x.observe(notebookContainer, {childList: true});\n",
              "}}\n",
              "\n",
              "// Listen for the clearing of the current output cell\n",
              "var outputEl = gd.closest('.output');\n",
              "if (outputEl) {{\n",
              "    x.observe(outputEl, {childList: true});\n",
              "}}\n",
              "\n",
              "                        })                };                            </script>        </div>\n",
              "</body>\n",
              "</html>"
            ]
          },
          "metadata": {}
        }
      ]
    },
    {
      "cell_type": "code",
      "source": [
        "plot_diagram(diagrams[25])"
      ],
      "metadata": {
        "id": "uXp-lRl6P8hu",
        "colab": {
          "base_uri": "https://localhost:8080/",
          "height": 517
        },
        "outputId": "a246f10f-7605-460d-dbe3-185bcea1c23f"
      },
      "execution_count": null,
      "outputs": [
        {
          "output_type": "display_data",
          "data": {
            "text/html": [
              "<html>\n",
              "<head><meta charset=\"utf-8\" /></head>\n",
              "<body>\n",
              "    <div>            <script src=\"https://cdnjs.cloudflare.com/ajax/libs/mathjax/2.7.5/MathJax.js?config=TeX-AMS-MML_SVG\"></script><script type=\"text/javascript\">if (window.MathJax && window.MathJax.Hub && window.MathJax.Hub.Config) {window.MathJax.Hub.Config({SVG: {font: \"STIX-Web\"}});}</script>                <script type=\"text/javascript\">window.PlotlyConfig = {MathJaxConfig: 'local'};</script>\n",
              "        <script src=\"https://cdn.plot.ly/plotly-2.18.2.min.js\"></script>                <div id=\"ec35e698-39ef-454b-b550-69b4549a268b\" class=\"plotly-graph-div\" style=\"height:500px; width:500px;\"></div>            <script type=\"text/javascript\">                                    window.PLOTLYENV=window.PLOTLYENV || {};                                    if (document.getElementById(\"ec35e698-39ef-454b-b550-69b4549a268b\")) {                    Plotly.newPlot(                        \"ec35e698-39ef-454b-b550-69b4549a268b\",                        [{\"hoverinfo\":\"none\",\"line\":{\"color\":\"black\",\"dash\":\"dash\",\"width\":1},\"mode\":\"lines\",\"showlegend\":false,\"x\":[-0.04313791275024414,2.200033550262451],\"y\":[-0.04313791275024414,2.200033550262451],\"type\":\"scatter\"},{\"hoverinfo\":\"text\",\"hovertext\":[\"(0.0, 0.19869346916675568)\",\"(0.0, 0.20531322062015533)\",\"(0.0, 0.22253422439098358)\",\"(0.0, 0.23378315567970276)\",\"(0.0, 0.2386394739151001)\",\"(0.0, 0.2440948486328125)\",\"(0.0, 0.24803729355335236)\",\"(0.0, 0.2539069354534149)\",\"(0.0, 0.255332350730896)\",\"(0.0, 0.26150813698768616)\",\"(0.0, 0.26797422766685486)\",\"(0.0, 0.26827266812324524)\",\"(0.0, 0.2711583971977234)\",\"(0.0, 0.2717796564102173)\",\"(0.0, 0.27343297004699707)\",\"(0.0, 0.2767120599746704)\",\"(0.0, 0.2825523912906647)\",\"(0.0, 0.2831480801105499)\",\"(0.0, 0.28437864780426025)\",\"(0.0, 0.28764423727989197)\",\"(0.0, 0.2886735498905182)\",\"(0.0, 0.2904430329799652)\",\"(0.0, 0.2938833236694336)\",\"(0.0, 0.29402032494544983)\",\"(0.0, 0.2953270375728607)\",\"(0.0, 0.29653987288475037)\",\"(0.0, 0.2978934943675995)\",\"(0.0, 0.29885876178741455)\",\"(0.0, 0.3028346598148346)\",\"(0.0, 0.3070819079875946)\",\"(0.0, 0.313194215297699)\",\"(0.0, 0.31542858481407166)\",\"(0.0, 0.3172892928123474)\",\"(0.0, 0.3201163113117218)\",\"(0.0, 0.32342803478240967)\",\"(0.0, 0.32748252153396606)\",\"(0.0, 0.33105307817459106)\",\"(0.0, 0.33150482177734375)\",\"(0.0, 0.33261838555336)\",\"(0.0, 0.34360578656196594)\",\"(0.0, 0.34509479999542236)\",\"(0.0, 0.3497803509235382)\",\"(0.0, 0.3508317172527313)\",\"(0.0, 0.3526320457458496)\",\"(0.0, 0.3561616837978363)\",\"(0.0, 0.36281806230545044)\",\"(0.0, 0.3902871608734131)\",\"(0.0, 0.40316078066825867)\",\"(0.0, 0.4069098234176636)\",\"(0.0, 0.44203129410743713)\",\"(0.0, 0.4422849714756012)\",\"(0.0, 0.5138095617294312)\",\"(0.0, 0.5970276594161987)\",\"(0.0, 0.6384338140487671)\",\"(0.0, 0.64375901222229)\",\"(0.0, 0.651235818862915)\",\"(0.0, 0.6561871767044067)\",\"(0.0, 0.6615501046180725)\",\"(0.0, 0.6625645160675049)\",\"(0.0, 0.6645281314849854)\",\"(0.0, 0.6693048477172852)\",\"(0.0, 0.6723084449768066)\",\"(0.0, 0.6723583340644836)\",\"(0.0, 0.6734552979469299)\",\"(0.0, 0.6759458184242249)\",\"(0.0, 0.67891526222229)\",\"(0.0, 0.6840900182723999)\",\"(0.0, 0.6842094659805298)\",\"(0.0, 0.6867662072181702)\",\"(0.0, 0.6891824007034302)\",\"(0.0, 0.691706120967865)\",\"(0.0, 0.6947373151779175)\",\"(0.0, 0.6961939334869385)\",\"(0.0, 0.7012035250663757)\",\"(0.0, 0.7073562741279602)\",\"(0.0, 0.7087432742118835)\",\"(0.0, 0.7191461324691772)\",\"(0.0, 0.7283817529678345)\",\"(0.0, 0.730734646320343)\",\"(0.0, 0.7328681349754333)\",\"(0.0, 0.7338573336601257)\",\"(0.0, 0.7357941269874573)\",\"(0.0, 0.7413151264190674)\",\"(0.0, 0.7638512849807739)\",\"(0.0, 0.7907281517982483)\",\"(0.0, 0.885230302810669)\",\"(0.0, 0.8875692486763)\",\"(0.0, 0.8986959457397461)\",\"(0.0, 0.9002047181129456)\",\"(0.0, 0.9038977026939392)\",\"(0.0, 0.9165430665016174)\",\"(0.0, 0.9180105924606323)\",\"(0.0, 0.9232173562049866)\",\"(0.0, 0.92598956823349)\",\"(0.0, 0.9468973875045776)\",\"(0.0, 0.9504356384277344)\",\"(0.0, 0.9564963579177856)\",\"(0.0, 0.9730228781700134)\",\"(0.0, 0.9906066060066223)\"],\"mode\":\"markers\",\"name\":\"H0\",\"x\":[0.0,0.0,0.0,0.0,0.0,0.0,0.0,0.0,0.0,0.0,0.0,0.0,0.0,0.0,0.0,0.0,0.0,0.0,0.0,0.0,0.0,0.0,0.0,0.0,0.0,0.0,0.0,0.0,0.0,0.0,0.0,0.0,0.0,0.0,0.0,0.0,0.0,0.0,0.0,0.0,0.0,0.0,0.0,0.0,0.0,0.0,0.0,0.0,0.0,0.0,0.0,0.0,0.0,0.0,0.0,0.0,0.0,0.0,0.0,0.0,0.0,0.0,0.0,0.0,0.0,0.0,0.0,0.0,0.0,0.0,0.0,0.0,0.0,0.0,0.0,0.0,0.0,0.0,0.0,0.0,0.0,0.0,0.0,0.0,0.0,0.0,0.0,0.0,0.0,0.0,0.0,0.0,0.0,0.0,0.0,0.0,0.0,0.0,0.0],\"y\":[0.19869346916675568,0.20531322062015533,0.22253422439098358,0.23378315567970276,0.2386394739151001,0.2440948486328125,0.24803729355335236,0.2539069354534149,0.255332350730896,0.26150813698768616,0.26797422766685486,0.26827266812324524,0.2711583971977234,0.2717796564102173,0.27343297004699707,0.2767120599746704,0.2825523912906647,0.2831480801105499,0.28437864780426025,0.28764423727989197,0.2886735498905182,0.2904430329799652,0.2938833236694336,0.29402032494544983,0.2953270375728607,0.29653987288475037,0.2978934943675995,0.29885876178741455,0.3028346598148346,0.3070819079875946,0.313194215297699,0.31542858481407166,0.3172892928123474,0.3201163113117218,0.32342803478240967,0.32748252153396606,0.33105307817459106,0.33150482177734375,0.33261838555336,0.34360578656196594,0.34509479999542236,0.3497803509235382,0.3508317172527313,0.3526320457458496,0.3561616837978363,0.36281806230545044,0.3902871608734131,0.40316078066825867,0.4069098234176636,0.44203129410743713,0.4422849714756012,0.5138095617294312,0.5970276594161987,0.6384338140487671,0.64375901222229,0.651235818862915,0.6561871767044067,0.6615501046180725,0.6625645160675049,0.6645281314849854,0.6693048477172852,0.6723084449768066,0.6723583340644836,0.6734552979469299,0.6759458184242249,0.67891526222229,0.6840900182723999,0.6842094659805298,0.6867662072181702,0.6891824007034302,0.691706120967865,0.6947373151779175,0.6961939334869385,0.7012035250663757,0.7073562741279602,0.7087432742118835,0.7191461324691772,0.7283817529678345,0.730734646320343,0.7328681349754333,0.7338573336601257,0.7357941269874573,0.7413151264190674,0.7638512849807739,0.7907281517982483,0.885230302810669,0.8875692486763,0.8986959457397461,0.9002047181129456,0.9038977026939392,0.9165430665016174,0.9180105924606323,0.9232173562049866,0.92598956823349,0.9468973875045776,0.9504356384277344,0.9564963579177856,0.9730228781700134,0.9906066060066223],\"type\":\"scatter\"},{\"hoverinfo\":\"text\",\"hovertext\":[\"(2.056074619293213, 2.0634310245513916)\",\"(2.054182767868042, 2.0709712505340576)\",\"(1.3216794729232788, 1.4740430116653442)\",\"(1.2920798063278198, 1.4072213172912598)\",\"(1.2819101810455322, 1.450453281402588)\",\"(1.145315170288086, 1.1730940341949463)\",\"(1.0968493223190308, 1.1020976305007935)\",\"(1.0822224617004395, 1.0928025245666504)\",\"(1.0544174909591675, 1.2501726150512695)\",\"(1.054068922996521, 1.249658226966858)\",\"(1.036885142326355, 1.2119746208190918)\",\"(1.0259944200515747, 1.2044241428375244)\",\"(1.0042648315429688, 1.030326008796692)\",\"(1.0042647123336792, 1.014784812927246)\",\"(1.0023664236068726, 1.731343388557434)\",\"(0.9990976452827454, 1.0626354217529297)\",\"(0.9938409924507141, 1.822801113128662)\",\"(0.9912154078483582, 1.0153272151947021)\",\"(0.9891456961631775, 1.7387535572052002)\",\"(0.9864908456802368, 1.7520878314971924)\",\"(0.9852234125137329, 1.7789523601531982)\",\"(0.9786612391471863, 1.2526990175247192)\",\"(0.9679489135742188, 1.0361813306808472)\",\"(0.9643052220344543, 0.9718068838119507)\",\"(0.9629427790641785, 1.7361130714416504)\",\"(0.9571173787117004, 1.2314033508300781)\",\"(0.9460993409156799, 1.0691355466842651)\",\"(0.9204157590866089, 0.9985078573226929)\",\"(0.9188188910484314, 0.9281342625617981)\",\"(0.9116929173469543, 0.9627906680107117)\",\"(0.9095854759216309, 1.2066318988800049)\",\"(0.9094319343566895, 1.7445493936538696)\",\"(0.8861671686172485, 0.9018313884735107)\",\"(0.8518629670143127, 0.8589825630187988)\",\"(0.8478900194168091, 1.009331464767456)\",\"(0.8415898680686951, 1.1042673587799072)\",\"(0.8249619603157043, 1.1071721315383911)\",\"(0.8154062628746033, 1.0149415731430054)\",\"(0.7917634844779968, 0.8267973065376282)\",\"(0.7847645878791809, 0.8193218111991882)\",\"(0.7674266695976257, 0.9735000133514404)\",\"(0.7497910261154175, 0.7737997770309448)\",\"(0.743170976638794, 0.8301064968109131)\",\"(0.7333835363388062, 0.7855541110038757)\",\"(0.7298598885536194, 0.8794160485267639)\",\"(0.7239938974380493, 0.7458992600440979)\",\"(0.7192071080207825, 0.7422626614570618)\",\"(0.7191073894500732, 0.898758053779602)\",\"(0.7120697498321533, 0.7810027003288269)\",\"(0.6989119052886963, 0.8293023705482483)\",\"(0.6943061351776123, 0.751189112663269)\",\"(0.5159508585929871, 0.5524309873580933)\",\"(0.4894779920578003, 0.5037223696708679)\",\"(0.4653903543949127, 0.5013381242752075)\",\"(0.3776954710483551, 0.43275031447410583)\",\"(0.35409390926361084, 0.4460296630859375)\",\"(0.3536112606525421, 0.43494129180908203)\",\"(0.32358506321907043, 0.3825204074382782)\"],\"mode\":\"markers\",\"name\":\"H1\",\"x\":[2.056074619293213,2.054182767868042,1.3216794729232788,1.2920798063278198,1.2819101810455322,1.145315170288086,1.0968493223190308,1.0822224617004395,1.0544174909591675,1.054068922996521,1.036885142326355,1.0259944200515747,1.0042648315429688,1.0042647123336792,1.0023664236068726,0.9990976452827454,0.9938409924507141,0.9912154078483582,0.9891456961631775,0.9864908456802368,0.9852234125137329,0.9786612391471863,0.9679489135742188,0.9643052220344543,0.9629427790641785,0.9571173787117004,0.9460993409156799,0.9204157590866089,0.9188188910484314,0.9116929173469543,0.9095854759216309,0.9094319343566895,0.8861671686172485,0.8518629670143127,0.8478900194168091,0.8415898680686951,0.8249619603157043,0.8154062628746033,0.7917634844779968,0.7847645878791809,0.7674266695976257,0.7497910261154175,0.743170976638794,0.7333835363388062,0.7298598885536194,0.7239938974380493,0.7192071080207825,0.7191073894500732,0.7120697498321533,0.6989119052886963,0.6943061351776123,0.5159508585929871,0.4894779920578003,0.4653903543949127,0.3776954710483551,0.35409390926361084,0.3536112606525421,0.32358506321907043],\"y\":[2.0634310245513916,2.0709712505340576,1.4740430116653442,1.4072213172912598,1.450453281402588,1.1730940341949463,1.1020976305007935,1.0928025245666504,1.2501726150512695,1.249658226966858,1.2119746208190918,1.2044241428375244,1.030326008796692,1.014784812927246,1.731343388557434,1.0626354217529297,1.822801113128662,1.0153272151947021,1.7387535572052002,1.7520878314971924,1.7789523601531982,1.2526990175247192,1.0361813306808472,0.9718068838119507,1.7361130714416504,1.2314033508300781,1.0691355466842651,0.9985078573226929,0.9281342625617981,0.9627906680107117,1.2066318988800049,1.7445493936538696,0.9018313884735107,0.8589825630187988,1.009331464767456,1.1042673587799072,1.1071721315383911,1.0149415731430054,0.8267973065376282,0.8193218111991882,0.9735000133514404,0.7737997770309448,0.8301064968109131,0.7855541110038757,0.8794160485267639,0.7458992600440979,0.7422626614570618,0.898758053779602,0.7810027003288269,0.8293023705482483,0.751189112663269,0.5524309873580933,0.5037223696708679,0.5013381242752075,0.43275031447410583,0.4460296630859375,0.43494129180908203,0.3825204074382782],\"type\":\"scatter\"},{\"hoverinfo\":\"text\",\"hovertext\":[\"(2.1088368892669678, 2.1258084774017334)\",\"(2.1054208278656006, 2.156895637512207)\",\"(2.0730042457580566, 2.1483407020568848)\",\"(1.8941199779510498, 2.0221800804138184)\",\"(1.8384525775909424, 1.8429232835769653)\",\"(1.830315113067627, 1.8454560041427612)\",\"(1.8168390989303589, 1.8304688930511475)\",\"(1.8030965328216553, 1.804566502571106)\",\"(1.7931164503097534, 1.9635770320892334)\",\"(1.7900041341781616, 1.7927894592285156)\",\"(1.7810810804367065, 1.9342522621154785)\",\"(1.7715096473693848, 1.8670151233673096)\",\"(1.7696202993392944, 1.8896758556365967)\",\"(1.76921546459198, 1.941612720489502)\",\"(1.7645455598831177, 1.9223086833953857)\",\"(1.7587039470672607, 1.9112281799316406)\"],\"mode\":\"markers\",\"name\":\"H2\",\"x\":[2.1088368892669678,2.1054208278656006,2.0730042457580566,1.8941199779510498,1.8384525775909424,1.830315113067627,1.8168390989303589,1.8030965328216553,1.7931164503097534,1.7900041341781616,1.7810810804367065,1.7715096473693848,1.7696202993392944,1.76921546459198,1.7645455598831177,1.7587039470672607],\"y\":[2.1258084774017334,2.156895637512207,2.1483407020568848,2.0221800804138184,1.8429232835769653,1.8454560041427612,1.8304688930511475,1.804566502571106,1.9635770320892334,1.7927894592285156,1.9342522621154785,1.8670151233673096,1.8896758556365967,1.941612720489502,1.9223086833953857,1.9112281799316406],\"type\":\"scatter\"}],                        {\"template\":{\"data\":{\"histogram2dcontour\":[{\"type\":\"histogram2dcontour\",\"colorbar\":{\"outlinewidth\":0,\"ticks\":\"\"},\"colorscale\":[[0.0,\"#0d0887\"],[0.1111111111111111,\"#46039f\"],[0.2222222222222222,\"#7201a8\"],[0.3333333333333333,\"#9c179e\"],[0.4444444444444444,\"#bd3786\"],[0.5555555555555556,\"#d8576b\"],[0.6666666666666666,\"#ed7953\"],[0.7777777777777778,\"#fb9f3a\"],[0.8888888888888888,\"#fdca26\"],[1.0,\"#f0f921\"]]}],\"choropleth\":[{\"type\":\"choropleth\",\"colorbar\":{\"outlinewidth\":0,\"ticks\":\"\"}}],\"histogram2d\":[{\"type\":\"histogram2d\",\"colorbar\":{\"outlinewidth\":0,\"ticks\":\"\"},\"colorscale\":[[0.0,\"#0d0887\"],[0.1111111111111111,\"#46039f\"],[0.2222222222222222,\"#7201a8\"],[0.3333333333333333,\"#9c179e\"],[0.4444444444444444,\"#bd3786\"],[0.5555555555555556,\"#d8576b\"],[0.6666666666666666,\"#ed7953\"],[0.7777777777777778,\"#fb9f3a\"],[0.8888888888888888,\"#fdca26\"],[1.0,\"#f0f921\"]]}],\"heatmap\":[{\"type\":\"heatmap\",\"colorbar\":{\"outlinewidth\":0,\"ticks\":\"\"},\"colorscale\":[[0.0,\"#0d0887\"],[0.1111111111111111,\"#46039f\"],[0.2222222222222222,\"#7201a8\"],[0.3333333333333333,\"#9c179e\"],[0.4444444444444444,\"#bd3786\"],[0.5555555555555556,\"#d8576b\"],[0.6666666666666666,\"#ed7953\"],[0.7777777777777778,\"#fb9f3a\"],[0.8888888888888888,\"#fdca26\"],[1.0,\"#f0f921\"]]}],\"heatmapgl\":[{\"type\":\"heatmapgl\",\"colorbar\":{\"outlinewidth\":0,\"ticks\":\"\"},\"colorscale\":[[0.0,\"#0d0887\"],[0.1111111111111111,\"#46039f\"],[0.2222222222222222,\"#7201a8\"],[0.3333333333333333,\"#9c179e\"],[0.4444444444444444,\"#bd3786\"],[0.5555555555555556,\"#d8576b\"],[0.6666666666666666,\"#ed7953\"],[0.7777777777777778,\"#fb9f3a\"],[0.8888888888888888,\"#fdca26\"],[1.0,\"#f0f921\"]]}],\"contourcarpet\":[{\"type\":\"contourcarpet\",\"colorbar\":{\"outlinewidth\":0,\"ticks\":\"\"}}],\"contour\":[{\"type\":\"contour\",\"colorbar\":{\"outlinewidth\":0,\"ticks\":\"\"},\"colorscale\":[[0.0,\"#0d0887\"],[0.1111111111111111,\"#46039f\"],[0.2222222222222222,\"#7201a8\"],[0.3333333333333333,\"#9c179e\"],[0.4444444444444444,\"#bd3786\"],[0.5555555555555556,\"#d8576b\"],[0.6666666666666666,\"#ed7953\"],[0.7777777777777778,\"#fb9f3a\"],[0.8888888888888888,\"#fdca26\"],[1.0,\"#f0f921\"]]}],\"surface\":[{\"type\":\"surface\",\"colorbar\":{\"outlinewidth\":0,\"ticks\":\"\"},\"colorscale\":[[0.0,\"#0d0887\"],[0.1111111111111111,\"#46039f\"],[0.2222222222222222,\"#7201a8\"],[0.3333333333333333,\"#9c179e\"],[0.4444444444444444,\"#bd3786\"],[0.5555555555555556,\"#d8576b\"],[0.6666666666666666,\"#ed7953\"],[0.7777777777777778,\"#fb9f3a\"],[0.8888888888888888,\"#fdca26\"],[1.0,\"#f0f921\"]]}],\"mesh3d\":[{\"type\":\"mesh3d\",\"colorbar\":{\"outlinewidth\":0,\"ticks\":\"\"}}],\"scatter\":[{\"fillpattern\":{\"fillmode\":\"overlay\",\"size\":10,\"solidity\":0.2},\"type\":\"scatter\"}],\"parcoords\":[{\"type\":\"parcoords\",\"line\":{\"colorbar\":{\"outlinewidth\":0,\"ticks\":\"\"}}}],\"scatterpolargl\":[{\"type\":\"scatterpolargl\",\"marker\":{\"colorbar\":{\"outlinewidth\":0,\"ticks\":\"\"}}}],\"bar\":[{\"error_x\":{\"color\":\"#2a3f5f\"},\"error_y\":{\"color\":\"#2a3f5f\"},\"marker\":{\"line\":{\"color\":\"#E5ECF6\",\"width\":0.5},\"pattern\":{\"fillmode\":\"overlay\",\"size\":10,\"solidity\":0.2}},\"type\":\"bar\"}],\"scattergeo\":[{\"type\":\"scattergeo\",\"marker\":{\"colorbar\":{\"outlinewidth\":0,\"ticks\":\"\"}}}],\"scatterpolar\":[{\"type\":\"scatterpolar\",\"marker\":{\"colorbar\":{\"outlinewidth\":0,\"ticks\":\"\"}}}],\"histogram\":[{\"marker\":{\"pattern\":{\"fillmode\":\"overlay\",\"size\":10,\"solidity\":0.2}},\"type\":\"histogram\"}],\"scattergl\":[{\"type\":\"scattergl\",\"marker\":{\"colorbar\":{\"outlinewidth\":0,\"ticks\":\"\"}}}],\"scatter3d\":[{\"type\":\"scatter3d\",\"line\":{\"colorbar\":{\"outlinewidth\":0,\"ticks\":\"\"}},\"marker\":{\"colorbar\":{\"outlinewidth\":0,\"ticks\":\"\"}}}],\"scattermapbox\":[{\"type\":\"scattermapbox\",\"marker\":{\"colorbar\":{\"outlinewidth\":0,\"ticks\":\"\"}}}],\"scatterternary\":[{\"type\":\"scatterternary\",\"marker\":{\"colorbar\":{\"outlinewidth\":0,\"ticks\":\"\"}}}],\"scattercarpet\":[{\"type\":\"scattercarpet\",\"marker\":{\"colorbar\":{\"outlinewidth\":0,\"ticks\":\"\"}}}],\"carpet\":[{\"aaxis\":{\"endlinecolor\":\"#2a3f5f\",\"gridcolor\":\"white\",\"linecolor\":\"white\",\"minorgridcolor\":\"white\",\"startlinecolor\":\"#2a3f5f\"},\"baxis\":{\"endlinecolor\":\"#2a3f5f\",\"gridcolor\":\"white\",\"linecolor\":\"white\",\"minorgridcolor\":\"white\",\"startlinecolor\":\"#2a3f5f\"},\"type\":\"carpet\"}],\"table\":[{\"cells\":{\"fill\":{\"color\":\"#EBF0F8\"},\"line\":{\"color\":\"white\"}},\"header\":{\"fill\":{\"color\":\"#C8D4E3\"},\"line\":{\"color\":\"white\"}},\"type\":\"table\"}],\"barpolar\":[{\"marker\":{\"line\":{\"color\":\"#E5ECF6\",\"width\":0.5},\"pattern\":{\"fillmode\":\"overlay\",\"size\":10,\"solidity\":0.2}},\"type\":\"barpolar\"}],\"pie\":[{\"automargin\":true,\"type\":\"pie\"}]},\"layout\":{\"autotypenumbers\":\"strict\",\"colorway\":[\"#636efa\",\"#EF553B\",\"#00cc96\",\"#ab63fa\",\"#FFA15A\",\"#19d3f3\",\"#FF6692\",\"#B6E880\",\"#FF97FF\",\"#FECB52\"],\"font\":{\"color\":\"#2a3f5f\"},\"hovermode\":\"closest\",\"hoverlabel\":{\"align\":\"left\"},\"paper_bgcolor\":\"white\",\"plot_bgcolor\":\"#E5ECF6\",\"polar\":{\"bgcolor\":\"#E5ECF6\",\"angularaxis\":{\"gridcolor\":\"white\",\"linecolor\":\"white\",\"ticks\":\"\"},\"radialaxis\":{\"gridcolor\":\"white\",\"linecolor\":\"white\",\"ticks\":\"\"}},\"ternary\":{\"bgcolor\":\"#E5ECF6\",\"aaxis\":{\"gridcolor\":\"white\",\"linecolor\":\"white\",\"ticks\":\"\"},\"baxis\":{\"gridcolor\":\"white\",\"linecolor\":\"white\",\"ticks\":\"\"},\"caxis\":{\"gridcolor\":\"white\",\"linecolor\":\"white\",\"ticks\":\"\"}},\"coloraxis\":{\"colorbar\":{\"outlinewidth\":0,\"ticks\":\"\"}},\"colorscale\":{\"sequential\":[[0.0,\"#0d0887\"],[0.1111111111111111,\"#46039f\"],[0.2222222222222222,\"#7201a8\"],[0.3333333333333333,\"#9c179e\"],[0.4444444444444444,\"#bd3786\"],[0.5555555555555556,\"#d8576b\"],[0.6666666666666666,\"#ed7953\"],[0.7777777777777778,\"#fb9f3a\"],[0.8888888888888888,\"#fdca26\"],[1.0,\"#f0f921\"]],\"sequentialminus\":[[0.0,\"#0d0887\"],[0.1111111111111111,\"#46039f\"],[0.2222222222222222,\"#7201a8\"],[0.3333333333333333,\"#9c179e\"],[0.4444444444444444,\"#bd3786\"],[0.5555555555555556,\"#d8576b\"],[0.6666666666666666,\"#ed7953\"],[0.7777777777777778,\"#fb9f3a\"],[0.8888888888888888,\"#fdca26\"],[1.0,\"#f0f921\"]],\"diverging\":[[0,\"#8e0152\"],[0.1,\"#c51b7d\"],[0.2,\"#de77ae\"],[0.3,\"#f1b6da\"],[0.4,\"#fde0ef\"],[0.5,\"#f7f7f7\"],[0.6,\"#e6f5d0\"],[0.7,\"#b8e186\"],[0.8,\"#7fbc41\"],[0.9,\"#4d9221\"],[1,\"#276419\"]]},\"xaxis\":{\"gridcolor\":\"white\",\"linecolor\":\"white\",\"ticks\":\"\",\"title\":{\"standoff\":15},\"zerolinecolor\":\"white\",\"automargin\":true,\"zerolinewidth\":2},\"yaxis\":{\"gridcolor\":\"white\",\"linecolor\":\"white\",\"ticks\":\"\",\"title\":{\"standoff\":15},\"zerolinecolor\":\"white\",\"automargin\":true,\"zerolinewidth\":2},\"scene\":{\"xaxis\":{\"backgroundcolor\":\"#E5ECF6\",\"gridcolor\":\"white\",\"linecolor\":\"white\",\"showbackground\":true,\"ticks\":\"\",\"zerolinecolor\":\"white\",\"gridwidth\":2},\"yaxis\":{\"backgroundcolor\":\"#E5ECF6\",\"gridcolor\":\"white\",\"linecolor\":\"white\",\"showbackground\":true,\"ticks\":\"\",\"zerolinecolor\":\"white\",\"gridwidth\":2},\"zaxis\":{\"backgroundcolor\":\"#E5ECF6\",\"gridcolor\":\"white\",\"linecolor\":\"white\",\"showbackground\":true,\"ticks\":\"\",\"zerolinecolor\":\"white\",\"gridwidth\":2}},\"shapedefaults\":{\"line\":{\"color\":\"#2a3f5f\"}},\"annotationdefaults\":{\"arrowcolor\":\"#2a3f5f\",\"arrowhead\":0,\"arrowwidth\":1},\"geo\":{\"bgcolor\":\"white\",\"landcolor\":\"#E5ECF6\",\"subunitcolor\":\"white\",\"showland\":true,\"showlakes\":true,\"lakecolor\":\"white\"},\"title\":{\"x\":0.05},\"mapbox\":{\"style\":\"light\"}}},\"xaxis\":{\"title\":{\"text\":\"Birth\"},\"side\":\"bottom\",\"type\":\"linear\",\"range\":[-0.04313791275024414,2.200033550262451],\"autorange\":false,\"ticks\":\"outside\",\"showline\":true,\"zeroline\":true,\"linewidth\":1,\"linecolor\":\"black\",\"mirror\":false,\"showexponent\":\"all\",\"exponentformat\":\"e\"},\"yaxis\":{\"title\":{\"text\":\"Death\"},\"side\":\"left\",\"type\":\"linear\",\"range\":[-0.04313791275024414,2.200033550262451],\"autorange\":false,\"scaleanchor\":\"x\",\"scaleratio\":1,\"ticks\":\"outside\",\"showline\":true,\"zeroline\":true,\"linewidth\":1,\"linecolor\":\"black\",\"mirror\":false,\"showexponent\":\"all\",\"exponentformat\":\"e\"},\"width\":500,\"height\":500,\"plot_bgcolor\":\"white\"},                        {\"responsive\": true}                    ).then(function(){\n",
              "                            \n",
              "var gd = document.getElementById('ec35e698-39ef-454b-b550-69b4549a268b');\n",
              "var x = new MutationObserver(function (mutations, observer) {{\n",
              "        var display = window.getComputedStyle(gd).display;\n",
              "        if (!display || display === 'none') {{\n",
              "            console.log([gd, 'removed!']);\n",
              "            Plotly.purge(gd);\n",
              "            observer.disconnect();\n",
              "        }}\n",
              "}});\n",
              "\n",
              "// Listen for the removal of the full notebook cells\n",
              "var notebookContainer = gd.closest('#notebook-container');\n",
              "if (notebookContainer) {{\n",
              "    x.observe(notebookContainer, {childList: true});\n",
              "}}\n",
              "\n",
              "// Listen for the clearing of the current output cell\n",
              "var outputEl = gd.closest('.output');\n",
              "if (outputEl) {{\n",
              "    x.observe(outputEl, {childList: true});\n",
              "}}\n",
              "\n",
              "                        })                };                            </script>        </div>\n",
              "</body>\n",
              "</html>"
            ]
          },
          "metadata": {}
        }
      ]
    },
    {
      "cell_type": "code",
      "source": [
        "plot_diagram(diagrams[29])"
      ],
      "metadata": {
        "id": "tQvIAf9iP-8_",
        "colab": {
          "base_uri": "https://localhost:8080/",
          "height": 517
        },
        "outputId": "a7257605-9416-412b-dd72-037a06eef413"
      },
      "execution_count": null,
      "outputs": [
        {
          "output_type": "display_data",
          "data": {
            "text/html": [
              "<html>\n",
              "<head><meta charset=\"utf-8\" /></head>\n",
              "<body>\n",
              "    <div>            <script src=\"https://cdnjs.cloudflare.com/ajax/libs/mathjax/2.7.5/MathJax.js?config=TeX-AMS-MML_SVG\"></script><script type=\"text/javascript\">if (window.MathJax && window.MathJax.Hub && window.MathJax.Hub.Config) {window.MathJax.Hub.Config({SVG: {font: \"STIX-Web\"}});}</script>                <script type=\"text/javascript\">window.PlotlyConfig = {MathJaxConfig: 'local'};</script>\n",
              "        <script src=\"https://cdn.plot.ly/plotly-2.18.2.min.js\"></script>                <div id=\"ee43f592-855a-4698-b9b4-9e0a93ff1184\" class=\"plotly-graph-div\" style=\"height:500px; width:500px;\"></div>            <script type=\"text/javascript\">                                    window.PLOTLYENV=window.PLOTLYENV || {};                                    if (document.getElementById(\"ee43f592-855a-4698-b9b4-9e0a93ff1184\")) {                    Plotly.newPlot(                        \"ee43f592-855a-4698-b9b4-9e0a93ff1184\",                        [{\"hoverinfo\":\"none\",\"line\":{\"color\":\"black\",\"dash\":\"dash\",\"width\":1},\"mode\":\"lines\",\"showlegend\":false,\"x\":[-0.04376494884490967,2.232012391090393],\"y\":[-0.04376494884490967,2.232012391090393],\"type\":\"scatter\"},{\"hoverinfo\":\"text\",\"hovertext\":[\"(0.0, 0.180541530251503)\",\"(0.0, 0.2146693766117096)\",\"(0.0, 0.2268466055393219)\",\"(0.0, 0.23059116303920746)\",\"(0.0, 0.23274923861026764)\",\"(0.0, 0.23338522017002106)\",\"(0.0, 0.23638701438903809)\",\"(0.0, 0.23862005770206451)\",\"(0.0, 0.2436894029378891)\",\"(0.0, 0.24648170173168182)\",\"(0.0, 0.2511334717273712)\",\"(0.0, 0.2512648105621338)\",\"(0.0, 0.252729207277298)\",\"(0.0, 0.26007652282714844)\",\"(0.0, 0.26101401448249817)\",\"(0.0, 0.2620973587036133)\",\"(0.0, 0.2644462585449219)\",\"(0.0, 0.26448923349380493)\",\"(0.0, 0.26454392075538635)\",\"(0.0, 0.2662769556045532)\",\"(0.0, 0.2700527012348175)\",\"(0.0, 0.2707194685935974)\",\"(0.0, 0.27368929982185364)\",\"(0.0, 0.27839699387550354)\",\"(0.0, 0.27996182441711426)\",\"(0.0, 0.28132468461990356)\",\"(0.0, 0.2872808873653412)\",\"(0.0, 0.2885470688343048)\",\"(0.0, 0.2897447347640991)\",\"(0.0, 0.29043298959732056)\",\"(0.0, 0.297006219625473)\",\"(0.0, 0.2978037893772125)\",\"(0.0, 0.30245891213417053)\",\"(0.0, 0.30444568395614624)\",\"(0.0, 0.30543264746665955)\",\"(0.0, 0.3164689838886261)\",\"(0.0, 0.3206638991832733)\",\"(0.0, 0.32160234451293945)\",\"(0.0, 0.321922242641449)\",\"(0.0, 0.3354520797729492)\",\"(0.0, 0.3412752151489258)\",\"(0.0, 0.3428180515766144)\",\"(0.0, 0.34346985816955566)\",\"(0.0, 0.3462527096271515)\",\"(0.0, 0.3756028115749359)\",\"(0.0, 0.42472168803215027)\",\"(0.0, 0.4273025691509247)\",\"(0.0, 0.4539020359516144)\",\"(0.0, 0.45518937706947327)\",\"(0.0, 0.46181318163871765)\",\"(0.0, 0.491664856672287)\",\"(0.0, 0.5218510031700134)\",\"(0.0, 0.6098750829696655)\",\"(0.0, 0.6226963400840759)\",\"(0.0, 0.6355776190757751)\",\"(0.0, 0.6417412757873535)\",\"(0.0, 0.65519118309021)\",\"(0.0, 0.6554334759712219)\",\"(0.0, 0.6642820835113525)\",\"(0.0, 0.673517644405365)\",\"(0.0, 0.674014151096344)\",\"(0.0, 0.6763680577278137)\",\"(0.0, 0.6799808740615845)\",\"(0.0, 0.688042402267456)\",\"(0.0, 0.6901006102561951)\",\"(0.0, 0.6935869455337524)\",\"(0.0, 0.6938626170158386)\",\"(0.0, 0.6941794157028198)\",\"(0.0, 0.6982157230377197)\",\"(0.0, 0.7072840929031372)\",\"(0.0, 0.7103019952774048)\",\"(0.0, 0.7125170230865479)\",\"(0.0, 0.7201698422431946)\",\"(0.0, 0.7220977544784546)\",\"(0.0, 0.7306095361709595)\",\"(0.0, 0.7353765964508057)\",\"(0.0, 0.7421778440475464)\",\"(0.0, 0.7480976581573486)\",\"(0.0, 0.7487385869026184)\",\"(0.0, 0.7525842785835266)\",\"(0.0, 0.7616800665855408)\",\"(0.0, 0.762053906917572)\",\"(0.0, 0.7666679620742798)\",\"(0.0, 0.8006864786148071)\",\"(0.0, 0.8230297565460205)\",\"(0.0, 0.8528602123260498)\",\"(0.0, 0.869450569152832)\",\"(0.0, 0.8946975469589233)\",\"(0.0, 0.9024069905281067)\",\"(0.0, 0.9091783761978149)\",\"(0.0, 0.9104014039039612)\",\"(0.0, 0.9116277694702148)\",\"(0.0, 0.9121468663215637)\",\"(0.0, 0.9185502529144287)\",\"(0.0, 0.9219071865081787)\",\"(0.0, 0.939268946647644)\",\"(0.0, 0.9536765813827515)\",\"(0.0, 0.9608193039894104)\",\"(0.0, 0.9897282719612122)\"],\"mode\":\"markers\",\"name\":\"H0\",\"x\":[0.0,0.0,0.0,0.0,0.0,0.0,0.0,0.0,0.0,0.0,0.0,0.0,0.0,0.0,0.0,0.0,0.0,0.0,0.0,0.0,0.0,0.0,0.0,0.0,0.0,0.0,0.0,0.0,0.0,0.0,0.0,0.0,0.0,0.0,0.0,0.0,0.0,0.0,0.0,0.0,0.0,0.0,0.0,0.0,0.0,0.0,0.0,0.0,0.0,0.0,0.0,0.0,0.0,0.0,0.0,0.0,0.0,0.0,0.0,0.0,0.0,0.0,0.0,0.0,0.0,0.0,0.0,0.0,0.0,0.0,0.0,0.0,0.0,0.0,0.0,0.0,0.0,0.0,0.0,0.0,0.0,0.0,0.0,0.0,0.0,0.0,0.0,0.0,0.0,0.0,0.0,0.0,0.0,0.0,0.0,0.0,0.0,0.0,0.0],\"y\":[0.180541530251503,0.2146693766117096,0.2268466055393219,0.23059116303920746,0.23274923861026764,0.23338522017002106,0.23638701438903809,0.23862005770206451,0.2436894029378891,0.24648170173168182,0.2511334717273712,0.2512648105621338,0.252729207277298,0.26007652282714844,0.26101401448249817,0.2620973587036133,0.2644462585449219,0.26448923349380493,0.26454392075538635,0.2662769556045532,0.2700527012348175,0.2707194685935974,0.27368929982185364,0.27839699387550354,0.27996182441711426,0.28132468461990356,0.2872808873653412,0.2885470688343048,0.2897447347640991,0.29043298959732056,0.297006219625473,0.2978037893772125,0.30245891213417053,0.30444568395614624,0.30543264746665955,0.3164689838886261,0.3206638991832733,0.32160234451293945,0.321922242641449,0.3354520797729492,0.3412752151489258,0.3428180515766144,0.34346985816955566,0.3462527096271515,0.3756028115749359,0.42472168803215027,0.4273025691509247,0.4539020359516144,0.45518937706947327,0.46181318163871765,0.491664856672287,0.5218510031700134,0.6098750829696655,0.6226963400840759,0.6355776190757751,0.6417412757873535,0.65519118309021,0.6554334759712219,0.6642820835113525,0.673517644405365,0.674014151096344,0.6763680577278137,0.6799808740615845,0.688042402267456,0.6901006102561951,0.6935869455337524,0.6938626170158386,0.6941794157028198,0.6982157230377197,0.7072840929031372,0.7103019952774048,0.7125170230865479,0.7201698422431946,0.7220977544784546,0.7306095361709595,0.7353765964508057,0.7421778440475464,0.7480976581573486,0.7487385869026184,0.7525842785835266,0.7616800665855408,0.762053906917572,0.7666679620742798,0.8006864786148071,0.8230297565460205,0.8528602123260498,0.869450569152832,0.8946975469589233,0.9024069905281067,0.9091783761978149,0.9104014039039612,0.9116277694702148,0.9121468663215637,0.9185502529144287,0.9219071865081787,0.939268946647644,0.9536765813827515,0.9608193039894104,0.9897282719612122],\"type\":\"scatter\"},{\"hoverinfo\":\"text\",\"hovertext\":[\"(2.1045947074890137, 2.138444185256958)\",\"(1.3197623491287231, 1.4168713092803955)\",\"(1.314695119857788, 1.4595391750335693)\",\"(1.266399621963501, 1.4253798723220825)\",\"(1.1231480836868286, 1.1252402067184448)\",\"(1.09492826461792, 1.137672781944275)\",\"(1.071111798286438, 1.1447160243988037)\",\"(1.0260201692581177, 1.0323914289474487)\",\"(1.0210325717926025, 1.1328518390655518)\",\"(1.008349061012268, 1.1517432928085327)\",\"(1.0047804117202759, 1.2266207933425903)\",\"(1.0047582387924194, 1.0614399909973145)\",\"(1.0026501417160034, 1.7646347284317017)\",\"(0.9902574419975281, 1.204856514930725)\",\"(0.9867944717407227, 1.7560442686080933)\",\"(0.982998251914978, 1.0266185998916626)\",\"(0.980629563331604, 1.7949670553207397)\",\"(0.9784212112426758, 1.1720887422561646)\",\"(0.9760984778404236, 1.7685829401016235)\",\"(0.9733611345291138, 1.0671340227127075)\",\"(0.9667086005210876, 1.0043480396270752)\",\"(0.9576698541641235, 1.7421550750732422)\",\"(0.9495266675949097, 1.7750778198242188)\",\"(0.9415795207023621, 1.7624216079711914)\",\"(0.9381929636001587, 1.1928060054779053)\",\"(0.9348009824752808, 1.2457438707351685)\",\"(0.9227398037910461, 1.1590734720230103)\",\"(0.8031420111656189, 1.0984482765197754)\",\"(0.801298975944519, 1.0667749643325806)\",\"(0.7923425436019897, 0.8088716268539429)\",\"(0.7914850115776062, 1.0586955547332764)\",\"(0.7913917899131775, 0.8081557750701904)\",\"(0.7911641597747803, 0.8193051218986511)\",\"(0.7838491797447205, 0.7995539307594299)\",\"(0.7745242714881897, 0.9291205406188965)\",\"(0.7689724564552307, 0.954675555229187)\",\"(0.762413740158081, 0.7964399456977844)\",\"(0.7618667483329773, 0.9316455721855164)\",\"(0.761684238910675, 0.8115313649177551)\",\"(0.7556730508804321, 0.9761064052581787)\",\"(0.7498405575752258, 1.0172266960144043)\",\"(0.7226652503013611, 0.7659003734588623)\",\"(0.708381712436676, 0.7700586318969727)\",\"(0.6785735487937927, 0.7455488443374634)\",\"(0.5817185640335083, 0.6012782454490662)\",\"(0.581680953502655, 0.5978977084159851)\",\"(0.5206647515296936, 0.5449734926223755)\",\"(0.5122808814048767, 0.5374498963356018)\",\"(0.35884708166122437, 0.4213949143886566)\",\"(0.3558237850666046, 0.40770626068115234)\",\"(0.3223530650138855, 0.4035545587539673)\",\"(0.2759864330291748, 0.3468121290206909)\"],\"mode\":\"markers\",\"name\":\"H1\",\"x\":[2.1045947074890137,1.3197623491287231,1.314695119857788,1.266399621963501,1.1231480836868286,1.09492826461792,1.071111798286438,1.0260201692581177,1.0210325717926025,1.008349061012268,1.0047804117202759,1.0047582387924194,1.0026501417160034,0.9902574419975281,0.9867944717407227,0.982998251914978,0.980629563331604,0.9784212112426758,0.9760984778404236,0.9733611345291138,0.9667086005210876,0.9576698541641235,0.9495266675949097,0.9415795207023621,0.9381929636001587,0.9348009824752808,0.9227398037910461,0.8031420111656189,0.801298975944519,0.7923425436019897,0.7914850115776062,0.7913917899131775,0.7911641597747803,0.7838491797447205,0.7745242714881897,0.7689724564552307,0.762413740158081,0.7618667483329773,0.761684238910675,0.7556730508804321,0.7498405575752258,0.7226652503013611,0.708381712436676,0.6785735487937927,0.5817185640335083,0.581680953502655,0.5206647515296936,0.5122808814048767,0.35884708166122437,0.3558237850666046,0.3223530650138855,0.2759864330291748],\"y\":[2.138444185256958,1.4168713092803955,1.4595391750335693,1.4253798723220825,1.1252402067184448,1.137672781944275,1.1447160243988037,1.0323914289474487,1.1328518390655518,1.1517432928085327,1.2266207933425903,1.0614399909973145,1.7646347284317017,1.204856514930725,1.7560442686080933,1.0266185998916626,1.7949670553207397,1.1720887422561646,1.7685829401016235,1.0671340227127075,1.0043480396270752,1.7421550750732422,1.7750778198242188,1.7624216079711914,1.1928060054779053,1.2457438707351685,1.1590734720230103,1.0984482765197754,1.0667749643325806,0.8088716268539429,1.0586955547332764,0.8081557750701904,0.8193051218986511,0.7995539307594299,0.9291205406188965,0.954675555229187,0.7964399456977844,0.9316455721855164,0.8115313649177551,0.9761064052581787,1.0172266960144043,0.7659003734588623,0.7700586318969727,0.7455488443374634,0.6012782454490662,0.5978977084159851,0.5449734926223755,0.5374498963356018,0.4213949143886566,0.40770626068115234,0.4035545587539673,0.3468121290206909],\"type\":\"scatter\"},{\"hoverinfo\":\"text\",\"hovertext\":[\"(2.144059658050537, 2.1483066082000732)\",\"(2.13967227935791, 2.186285972595215)\",\"(2.122286081314087, 2.1534361839294434)\",\"(2.090928077697754, 2.1882474422454834)\",\"(1.862457275390625, 1.8625974655151367)\",\"(1.827629804611206, 1.8402652740478516)\",\"(1.8170051574707031, 1.9379178285598755)\",\"(1.806811809539795, 1.8439483642578125)\",\"(1.806552767753601, 1.947803020477295)\",\"(1.805848240852356, 1.940372109413147)\",\"(1.7996248006820679, 1.9639464616775513)\",\"(1.7950778007507324, 1.9291651248931885)\",\"(1.776423692703247, 1.9257986545562744)\",\"(1.742229700088501, 1.917815089225769)\"],\"mode\":\"markers\",\"name\":\"H2\",\"x\":[2.144059658050537,2.13967227935791,2.122286081314087,2.090928077697754,1.862457275390625,1.827629804611206,1.8170051574707031,1.806811809539795,1.806552767753601,1.805848240852356,1.7996248006820679,1.7950778007507324,1.776423692703247,1.742229700088501],\"y\":[2.1483066082000732,2.186285972595215,2.1534361839294434,2.1882474422454834,1.8625974655151367,1.8402652740478516,1.9379178285598755,1.8439483642578125,1.947803020477295,1.940372109413147,1.9639464616775513,1.9291651248931885,1.9257986545562744,1.917815089225769],\"type\":\"scatter\"}],                        {\"template\":{\"data\":{\"histogram2dcontour\":[{\"type\":\"histogram2dcontour\",\"colorbar\":{\"outlinewidth\":0,\"ticks\":\"\"},\"colorscale\":[[0.0,\"#0d0887\"],[0.1111111111111111,\"#46039f\"],[0.2222222222222222,\"#7201a8\"],[0.3333333333333333,\"#9c179e\"],[0.4444444444444444,\"#bd3786\"],[0.5555555555555556,\"#d8576b\"],[0.6666666666666666,\"#ed7953\"],[0.7777777777777778,\"#fb9f3a\"],[0.8888888888888888,\"#fdca26\"],[1.0,\"#f0f921\"]]}],\"choropleth\":[{\"type\":\"choropleth\",\"colorbar\":{\"outlinewidth\":0,\"ticks\":\"\"}}],\"histogram2d\":[{\"type\":\"histogram2d\",\"colorbar\":{\"outlinewidth\":0,\"ticks\":\"\"},\"colorscale\":[[0.0,\"#0d0887\"],[0.1111111111111111,\"#46039f\"],[0.2222222222222222,\"#7201a8\"],[0.3333333333333333,\"#9c179e\"],[0.4444444444444444,\"#bd3786\"],[0.5555555555555556,\"#d8576b\"],[0.6666666666666666,\"#ed7953\"],[0.7777777777777778,\"#fb9f3a\"],[0.8888888888888888,\"#fdca26\"],[1.0,\"#f0f921\"]]}],\"heatmap\":[{\"type\":\"heatmap\",\"colorbar\":{\"outlinewidth\":0,\"ticks\":\"\"},\"colorscale\":[[0.0,\"#0d0887\"],[0.1111111111111111,\"#46039f\"],[0.2222222222222222,\"#7201a8\"],[0.3333333333333333,\"#9c179e\"],[0.4444444444444444,\"#bd3786\"],[0.5555555555555556,\"#d8576b\"],[0.6666666666666666,\"#ed7953\"],[0.7777777777777778,\"#fb9f3a\"],[0.8888888888888888,\"#fdca26\"],[1.0,\"#f0f921\"]]}],\"heatmapgl\":[{\"type\":\"heatmapgl\",\"colorbar\":{\"outlinewidth\":0,\"ticks\":\"\"},\"colorscale\":[[0.0,\"#0d0887\"],[0.1111111111111111,\"#46039f\"],[0.2222222222222222,\"#7201a8\"],[0.3333333333333333,\"#9c179e\"],[0.4444444444444444,\"#bd3786\"],[0.5555555555555556,\"#d8576b\"],[0.6666666666666666,\"#ed7953\"],[0.7777777777777778,\"#fb9f3a\"],[0.8888888888888888,\"#fdca26\"],[1.0,\"#f0f921\"]]}],\"contourcarpet\":[{\"type\":\"contourcarpet\",\"colorbar\":{\"outlinewidth\":0,\"ticks\":\"\"}}],\"contour\":[{\"type\":\"contour\",\"colorbar\":{\"outlinewidth\":0,\"ticks\":\"\"},\"colorscale\":[[0.0,\"#0d0887\"],[0.1111111111111111,\"#46039f\"],[0.2222222222222222,\"#7201a8\"],[0.3333333333333333,\"#9c179e\"],[0.4444444444444444,\"#bd3786\"],[0.5555555555555556,\"#d8576b\"],[0.6666666666666666,\"#ed7953\"],[0.7777777777777778,\"#fb9f3a\"],[0.8888888888888888,\"#fdca26\"],[1.0,\"#f0f921\"]]}],\"surface\":[{\"type\":\"surface\",\"colorbar\":{\"outlinewidth\":0,\"ticks\":\"\"},\"colorscale\":[[0.0,\"#0d0887\"],[0.1111111111111111,\"#46039f\"],[0.2222222222222222,\"#7201a8\"],[0.3333333333333333,\"#9c179e\"],[0.4444444444444444,\"#bd3786\"],[0.5555555555555556,\"#d8576b\"],[0.6666666666666666,\"#ed7953\"],[0.7777777777777778,\"#fb9f3a\"],[0.8888888888888888,\"#fdca26\"],[1.0,\"#f0f921\"]]}],\"mesh3d\":[{\"type\":\"mesh3d\",\"colorbar\":{\"outlinewidth\":0,\"ticks\":\"\"}}],\"scatter\":[{\"fillpattern\":{\"fillmode\":\"overlay\",\"size\":10,\"solidity\":0.2},\"type\":\"scatter\"}],\"parcoords\":[{\"type\":\"parcoords\",\"line\":{\"colorbar\":{\"outlinewidth\":0,\"ticks\":\"\"}}}],\"scatterpolargl\":[{\"type\":\"scatterpolargl\",\"marker\":{\"colorbar\":{\"outlinewidth\":0,\"ticks\":\"\"}}}],\"bar\":[{\"error_x\":{\"color\":\"#2a3f5f\"},\"error_y\":{\"color\":\"#2a3f5f\"},\"marker\":{\"line\":{\"color\":\"#E5ECF6\",\"width\":0.5},\"pattern\":{\"fillmode\":\"overlay\",\"size\":10,\"solidity\":0.2}},\"type\":\"bar\"}],\"scattergeo\":[{\"type\":\"scattergeo\",\"marker\":{\"colorbar\":{\"outlinewidth\":0,\"ticks\":\"\"}}}],\"scatterpolar\":[{\"type\":\"scatterpolar\",\"marker\":{\"colorbar\":{\"outlinewidth\":0,\"ticks\":\"\"}}}],\"histogram\":[{\"marker\":{\"pattern\":{\"fillmode\":\"overlay\",\"size\":10,\"solidity\":0.2}},\"type\":\"histogram\"}],\"scattergl\":[{\"type\":\"scattergl\",\"marker\":{\"colorbar\":{\"outlinewidth\":0,\"ticks\":\"\"}}}],\"scatter3d\":[{\"type\":\"scatter3d\",\"line\":{\"colorbar\":{\"outlinewidth\":0,\"ticks\":\"\"}},\"marker\":{\"colorbar\":{\"outlinewidth\":0,\"ticks\":\"\"}}}],\"scattermapbox\":[{\"type\":\"scattermapbox\",\"marker\":{\"colorbar\":{\"outlinewidth\":0,\"ticks\":\"\"}}}],\"scatterternary\":[{\"type\":\"scatterternary\",\"marker\":{\"colorbar\":{\"outlinewidth\":0,\"ticks\":\"\"}}}],\"scattercarpet\":[{\"type\":\"scattercarpet\",\"marker\":{\"colorbar\":{\"outlinewidth\":0,\"ticks\":\"\"}}}],\"carpet\":[{\"aaxis\":{\"endlinecolor\":\"#2a3f5f\",\"gridcolor\":\"white\",\"linecolor\":\"white\",\"minorgridcolor\":\"white\",\"startlinecolor\":\"#2a3f5f\"},\"baxis\":{\"endlinecolor\":\"#2a3f5f\",\"gridcolor\":\"white\",\"linecolor\":\"white\",\"minorgridcolor\":\"white\",\"startlinecolor\":\"#2a3f5f\"},\"type\":\"carpet\"}],\"table\":[{\"cells\":{\"fill\":{\"color\":\"#EBF0F8\"},\"line\":{\"color\":\"white\"}},\"header\":{\"fill\":{\"color\":\"#C8D4E3\"},\"line\":{\"color\":\"white\"}},\"type\":\"table\"}],\"barpolar\":[{\"marker\":{\"line\":{\"color\":\"#E5ECF6\",\"width\":0.5},\"pattern\":{\"fillmode\":\"overlay\",\"size\":10,\"solidity\":0.2}},\"type\":\"barpolar\"}],\"pie\":[{\"automargin\":true,\"type\":\"pie\"}]},\"layout\":{\"autotypenumbers\":\"strict\",\"colorway\":[\"#636efa\",\"#EF553B\",\"#00cc96\",\"#ab63fa\",\"#FFA15A\",\"#19d3f3\",\"#FF6692\",\"#B6E880\",\"#FF97FF\",\"#FECB52\"],\"font\":{\"color\":\"#2a3f5f\"},\"hovermode\":\"closest\",\"hoverlabel\":{\"align\":\"left\"},\"paper_bgcolor\":\"white\",\"plot_bgcolor\":\"#E5ECF6\",\"polar\":{\"bgcolor\":\"#E5ECF6\",\"angularaxis\":{\"gridcolor\":\"white\",\"linecolor\":\"white\",\"ticks\":\"\"},\"radialaxis\":{\"gridcolor\":\"white\",\"linecolor\":\"white\",\"ticks\":\"\"}},\"ternary\":{\"bgcolor\":\"#E5ECF6\",\"aaxis\":{\"gridcolor\":\"white\",\"linecolor\":\"white\",\"ticks\":\"\"},\"baxis\":{\"gridcolor\":\"white\",\"linecolor\":\"white\",\"ticks\":\"\"},\"caxis\":{\"gridcolor\":\"white\",\"linecolor\":\"white\",\"ticks\":\"\"}},\"coloraxis\":{\"colorbar\":{\"outlinewidth\":0,\"ticks\":\"\"}},\"colorscale\":{\"sequential\":[[0.0,\"#0d0887\"],[0.1111111111111111,\"#46039f\"],[0.2222222222222222,\"#7201a8\"],[0.3333333333333333,\"#9c179e\"],[0.4444444444444444,\"#bd3786\"],[0.5555555555555556,\"#d8576b\"],[0.6666666666666666,\"#ed7953\"],[0.7777777777777778,\"#fb9f3a\"],[0.8888888888888888,\"#fdca26\"],[1.0,\"#f0f921\"]],\"sequentialminus\":[[0.0,\"#0d0887\"],[0.1111111111111111,\"#46039f\"],[0.2222222222222222,\"#7201a8\"],[0.3333333333333333,\"#9c179e\"],[0.4444444444444444,\"#bd3786\"],[0.5555555555555556,\"#d8576b\"],[0.6666666666666666,\"#ed7953\"],[0.7777777777777778,\"#fb9f3a\"],[0.8888888888888888,\"#fdca26\"],[1.0,\"#f0f921\"]],\"diverging\":[[0,\"#8e0152\"],[0.1,\"#c51b7d\"],[0.2,\"#de77ae\"],[0.3,\"#f1b6da\"],[0.4,\"#fde0ef\"],[0.5,\"#f7f7f7\"],[0.6,\"#e6f5d0\"],[0.7,\"#b8e186\"],[0.8,\"#7fbc41\"],[0.9,\"#4d9221\"],[1,\"#276419\"]]},\"xaxis\":{\"gridcolor\":\"white\",\"linecolor\":\"white\",\"ticks\":\"\",\"title\":{\"standoff\":15},\"zerolinecolor\":\"white\",\"automargin\":true,\"zerolinewidth\":2},\"yaxis\":{\"gridcolor\":\"white\",\"linecolor\":\"white\",\"ticks\":\"\",\"title\":{\"standoff\":15},\"zerolinecolor\":\"white\",\"automargin\":true,\"zerolinewidth\":2},\"scene\":{\"xaxis\":{\"backgroundcolor\":\"#E5ECF6\",\"gridcolor\":\"white\",\"linecolor\":\"white\",\"showbackground\":true,\"ticks\":\"\",\"zerolinecolor\":\"white\",\"gridwidth\":2},\"yaxis\":{\"backgroundcolor\":\"#E5ECF6\",\"gridcolor\":\"white\",\"linecolor\":\"white\",\"showbackground\":true,\"ticks\":\"\",\"zerolinecolor\":\"white\",\"gridwidth\":2},\"zaxis\":{\"backgroundcolor\":\"#E5ECF6\",\"gridcolor\":\"white\",\"linecolor\":\"white\",\"showbackground\":true,\"ticks\":\"\",\"zerolinecolor\":\"white\",\"gridwidth\":2}},\"shapedefaults\":{\"line\":{\"color\":\"#2a3f5f\"}},\"annotationdefaults\":{\"arrowcolor\":\"#2a3f5f\",\"arrowhead\":0,\"arrowwidth\":1},\"geo\":{\"bgcolor\":\"white\",\"landcolor\":\"#E5ECF6\",\"subunitcolor\":\"white\",\"showland\":true,\"showlakes\":true,\"lakecolor\":\"white\"},\"title\":{\"x\":0.05},\"mapbox\":{\"style\":\"light\"}}},\"xaxis\":{\"title\":{\"text\":\"Birth\"},\"side\":\"bottom\",\"type\":\"linear\",\"range\":[-0.04376494884490967,2.232012391090393],\"autorange\":false,\"ticks\":\"outside\",\"showline\":true,\"zeroline\":true,\"linewidth\":1,\"linecolor\":\"black\",\"mirror\":false,\"showexponent\":\"all\",\"exponentformat\":\"e\"},\"yaxis\":{\"title\":{\"text\":\"Death\"},\"side\":\"left\",\"type\":\"linear\",\"range\":[-0.04376494884490967,2.232012391090393],\"autorange\":false,\"scaleanchor\":\"x\",\"scaleratio\":1,\"ticks\":\"outside\",\"showline\":true,\"zeroline\":true,\"linewidth\":1,\"linecolor\":\"black\",\"mirror\":false,\"showexponent\":\"all\",\"exponentformat\":\"e\"},\"width\":500,\"height\":500,\"plot_bgcolor\":\"white\"},                        {\"responsive\": true}                    ).then(function(){\n",
              "                            \n",
              "var gd = document.getElementById('ee43f592-855a-4698-b9b4-9e0a93ff1184');\n",
              "var x = new MutationObserver(function (mutations, observer) {{\n",
              "        var display = window.getComputedStyle(gd).display;\n",
              "        if (!display || display === 'none') {{\n",
              "            console.log([gd, 'removed!']);\n",
              "            Plotly.purge(gd);\n",
              "            observer.disconnect();\n",
              "        }}\n",
              "}});\n",
              "\n",
              "// Listen for the removal of the full notebook cells\n",
              "var notebookContainer = gd.closest('#notebook-container');\n",
              "if (notebookContainer) {{\n",
              "    x.observe(notebookContainer, {childList: true});\n",
              "}}\n",
              "\n",
              "// Listen for the clearing of the current output cell\n",
              "var outputEl = gd.closest('.output');\n",
              "if (outputEl) {{\n",
              "    x.observe(outputEl, {childList: true});\n",
              "}}\n",
              "\n",
              "                        })                };                            </script>        </div>\n",
              "</body>\n",
              "</html>"
            ]
          },
          "metadata": {}
        }
      ]
    },
    {
      "cell_type": "markdown",
      "source": [
        "# **Distancia Cuello de Botella**"
      ],
      "metadata": {
        "id": "KsiVFKdse2xi"
      }
    },
    {
      "cell_type": "code",
      "source": [
        "from gtda.diagrams import PairwiseDistance"
      ],
      "metadata": {
        "id": "m8whZ6q1QAGb"
      },
      "execution_count": null,
      "outputs": []
    },
    {
      "cell_type": "code",
      "source": [
        "dist1 = PairwiseDistance(metric = 'bottleneck')\n",
        "d1 = dist1.fit(X=[diagrams[0]])\n",
        "d2 = dist1.transform([diagrams[1]])\n",
        "print(d2)"
      ],
      "metadata": {
        "id": "YBg4FOhmP9a-",
        "colab": {
          "base_uri": "https://localhost:8080/"
        },
        "outputId": "953efa29-1686-4814-e4f0-badd201093c2"
      },
      "execution_count": null,
      "outputs": [
        {
          "output_type": "stream",
          "name": "stdout",
          "text": [
            "[[0.03224662]]\n"
          ]
        }
      ]
    },
    {
      "cell_type": "code",
      "source": [
        "dist2 = PairwiseDistance(metric = 'bottleneck')\n",
        "d4 = dist2.fit(X = diagrams[0:3])\n",
        "d5 = dist2.transform(diagrams[3:6])\n",
        "print(d5)"
      ],
      "metadata": {
        "id": "W-PAscz7zi_u",
        "colab": {
          "base_uri": "https://localhost:8080/"
        },
        "outputId": "7a72a352-fec7-489e-e867-d2654030fdfc"
      },
      "execution_count": null,
      "outputs": [
        {
          "output_type": "stream",
          "name": "stdout",
          "text": [
            "[[0.02983826 0.02918523 0.03349067]\n",
            " [0.03062851 0.03475664 0.03925739]\n",
            " [0.0323929  0.04158326 0.03475823]]\n"
          ]
        }
      ]
    },
    {
      "cell_type": "code",
      "source": [],
      "metadata": {
        "id": "jIiHPc2a0Nhc"
      },
      "execution_count": null,
      "outputs": []
    },
    {
      "cell_type": "code",
      "source": [
        "dist3 = PairwiseDistance(metric = 'bottleneck')\n",
        "d6 = dist3.fit(X = [diagrams[0]])\n",
        "d7 = dist3.transform([diagrams[15]])\n",
        "print(d7)"
      ],
      "metadata": {
        "id": "SJJ-wsgFA_h9",
        "colab": {
          "base_uri": "https://localhost:8080/"
        },
        "outputId": "ea53afa4-6342-4b26-b5b1-43500612e066"
      },
      "execution_count": null,
      "outputs": [
        {
          "output_type": "stream",
          "name": "stdout",
          "text": [
            "[[0.86455665]]\n"
          ]
        }
      ]
    },
    {
      "cell_type": "code",
      "source": [
        "dist4 = PairwiseDistance(metric = 'bottleneck')\n",
        "d8 = dist4.fit(X = diagrams[0:10])\n",
        "d9 = dist4.transform(diagrams[20:30])\n",
        "print(d9)"
      ],
      "metadata": {
        "colab": {
          "base_uri": "https://localhost:8080/"
        },
        "id": "3irlSoblUwgT",
        "outputId": "0b9e01fe-ab1e-41a3-d1f1-007b8a2b154d"
      },
      "execution_count": null,
      "outputs": [
        {
          "output_type": "stream",
          "name": "stdout",
          "text": [
            "[[0.78845779 0.78707248 0.78575735 0.7888063  0.79791817 0.78775338\n",
            "  0.79238036 0.78613761 0.79111384 0.7847126 ]\n",
            " [0.79787684 0.79179535 0.79967906 0.7951661  0.80227877 0.79825452\n",
            "  0.79943536 0.80328017 0.78407174 0.78981717]\n",
            " [0.78500486 0.78203667 0.78213031 0.78455606 0.79307889 0.78285494\n",
            "  0.7876024  0.78088675 0.78490302 0.77933076]\n",
            " [0.82980482 0.81298086 0.84535759 0.82645839 0.81889272 0.84225504\n",
            "  0.82430807 0.84220232 0.79854119 0.82052568]\n",
            " [0.80890574 0.79255027 0.8223608  0.80585153 0.79813281 0.82033024\n",
            "  0.80339144 0.82181453 0.77955383 0.80053964]\n",
            " [0.81764518 0.800937   0.83246587 0.81353693 0.80752218 0.82643024\n",
            "  0.81257167 0.82955542 0.78789116 0.81120866]\n",
            " [0.81089967 0.8095206  0.80810331 0.81183971 0.82069771 0.81015542\n",
            "  0.81532243 0.80902158 0.81426051 0.80942118]\n",
            " [0.80399782 0.78903702 0.81784742 0.80258378 0.79549712 0.81572095\n",
            "  0.80109504 0.81922771 0.77346271 0.79736773]\n",
            " [0.78011393 0.76623968 0.7936045  0.77670714 0.77163226 0.7915588\n",
            "  0.77727186 0.7931307  0.75004432 0.77447293]\n",
            " [0.79951063 0.78538625 0.80498082 0.79638941 0.79118137 0.80289273\n",
            "  0.79659994 0.80441356 0.77197462 0.79086343]]\n"
          ]
        }
      ]
    },
    {
      "cell_type": "code",
      "source": [],
      "metadata": {
        "id": "XoYi-RQyVHGH"
      },
      "execution_count": null,
      "outputs": []
    }
  ]
}